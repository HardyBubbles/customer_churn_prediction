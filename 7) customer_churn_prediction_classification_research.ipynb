{
 "cells": [
  {
   "cell_type": "markdown",
   "metadata": {
    "toc": true
   },
   "source": [
    "<h1>Содержание<span class=\"tocSkip\"></span></h1>\n",
    "<div class=\"toc\"><ul class=\"toc-item\"><li><span><a href=\"#Подготовка-данных\" data-toc-modified-id=\"Подготовка-данных-1\"><span class=\"toc-item-num\">1&nbsp;&nbsp;</span>Подготовка данных</a></span><ul class=\"toc-item\"><li><span><a href=\"#Импорт-библиотек,-оценка-данных\" data-toc-modified-id=\"Импорт-библиотек,-оценка-данных-1.1\"><span class=\"toc-item-num\">1.1&nbsp;&nbsp;</span>Импорт библиотек, оценка данных</a></span><ul class=\"toc-item\"><li><span><a href=\"#Полученная-инф-я\" data-toc-modified-id=\"Полученная-инф-я-1.1.1\"><span class=\"toc-item-num\">1.1.1&nbsp;&nbsp;</span>Полученная инф-я</a></span></li></ul></li><li><span><a href=\"#Устранение-недостатков-данных\" data-toc-modified-id=\"Устранение-недостатков-данных-1.2\"><span class=\"toc-item-num\">1.2&nbsp;&nbsp;</span>Устранение недостатков данных</a></span><ul class=\"toc-item\"><li><span><a href=\"#Устранение-пропусков\" data-toc-modified-id=\"Устранение-пропусков-1.2.1\"><span class=\"toc-item-num\">1.2.1&nbsp;&nbsp;</span>Устранение пропусков</a></span></li><li><span><a href=\"#Поиск-дубликатов\" data-toc-modified-id=\"Поиск-дубликатов-1.2.2\"><span class=\"toc-item-num\">1.2.2&nbsp;&nbsp;</span>Поиск дубликатов</a></span></li><li><span><a href=\"#Оценка-значимости-колонок\" data-toc-modified-id=\"Оценка-значимости-колонок-1.2.3\"><span class=\"toc-item-num\">1.2.3&nbsp;&nbsp;</span>Оценка значимости колонок</a></span></li><li><span><a href=\"#Перекодирование-категориальных-признаков-в-числовые\" data-toc-modified-id=\"Перекодирование-категориальных-признаков-в-числовые-1.2.4\"><span class=\"toc-item-num\">1.2.4&nbsp;&nbsp;</span>Перекодирование категориальных признаков в числовые</a></span></li><li><span><a href=\"#Формирование-выборок\" data-toc-modified-id=\"Формирование-выборок-1.2.5\"><span class=\"toc-item-num\">1.2.5&nbsp;&nbsp;</span>Формирование выборок</a></span></li><li><span><a href=\"#Стандартизация-числовых-значений\" data-toc-modified-id=\"Стандартизация-числовых-значений-1.2.6\"><span class=\"toc-item-num\">1.2.6&nbsp;&nbsp;</span>Стандартизация числовых значений</a></span></li><li><span><a href=\"#Выделение-признакового-пространства-и-целевого-признака\" data-toc-modified-id=\"Выделение-признакового-пространства-и-целевого-признака-1.2.7\"><span class=\"toc-item-num\">1.2.7&nbsp;&nbsp;</span>Выделение признакового пространства и целевого признака</a></span></li></ul></li><li><span><a href=\"#Выводы\" data-toc-modified-id=\"Выводы-1.3\"><span class=\"toc-item-num\">1.3&nbsp;&nbsp;</span>Выводы</a></span></li></ul></li><li><span><a href=\"#Исследование-задачи\" data-toc-modified-id=\"Исследование-задачи-2\"><span class=\"toc-item-num\">2&nbsp;&nbsp;</span>Исследование задачи</a></span><ul class=\"toc-item\"><li><span><a href=\"#Обучение-моделей,-сравнение-показателей\" data-toc-modified-id=\"Обучение-моделей,-сравнение-показателей-2.1\"><span class=\"toc-item-num\">2.1&nbsp;&nbsp;</span>Обучение моделей, сравнение показателей</a></span></li><li><span><a href=\"#Выводы\" data-toc-modified-id=\"Выводы-2.2\"><span class=\"toc-item-num\">2.2&nbsp;&nbsp;</span>Выводы</a></span></li></ul></li><li><span><a href=\"#Борьба-с-дисбалансом\" data-toc-modified-id=\"Борьба-с-дисбалансом-3\"><span class=\"toc-item-num\">3&nbsp;&nbsp;</span>Борьба с дисбалансом</a></span><ul class=\"toc-item\"><li><span><a href=\"#Попробуем-сбалансировать-классы-&quot;взвешиванием&quot;-параметром-class_weight\" data-toc-modified-id=\"Попробуем-сбалансировать-классы-&quot;взвешиванием&quot;-параметром-class_weight-3.1\"><span class=\"toc-item-num\">3.1&nbsp;&nbsp;</span>Попробуем сбалансировать классы \"взвешиванием\" параметром <code>class_weight</code></a></span></li><li><span><a href=\"#Подготовка-обучающей-выборки\" data-toc-modified-id=\"Подготовка-обучающей-выборки-3.2\"><span class=\"toc-item-num\">3.2&nbsp;&nbsp;</span>Подготовка обучающей выборки</a></span></li><li><span><a href=\"#Измерение-показателей-качества-моделей-на-сбалансированной-обучающей-выборке\" data-toc-modified-id=\"Измерение-показателей-качества-моделей-на-сбалансированной-обучающей-выборке-3.3\"><span class=\"toc-item-num\">3.3&nbsp;&nbsp;</span>Измерение показателей качества моделей на сбалансированной обучающей выборке</a></span></li><li><span><a href=\"#Выводы\" data-toc-modified-id=\"Выводы-3.4\"><span class=\"toc-item-num\">3.4&nbsp;&nbsp;</span>Выводы</a></span></li></ul></li><li><span><a href=\"#Тестирование-модели\" data-toc-modified-id=\"Тестирование-модели-4\"><span class=\"toc-item-num\">4&nbsp;&nbsp;</span>Тестирование модели</a></span><ul class=\"toc-item\"><li><span><a href=\"#Вывод:\" data-toc-modified-id=\"Вывод:-4.1\"><span class=\"toc-item-num\">4.1&nbsp;&nbsp;</span>Вывод:</a></span></li></ul></li><li><span><a href=\"#Общие-выводы:\" data-toc-modified-id=\"Общие-выводы:-5\"><span class=\"toc-item-num\">5&nbsp;&nbsp;</span>Общие выводы:</a></span></li><li><span><a href=\"#Чек-лист-готовности-проекта\" data-toc-modified-id=\"Чек-лист-готовности-проекта-6\"><span class=\"toc-item-num\">6&nbsp;&nbsp;</span>Чек-лист готовности проекта</a></span></li><li><span><a href=\"#Финальные-комментарии-ревьюера\" data-toc-modified-id=\"Финальные-комментарии-ревьюера-7\"><span class=\"toc-item-num\">7&nbsp;&nbsp;</span>Финальные комментарии ревьюера</a></span></li></ul></div>"
   ]
  },
  {
   "cell_type": "markdown",
   "metadata": {},
   "source": [
    "# Отток клиентов"
   ]
  },
  {
   "cell_type": "markdown",
   "metadata": {},
   "source": [
    "**Описание задачи**  \n",
    "Из «Бета-Банка» стали уходить клиенты. Каждый месяц. Немного, но заметно. Банковские маркетологи посчитали: сохранять текущих клиентов дешевле, чем привлекать новых.\n",
    "\n",
    "Нужно спрогнозировать, уйдёт клиент из банка в ближайшее время или нет. Вам предоставлены исторические данные о поведении клиентов и расторжении договоров с банком. \n",
    "\n",
    "Постройте модель с предельно большим значением *F1*-меры. Чтобы сдать проект успешно, нужно довести метрику до 0.59. Проверьте *F1*-меру на тестовой выборке самостоятельно.\n",
    "\n",
    "Дополнительно измеряйте *AUC-ROC*, сравнивайте её значение с *F1*-мерой.\n",
    "\n",
    "Источник данных: [https://www.kaggle.com/barelydedicated/bank-customer-churn-modeling](https://www.kaggle.com/barelydedicated/bank-customer-churn-modeling)  \n",
    "\n",
    "**Описание данных**  \n",
    "Данные находятся в файле `/datasets/Churn.csv` (англ. «отток клиентов»).  \n",
    "*Признаки:*  \n",
    "\n",
    "    RowNumber — индекс строки в данных\n",
    "    CustomerId — уникальный идентификатор клиента\n",
    "    Surname — фамилия\n",
    "    CreditScore — кредитный рейтинг\n",
    "    Geography — страна проживания\n",
    "    Gender — пол\n",
    "    Age — возраст\n",
    "    Tenure — сколько лет человек является клиентом банка\n",
    "    Balance — баланс на счёте\n",
    "    NumOfProducts — количество продуктов банка, используемых клиентом\n",
    "    HasCrCard — наличие кредитной карты\n",
    "    IsActiveMember — активность клиента\n",
    "    EstimatedSalary — предполагаемая зарплата\n",
    "\n",
    "*Целевой признак:*  \n",
    "\n",
    "    Exited — факт ухода клиента  \n",
    "    \n",
    "**Ход выполнения проекта**  \n",
    "  1) Загрузим и подготовим данные. Поясним порядок действий;  \n",
    "  2) Исследуем баланс классов, обучим модель без учёта дисбаланса. Кратко опишим выводы;  \n",
    "  3) Улучшим качество модели, учитывая дисбаланс классов;  \n",
    "  4) Обучим разные модели и найдём лучшую. Кратко опишим выводы;  \n",
    "  5) Проведём финальное тестирование."
   ]
  },
  {
   "cell_type": "markdown",
   "metadata": {},
   "source": [
    "## Подготовка данных"
   ]
  },
  {
   "cell_type": "markdown",
   "metadata": {},
   "source": [
    "### Импорт библиотек, оценка данных"
   ]
  },
  {
   "cell_type": "markdown",
   "metadata": {},
   "source": [
    "Как всегда начинаем с импорта нужных библиотек и сохранения данных в переменную."
   ]
  },
  {
   "cell_type": "code",
   "execution_count": 1,
   "metadata": {},
   "outputs": [],
   "source": [
    "import pandas as pd\n",
    "import matplotlib.pyplot as plt\n",
    "import numpy as np\n",
    "\n",
    "from sklearn.utils import shuffle\n",
    "from sklearn.model_selection import train_test_split, GridSearchCV\n",
    "from sklearn.metrics import accuracy_score, f1_score, recall_score, precision_score, roc_auc_score, roc_curve, confusion_matrix\n",
    "\n",
    "from sklearn.linear_model import LogisticRegression\n",
    "from sklearn.ensemble import RandomForestClassifier\n",
    "from sklearn.preprocessing import StandardScaler\n",
    "from sklearn.tree import DecisionTreeClassifier\n",
    "from sklearn.dummy import DummyClassifier"
   ]
  },
  {
   "cell_type": "code",
   "execution_count": 2,
   "metadata": {},
   "outputs": [],
   "source": [
    "data = pd.read_csv('/datasets/Churn.csv')"
   ]
  },
  {
   "cell_type": "markdown",
   "metadata": {},
   "source": [
    "Сразу выводим макимум общей информации о наборе данных и изучаем её в поисках проблем"
   ]
  },
  {
   "cell_type": "code",
   "execution_count": 3,
   "metadata": {},
   "outputs": [
    {
     "name": "stdout",
     "output_type": "stream",
     "text": [
      "<class 'pandas.core.frame.DataFrame'>\n",
      "RangeIndex: 10000 entries, 0 to 9999\n",
      "Data columns (total 14 columns):\n",
      " #   Column           Non-Null Count  Dtype  \n",
      "---  ------           --------------  -----  \n",
      " 0   RowNumber        10000 non-null  int64  \n",
      " 1   CustomerId       10000 non-null  int64  \n",
      " 2   Surname          10000 non-null  object \n",
      " 3   CreditScore      10000 non-null  int64  \n",
      " 4   Geography        10000 non-null  object \n",
      " 5   Gender           10000 non-null  object \n",
      " 6   Age              10000 non-null  int64  \n",
      " 7   Tenure           9091 non-null   float64\n",
      " 8   Balance          10000 non-null  float64\n",
      " 9   NumOfProducts    10000 non-null  int64  \n",
      " 10  HasCrCard        10000 non-null  int64  \n",
      " 11  IsActiveMember   10000 non-null  int64  \n",
      " 12  EstimatedSalary  10000 non-null  float64\n",
      " 13  Exited           10000 non-null  int64  \n",
      "dtypes: float64(3), int64(8), object(3)\n",
      "memory usage: 1.1+ MB\n"
     ]
    },
    {
     "data": {
      "text/plain": [
       "None"
      ]
     },
     "metadata": {},
     "output_type": "display_data"
    },
    {
     "data": {
      "text/html": [
       "<div>\n",
       "<style scoped>\n",
       "    .dataframe tbody tr th:only-of-type {\n",
       "        vertical-align: middle;\n",
       "    }\n",
       "\n",
       "    .dataframe tbody tr th {\n",
       "        vertical-align: top;\n",
       "    }\n",
       "\n",
       "    .dataframe thead th {\n",
       "        text-align: right;\n",
       "    }\n",
       "</style>\n",
       "<table border=\"1\" class=\"dataframe\">\n",
       "  <thead>\n",
       "    <tr style=\"text-align: right;\">\n",
       "      <th></th>\n",
       "      <th>RowNumber</th>\n",
       "      <th>CustomerId</th>\n",
       "      <th>Surname</th>\n",
       "      <th>CreditScore</th>\n",
       "      <th>Geography</th>\n",
       "      <th>Gender</th>\n",
       "      <th>Age</th>\n",
       "      <th>Tenure</th>\n",
       "      <th>Balance</th>\n",
       "      <th>NumOfProducts</th>\n",
       "      <th>HasCrCard</th>\n",
       "      <th>IsActiveMember</th>\n",
       "      <th>EstimatedSalary</th>\n",
       "      <th>Exited</th>\n",
       "    </tr>\n",
       "  </thead>\n",
       "  <tbody>\n",
       "    <tr>\n",
       "      <th>0</th>\n",
       "      <td>1</td>\n",
       "      <td>15634602</td>\n",
       "      <td>Hargrave</td>\n",
       "      <td>619</td>\n",
       "      <td>France</td>\n",
       "      <td>Female</td>\n",
       "      <td>42</td>\n",
       "      <td>2.0</td>\n",
       "      <td>0.00</td>\n",
       "      <td>1</td>\n",
       "      <td>1</td>\n",
       "      <td>1</td>\n",
       "      <td>101348.88</td>\n",
       "      <td>1</td>\n",
       "    </tr>\n",
       "    <tr>\n",
       "      <th>1</th>\n",
       "      <td>2</td>\n",
       "      <td>15647311</td>\n",
       "      <td>Hill</td>\n",
       "      <td>608</td>\n",
       "      <td>Spain</td>\n",
       "      <td>Female</td>\n",
       "      <td>41</td>\n",
       "      <td>1.0</td>\n",
       "      <td>83807.86</td>\n",
       "      <td>1</td>\n",
       "      <td>0</td>\n",
       "      <td>1</td>\n",
       "      <td>112542.58</td>\n",
       "      <td>0</td>\n",
       "    </tr>\n",
       "    <tr>\n",
       "      <th>2</th>\n",
       "      <td>3</td>\n",
       "      <td>15619304</td>\n",
       "      <td>Onio</td>\n",
       "      <td>502</td>\n",
       "      <td>France</td>\n",
       "      <td>Female</td>\n",
       "      <td>42</td>\n",
       "      <td>8.0</td>\n",
       "      <td>159660.80</td>\n",
       "      <td>3</td>\n",
       "      <td>1</td>\n",
       "      <td>0</td>\n",
       "      <td>113931.57</td>\n",
       "      <td>1</td>\n",
       "    </tr>\n",
       "    <tr>\n",
       "      <th>3</th>\n",
       "      <td>4</td>\n",
       "      <td>15701354</td>\n",
       "      <td>Boni</td>\n",
       "      <td>699</td>\n",
       "      <td>France</td>\n",
       "      <td>Female</td>\n",
       "      <td>39</td>\n",
       "      <td>1.0</td>\n",
       "      <td>0.00</td>\n",
       "      <td>2</td>\n",
       "      <td>0</td>\n",
       "      <td>0</td>\n",
       "      <td>93826.63</td>\n",
       "      <td>0</td>\n",
       "    </tr>\n",
       "    <tr>\n",
       "      <th>4</th>\n",
       "      <td>5</td>\n",
       "      <td>15737888</td>\n",
       "      <td>Mitchell</td>\n",
       "      <td>850</td>\n",
       "      <td>Spain</td>\n",
       "      <td>Female</td>\n",
       "      <td>43</td>\n",
       "      <td>2.0</td>\n",
       "      <td>125510.82</td>\n",
       "      <td>1</td>\n",
       "      <td>1</td>\n",
       "      <td>1</td>\n",
       "      <td>79084.10</td>\n",
       "      <td>0</td>\n",
       "    </tr>\n",
       "  </tbody>\n",
       "</table>\n",
       "</div>"
      ],
      "text/plain": [
       "   RowNumber  CustomerId   Surname  CreditScore Geography  Gender  Age  \\\n",
       "0          1    15634602  Hargrave          619    France  Female   42   \n",
       "1          2    15647311      Hill          608     Spain  Female   41   \n",
       "2          3    15619304      Onio          502    France  Female   42   \n",
       "3          4    15701354      Boni          699    France  Female   39   \n",
       "4          5    15737888  Mitchell          850     Spain  Female   43   \n",
       "\n",
       "   Tenure    Balance  NumOfProducts  HasCrCard  IsActiveMember  \\\n",
       "0     2.0       0.00              1          1               1   \n",
       "1     1.0   83807.86              1          0               1   \n",
       "2     8.0  159660.80              3          1               0   \n",
       "3     1.0       0.00              2          0               0   \n",
       "4     2.0  125510.82              1          1               1   \n",
       "\n",
       "   EstimatedSalary  Exited  \n",
       "0        101348.88       1  \n",
       "1        112542.58       0  \n",
       "2        113931.57       1  \n",
       "3         93826.63       0  \n",
       "4         79084.10       0  "
      ]
     },
     "metadata": {},
     "output_type": "display_data"
    },
    {
     "data": {
      "text/html": [
       "<div>\n",
       "<style scoped>\n",
       "    .dataframe tbody tr th:only-of-type {\n",
       "        vertical-align: middle;\n",
       "    }\n",
       "\n",
       "    .dataframe tbody tr th {\n",
       "        vertical-align: top;\n",
       "    }\n",
       "\n",
       "    .dataframe thead th {\n",
       "        text-align: right;\n",
       "    }\n",
       "</style>\n",
       "<table border=\"1\" class=\"dataframe\">\n",
       "  <thead>\n",
       "    <tr style=\"text-align: right;\">\n",
       "      <th></th>\n",
       "      <th>RowNumber</th>\n",
       "      <th>CustomerId</th>\n",
       "      <th>CreditScore</th>\n",
       "      <th>Age</th>\n",
       "      <th>Tenure</th>\n",
       "      <th>Balance</th>\n",
       "      <th>NumOfProducts</th>\n",
       "      <th>HasCrCard</th>\n",
       "      <th>IsActiveMember</th>\n",
       "      <th>EstimatedSalary</th>\n",
       "      <th>Exited</th>\n",
       "    </tr>\n",
       "  </thead>\n",
       "  <tbody>\n",
       "    <tr>\n",
       "      <th>count</th>\n",
       "      <td>10000.00000</td>\n",
       "      <td>1.000000e+04</td>\n",
       "      <td>10000.000000</td>\n",
       "      <td>10000.000000</td>\n",
       "      <td>9091.000000</td>\n",
       "      <td>10000.000000</td>\n",
       "      <td>10000.000000</td>\n",
       "      <td>10000.00000</td>\n",
       "      <td>10000.000000</td>\n",
       "      <td>10000.000000</td>\n",
       "      <td>10000.000000</td>\n",
       "    </tr>\n",
       "    <tr>\n",
       "      <th>mean</th>\n",
       "      <td>5000.50000</td>\n",
       "      <td>1.569094e+07</td>\n",
       "      <td>650.528800</td>\n",
       "      <td>38.921800</td>\n",
       "      <td>4.997690</td>\n",
       "      <td>76485.889288</td>\n",
       "      <td>1.530200</td>\n",
       "      <td>0.70550</td>\n",
       "      <td>0.515100</td>\n",
       "      <td>100090.239881</td>\n",
       "      <td>0.203700</td>\n",
       "    </tr>\n",
       "    <tr>\n",
       "      <th>std</th>\n",
       "      <td>2886.89568</td>\n",
       "      <td>7.193619e+04</td>\n",
       "      <td>96.653299</td>\n",
       "      <td>10.487806</td>\n",
       "      <td>2.894723</td>\n",
       "      <td>62397.405202</td>\n",
       "      <td>0.581654</td>\n",
       "      <td>0.45584</td>\n",
       "      <td>0.499797</td>\n",
       "      <td>57510.492818</td>\n",
       "      <td>0.402769</td>\n",
       "    </tr>\n",
       "    <tr>\n",
       "      <th>min</th>\n",
       "      <td>1.00000</td>\n",
       "      <td>1.556570e+07</td>\n",
       "      <td>350.000000</td>\n",
       "      <td>18.000000</td>\n",
       "      <td>0.000000</td>\n",
       "      <td>0.000000</td>\n",
       "      <td>1.000000</td>\n",
       "      <td>0.00000</td>\n",
       "      <td>0.000000</td>\n",
       "      <td>11.580000</td>\n",
       "      <td>0.000000</td>\n",
       "    </tr>\n",
       "    <tr>\n",
       "      <th>25%</th>\n",
       "      <td>2500.75000</td>\n",
       "      <td>1.562853e+07</td>\n",
       "      <td>584.000000</td>\n",
       "      <td>32.000000</td>\n",
       "      <td>2.000000</td>\n",
       "      <td>0.000000</td>\n",
       "      <td>1.000000</td>\n",
       "      <td>0.00000</td>\n",
       "      <td>0.000000</td>\n",
       "      <td>51002.110000</td>\n",
       "      <td>0.000000</td>\n",
       "    </tr>\n",
       "    <tr>\n",
       "      <th>50%</th>\n",
       "      <td>5000.50000</td>\n",
       "      <td>1.569074e+07</td>\n",
       "      <td>652.000000</td>\n",
       "      <td>37.000000</td>\n",
       "      <td>5.000000</td>\n",
       "      <td>97198.540000</td>\n",
       "      <td>1.000000</td>\n",
       "      <td>1.00000</td>\n",
       "      <td>1.000000</td>\n",
       "      <td>100193.915000</td>\n",
       "      <td>0.000000</td>\n",
       "    </tr>\n",
       "    <tr>\n",
       "      <th>75%</th>\n",
       "      <td>7500.25000</td>\n",
       "      <td>1.575323e+07</td>\n",
       "      <td>718.000000</td>\n",
       "      <td>44.000000</td>\n",
       "      <td>7.000000</td>\n",
       "      <td>127644.240000</td>\n",
       "      <td>2.000000</td>\n",
       "      <td>1.00000</td>\n",
       "      <td>1.000000</td>\n",
       "      <td>149388.247500</td>\n",
       "      <td>0.000000</td>\n",
       "    </tr>\n",
       "    <tr>\n",
       "      <th>max</th>\n",
       "      <td>10000.00000</td>\n",
       "      <td>1.581569e+07</td>\n",
       "      <td>850.000000</td>\n",
       "      <td>92.000000</td>\n",
       "      <td>10.000000</td>\n",
       "      <td>250898.090000</td>\n",
       "      <td>4.000000</td>\n",
       "      <td>1.00000</td>\n",
       "      <td>1.000000</td>\n",
       "      <td>199992.480000</td>\n",
       "      <td>1.000000</td>\n",
       "    </tr>\n",
       "  </tbody>\n",
       "</table>\n",
       "</div>"
      ],
      "text/plain": [
       "         RowNumber    CustomerId   CreditScore           Age       Tenure  \\\n",
       "count  10000.00000  1.000000e+04  10000.000000  10000.000000  9091.000000   \n",
       "mean    5000.50000  1.569094e+07    650.528800     38.921800     4.997690   \n",
       "std     2886.89568  7.193619e+04     96.653299     10.487806     2.894723   \n",
       "min        1.00000  1.556570e+07    350.000000     18.000000     0.000000   \n",
       "25%     2500.75000  1.562853e+07    584.000000     32.000000     2.000000   \n",
       "50%     5000.50000  1.569074e+07    652.000000     37.000000     5.000000   \n",
       "75%     7500.25000  1.575323e+07    718.000000     44.000000     7.000000   \n",
       "max    10000.00000  1.581569e+07    850.000000     92.000000    10.000000   \n",
       "\n",
       "             Balance  NumOfProducts    HasCrCard  IsActiveMember  \\\n",
       "count   10000.000000   10000.000000  10000.00000    10000.000000   \n",
       "mean    76485.889288       1.530200      0.70550        0.515100   \n",
       "std     62397.405202       0.581654      0.45584        0.499797   \n",
       "min         0.000000       1.000000      0.00000        0.000000   \n",
       "25%         0.000000       1.000000      0.00000        0.000000   \n",
       "50%     97198.540000       1.000000      1.00000        1.000000   \n",
       "75%    127644.240000       2.000000      1.00000        1.000000   \n",
       "max    250898.090000       4.000000      1.00000        1.000000   \n",
       "\n",
       "       EstimatedSalary        Exited  \n",
       "count     10000.000000  10000.000000  \n",
       "mean     100090.239881      0.203700  \n",
       "std       57510.492818      0.402769  \n",
       "min          11.580000      0.000000  \n",
       "25%       51002.110000      0.000000  \n",
       "50%      100193.915000      0.000000  \n",
       "75%      149388.247500      0.000000  \n",
       "max      199992.480000      1.000000  "
      ]
     },
     "metadata": {},
     "output_type": "display_data"
    }
   ],
   "source": [
    "display(data.info())\n",
    "display(data.head())\n",
    "display(data.describe())"
   ]
  },
  {
   "cell_type": "markdown",
   "metadata": {},
   "source": [
    "#### Полученная инф-я  \n",
    "  * Видно, что в столбце `Tenure` (сколько лет является клиентом банка) имеются пропуски в количестве чуть меньше 10%;  \n",
    "  * `RowNumber` просто содержит нумерацию строк `CustomerId` полезен для идентификации. но бесполезен для модели, `Surname` аналогично;  \n",
    "  * Категориальные столюцы `Geography` и `Gender` нужно перекодировать в цифровые методами OHE | ordinal encoding;\n",
    "  * Разброс числовых значений весьма большой, нужно стандартизировать значения;  \n",
    "  * Проверить данные на дубликаты."
   ]
  },
  {
   "cell_type": "markdown",
   "metadata": {},
   "source": [
    "### Устранение недостатков данных"
   ]
  },
  {
   "cell_type": "markdown",
   "metadata": {},
   "source": [
    "#### Устранение пропусков"
   ]
  },
  {
   "cell_type": "code",
   "execution_count": 4,
   "metadata": {},
   "outputs": [
    {
     "data": {
      "text/plain": [
       "1.0     952\n",
       "2.0     950\n",
       "8.0     933\n",
       "3.0     928\n",
       "5.0     927\n",
       "7.0     925\n",
       "4.0     885\n",
       "9.0     882\n",
       "6.0     881\n",
       "10.0    446\n",
       "0.0     382\n",
       "Name: Tenure, dtype: int64"
      ]
     },
     "execution_count": 4,
     "metadata": {},
     "output_type": "execute_result"
    }
   ],
   "source": [
    "# прежде, чем принимать решение о том, как заполнить пропуски, нужно оценить распределение значений\n",
    "data['Tenure'].value_counts()"
   ]
  },
  {
   "cell_type": "markdown",
   "metadata": {},
   "source": [
    "С пропусками можно броться несколькими способами:  \n",
    "  1) удалить строки с пропусками;  \n",
    "  2) заменить минимальными значениями;  \n",
    "  3) заменить медианным значением;  \n",
    "  4) заполнить равными долями.  \n",
    "\n",
    "Как видно из распределения, добавление 1000 значений в одну из категорий сильно скажется на её доминировании.  \n",
    "Заменим пропуски медианой, она не так чувствительна к выбросам."
   ]
  },
  {
   "cell_type": "code",
   "execution_count": 5,
   "metadata": {
    "scrolled": false
   },
   "outputs": [
    {
     "name": "stdout",
     "output_type": "stream",
     "text": [
      "<class 'pandas.core.frame.DataFrame'>\n",
      "RangeIndex: 10000 entries, 0 to 9999\n",
      "Data columns (total 14 columns):\n",
      " #   Column           Non-Null Count  Dtype  \n",
      "---  ------           --------------  -----  \n",
      " 0   RowNumber        10000 non-null  int64  \n",
      " 1   CustomerId       10000 non-null  int64  \n",
      " 2   Surname          10000 non-null  object \n",
      " 3   CreditScore      10000 non-null  int64  \n",
      " 4   Geography        10000 non-null  object \n",
      " 5   Gender           10000 non-null  object \n",
      " 6   Age              10000 non-null  int64  \n",
      " 7   Tenure           10000 non-null  float64\n",
      " 8   Balance          10000 non-null  float64\n",
      " 9   NumOfProducts    10000 non-null  int64  \n",
      " 10  HasCrCard        10000 non-null  int64  \n",
      " 11  IsActiveMember   10000 non-null  int64  \n",
      " 12  EstimatedSalary  10000 non-null  float64\n",
      " 13  Exited           10000 non-null  int64  \n",
      "dtypes: float64(3), int64(8), object(3)\n",
      "memory usage: 1.1+ MB\n"
     ]
    },
    {
     "data": {
      "text/plain": [
       "None"
      ]
     },
     "metadata": {},
     "output_type": "display_data"
    },
    {
     "name": "stdout",
     "output_type": "stream",
     "text": [
      "Кол-во пропусков: 0\n"
     ]
    }
   ],
   "source": [
    "data['Tenure'] = data['Tenure'].fillna(data['Tenure'].median())\n",
    "display(data.info())\n",
    "print('Кол-во пропусков:', data['Tenure'].isna().sum())"
   ]
  },
  {
   "cell_type": "markdown",
   "metadata": {},
   "source": [
    "#### Поиск дубликатов"
   ]
  },
  {
   "cell_type": "markdown",
   "metadata": {},
   "source": [
    "Далее уместно будет проверить на дубликаты явные и нявные."
   ]
  },
  {
   "cell_type": "code",
   "execution_count": 6,
   "metadata": {},
   "outputs": [
    {
     "data": {
      "text/plain": [
       "0"
      ]
     },
     "execution_count": 6,
     "metadata": {},
     "output_type": "execute_result"
    }
   ],
   "source": [
    "data.duplicated().sum()"
   ]
  },
  {
   "cell_type": "code",
   "execution_count": 7,
   "metadata": {},
   "outputs": [
    {
     "data": {
      "text/plain": [
       "10000"
      ]
     },
     "execution_count": 7,
     "metadata": {},
     "output_type": "execute_result"
    }
   ],
   "source": [
    "# у нас есть столбец с идентификаторами пользователей - это прекрасный способ проверки на скрытые дубликаты\n",
    "len(data['CustomerId'].unique())"
   ]
  },
  {
   "cell_type": "markdown",
   "metadata": {},
   "source": [
    "Видим, что столбец содержит только уникальные идентификаторы."
   ]
  },
  {
   "cell_type": "markdown",
   "metadata": {},
   "source": [
    "#### Оценка значимости колонок"
   ]
  },
  {
   "cell_type": "markdown",
   "metadata": {},
   "source": [
    "Если оценить существующие в наборе данных колонки по уровню их потенциальной значимости для обучения модели и предсказания целевого признака, то становится понятно, что колонки `RowNumber`, `CustomerId` & `Surname` могут быть удалены, так как не несут обобщающей информации для модели."
   ]
  },
  {
   "cell_type": "code",
   "execution_count": 8,
   "metadata": {},
   "outputs": [
    {
     "data": {
      "text/html": [
       "<div>\n",
       "<style scoped>\n",
       "    .dataframe tbody tr th:only-of-type {\n",
       "        vertical-align: middle;\n",
       "    }\n",
       "\n",
       "    .dataframe tbody tr th {\n",
       "        vertical-align: top;\n",
       "    }\n",
       "\n",
       "    .dataframe thead th {\n",
       "        text-align: right;\n",
       "    }\n",
       "</style>\n",
       "<table border=\"1\" class=\"dataframe\">\n",
       "  <thead>\n",
       "    <tr style=\"text-align: right;\">\n",
       "      <th></th>\n",
       "      <th>CreditScore</th>\n",
       "      <th>Geography</th>\n",
       "      <th>Gender</th>\n",
       "      <th>Age</th>\n",
       "      <th>Tenure</th>\n",
       "      <th>Balance</th>\n",
       "      <th>NumOfProducts</th>\n",
       "      <th>HasCrCard</th>\n",
       "      <th>IsActiveMember</th>\n",
       "      <th>EstimatedSalary</th>\n",
       "      <th>Exited</th>\n",
       "    </tr>\n",
       "  </thead>\n",
       "  <tbody>\n",
       "    <tr>\n",
       "      <th>0</th>\n",
       "      <td>619</td>\n",
       "      <td>France</td>\n",
       "      <td>Female</td>\n",
       "      <td>42</td>\n",
       "      <td>2.0</td>\n",
       "      <td>0.00</td>\n",
       "      <td>1</td>\n",
       "      <td>1</td>\n",
       "      <td>1</td>\n",
       "      <td>101348.88</td>\n",
       "      <td>1</td>\n",
       "    </tr>\n",
       "    <tr>\n",
       "      <th>1</th>\n",
       "      <td>608</td>\n",
       "      <td>Spain</td>\n",
       "      <td>Female</td>\n",
       "      <td>41</td>\n",
       "      <td>1.0</td>\n",
       "      <td>83807.86</td>\n",
       "      <td>1</td>\n",
       "      <td>0</td>\n",
       "      <td>1</td>\n",
       "      <td>112542.58</td>\n",
       "      <td>0</td>\n",
       "    </tr>\n",
       "    <tr>\n",
       "      <th>2</th>\n",
       "      <td>502</td>\n",
       "      <td>France</td>\n",
       "      <td>Female</td>\n",
       "      <td>42</td>\n",
       "      <td>8.0</td>\n",
       "      <td>159660.80</td>\n",
       "      <td>3</td>\n",
       "      <td>1</td>\n",
       "      <td>0</td>\n",
       "      <td>113931.57</td>\n",
       "      <td>1</td>\n",
       "    </tr>\n",
       "    <tr>\n",
       "      <th>3</th>\n",
       "      <td>699</td>\n",
       "      <td>France</td>\n",
       "      <td>Female</td>\n",
       "      <td>39</td>\n",
       "      <td>1.0</td>\n",
       "      <td>0.00</td>\n",
       "      <td>2</td>\n",
       "      <td>0</td>\n",
       "      <td>0</td>\n",
       "      <td>93826.63</td>\n",
       "      <td>0</td>\n",
       "    </tr>\n",
       "    <tr>\n",
       "      <th>4</th>\n",
       "      <td>850</td>\n",
       "      <td>Spain</td>\n",
       "      <td>Female</td>\n",
       "      <td>43</td>\n",
       "      <td>2.0</td>\n",
       "      <td>125510.82</td>\n",
       "      <td>1</td>\n",
       "      <td>1</td>\n",
       "      <td>1</td>\n",
       "      <td>79084.10</td>\n",
       "      <td>0</td>\n",
       "    </tr>\n",
       "  </tbody>\n",
       "</table>\n",
       "</div>"
      ],
      "text/plain": [
       "   CreditScore Geography  Gender  Age  Tenure    Balance  NumOfProducts  \\\n",
       "0          619    France  Female   42     2.0       0.00              1   \n",
       "1          608     Spain  Female   41     1.0   83807.86              1   \n",
       "2          502    France  Female   42     8.0  159660.80              3   \n",
       "3          699    France  Female   39     1.0       0.00              2   \n",
       "4          850     Spain  Female   43     2.0  125510.82              1   \n",
       "\n",
       "   HasCrCard  IsActiveMember  EstimatedSalary  Exited  \n",
       "0          1               1        101348.88       1  \n",
       "1          0               1        112542.58       0  \n",
       "2          1               0        113931.57       1  \n",
       "3          0               0         93826.63       0  \n",
       "4          1               1         79084.10       0  "
      ]
     },
     "metadata": {},
     "output_type": "display_data"
    },
    {
     "data": {
      "text/plain": [
       "(10000, 11)"
      ]
     },
     "execution_count": 8,
     "metadata": {},
     "output_type": "execute_result"
    }
   ],
   "source": [
    "df = data.drop(['RowNumber','CustomerId', 'Surname'], axis=1)\n",
    "display(df.head())\n",
    "df.shape"
   ]
  },
  {
   "cell_type": "markdown",
   "metadata": {},
   "source": [
    "#### Перекодирование категориальных признаков в числовые"
   ]
  },
  {
   "cell_type": "code",
   "execution_count": 9,
   "metadata": {},
   "outputs": [
    {
     "data": {
      "text/html": [
       "<div>\n",
       "<style scoped>\n",
       "    .dataframe tbody tr th:only-of-type {\n",
       "        vertical-align: middle;\n",
       "    }\n",
       "\n",
       "    .dataframe tbody tr th {\n",
       "        vertical-align: top;\n",
       "    }\n",
       "\n",
       "    .dataframe thead th {\n",
       "        text-align: right;\n",
       "    }\n",
       "</style>\n",
       "<table border=\"1\" class=\"dataframe\">\n",
       "  <thead>\n",
       "    <tr style=\"text-align: right;\">\n",
       "      <th></th>\n",
       "      <th>CreditScore</th>\n",
       "      <th>Age</th>\n",
       "      <th>Tenure</th>\n",
       "      <th>Balance</th>\n",
       "      <th>NumOfProducts</th>\n",
       "      <th>HasCrCard</th>\n",
       "      <th>IsActiveMember</th>\n",
       "      <th>EstimatedSalary</th>\n",
       "      <th>Exited</th>\n",
       "      <th>Geography_Germany</th>\n",
       "      <th>Geography_Spain</th>\n",
       "      <th>Gender_Male</th>\n",
       "    </tr>\n",
       "  </thead>\n",
       "  <tbody>\n",
       "    <tr>\n",
       "      <th>0</th>\n",
       "      <td>619</td>\n",
       "      <td>42</td>\n",
       "      <td>2.0</td>\n",
       "      <td>0.00</td>\n",
       "      <td>1</td>\n",
       "      <td>1</td>\n",
       "      <td>1</td>\n",
       "      <td>101348.88</td>\n",
       "      <td>1</td>\n",
       "      <td>0</td>\n",
       "      <td>0</td>\n",
       "      <td>0</td>\n",
       "    </tr>\n",
       "    <tr>\n",
       "      <th>1</th>\n",
       "      <td>608</td>\n",
       "      <td>41</td>\n",
       "      <td>1.0</td>\n",
       "      <td>83807.86</td>\n",
       "      <td>1</td>\n",
       "      <td>0</td>\n",
       "      <td>1</td>\n",
       "      <td>112542.58</td>\n",
       "      <td>0</td>\n",
       "      <td>0</td>\n",
       "      <td>1</td>\n",
       "      <td>0</td>\n",
       "    </tr>\n",
       "    <tr>\n",
       "      <th>2</th>\n",
       "      <td>502</td>\n",
       "      <td>42</td>\n",
       "      <td>8.0</td>\n",
       "      <td>159660.80</td>\n",
       "      <td>3</td>\n",
       "      <td>1</td>\n",
       "      <td>0</td>\n",
       "      <td>113931.57</td>\n",
       "      <td>1</td>\n",
       "      <td>0</td>\n",
       "      <td>0</td>\n",
       "      <td>0</td>\n",
       "    </tr>\n",
       "    <tr>\n",
       "      <th>3</th>\n",
       "      <td>699</td>\n",
       "      <td>39</td>\n",
       "      <td>1.0</td>\n",
       "      <td>0.00</td>\n",
       "      <td>2</td>\n",
       "      <td>0</td>\n",
       "      <td>0</td>\n",
       "      <td>93826.63</td>\n",
       "      <td>0</td>\n",
       "      <td>0</td>\n",
       "      <td>0</td>\n",
       "      <td>0</td>\n",
       "    </tr>\n",
       "    <tr>\n",
       "      <th>4</th>\n",
       "      <td>850</td>\n",
       "      <td>43</td>\n",
       "      <td>2.0</td>\n",
       "      <td>125510.82</td>\n",
       "      <td>1</td>\n",
       "      <td>1</td>\n",
       "      <td>1</td>\n",
       "      <td>79084.10</td>\n",
       "      <td>0</td>\n",
       "      <td>0</td>\n",
       "      <td>1</td>\n",
       "      <td>0</td>\n",
       "    </tr>\n",
       "  </tbody>\n",
       "</table>\n",
       "</div>"
      ],
      "text/plain": [
       "   CreditScore  Age  Tenure    Balance  NumOfProducts  HasCrCard  \\\n",
       "0          619   42     2.0       0.00              1          1   \n",
       "1          608   41     1.0   83807.86              1          0   \n",
       "2          502   42     8.0  159660.80              3          1   \n",
       "3          699   39     1.0       0.00              2          0   \n",
       "4          850   43     2.0  125510.82              1          1   \n",
       "\n",
       "   IsActiveMember  EstimatedSalary  Exited  Geography_Germany  \\\n",
       "0               1        101348.88       1                  0   \n",
       "1               1        112542.58       0                  0   \n",
       "2               0        113931.57       1                  0   \n",
       "3               0         93826.63       0                  0   \n",
       "4               1         79084.10       0                  0   \n",
       "\n",
       "   Geography_Spain  Gender_Male  \n",
       "0                0            0  \n",
       "1                1            0  \n",
       "2                0            0  \n",
       "3                0            0  \n",
       "4                1            0  "
      ]
     },
     "metadata": {},
     "output_type": "display_data"
    },
    {
     "data": {
      "text/plain": [
       "(10000, 12)"
      ]
     },
     "execution_count": 9,
     "metadata": {},
     "output_type": "execute_result"
    }
   ],
   "source": [
    "df = pd.get_dummies(df, drop_first=True)\n",
    "display(df.head())\n",
    "df.shape"
   ]
  },
  {
   "cell_type": "markdown",
   "metadata": {},
   "source": [
    "#### Формирование выборок"
   ]
  },
  {
   "cell_type": "markdown",
   "metadata": {},
   "source": [
    "Стоит начать с формирования выборок: обучающая, валидационная и тестовая в пропорциях 3:1:1.  \n",
    "Из всех выборок будет убран целевой признак, сохранён отдельно.  \n",
    "Степень рандомности `random_state` для всего проекта будет составлять 12345."
   ]
  },
  {
   "cell_type": "code",
   "execution_count": 10,
   "metadata": {
    "scrolled": true
   },
   "outputs": [
    {
     "data": {
      "text/plain": [
       "(6000, 12)"
      ]
     },
     "metadata": {},
     "output_type": "display_data"
    },
    {
     "data": {
      "text/plain": [
       "(2000, 12)"
      ]
     },
     "metadata": {},
     "output_type": "display_data"
    },
    {
     "data": {
      "text/plain": [
       "(2000, 12)"
      ]
     },
     "metadata": {},
     "output_type": "display_data"
    },
    {
     "name": "stdout",
     "output_type": "stream",
     "text": [
      "Сумма строк всех выборок: 10000\n"
     ]
    }
   ],
   "source": [
    "train, validate, test = np.split(df.sample(frac=1, random_state=12345), [int(.6*len(df)), int(.8*len(df))])\n",
    "display(train.shape)\n",
    "display(validate.shape)\n",
    "display(test.shape)\n",
    "\n",
    "print('Сумма строк всех выборок:', len(train) + len(validate) + len(test))"
   ]
  },
  {
   "cell_type": "markdown",
   "metadata": {},
   "source": [
    "#### Стандартизация числовых значений"
   ]
  },
  {
   "cell_type": "code",
   "execution_count": 11,
   "metadata": {},
   "outputs": [
    {
     "data": {
      "text/html": [
       "<div>\n",
       "<style scoped>\n",
       "    .dataframe tbody tr th:only-of-type {\n",
       "        vertical-align: middle;\n",
       "    }\n",
       "\n",
       "    .dataframe tbody tr th {\n",
       "        vertical-align: top;\n",
       "    }\n",
       "\n",
       "    .dataframe thead th {\n",
       "        text-align: right;\n",
       "    }\n",
       "</style>\n",
       "<table border=\"1\" class=\"dataframe\">\n",
       "  <thead>\n",
       "    <tr style=\"text-align: right;\">\n",
       "      <th></th>\n",
       "      <th>CreditScore</th>\n",
       "      <th>Age</th>\n",
       "      <th>Tenure</th>\n",
       "      <th>Balance</th>\n",
       "      <th>NumOfProducts</th>\n",
       "      <th>HasCrCard</th>\n",
       "      <th>IsActiveMember</th>\n",
       "      <th>EstimatedSalary</th>\n",
       "      <th>Exited</th>\n",
       "      <th>Geography_Germany</th>\n",
       "      <th>Geography_Spain</th>\n",
       "      <th>Gender_Male</th>\n",
       "    </tr>\n",
       "  </thead>\n",
       "  <tbody>\n",
       "    <tr>\n",
       "      <th>7867</th>\n",
       "      <td>-0.095446</td>\n",
       "      <td>0.692527</td>\n",
       "      <td>-0.711294</td>\n",
       "      <td>-1.207343</td>\n",
       "      <td>-0.934554</td>\n",
       "      <td>1</td>\n",
       "      <td>1</td>\n",
       "      <td>0.967598</td>\n",
       "      <td>0</td>\n",
       "      <td>0</td>\n",
       "      <td>1</td>\n",
       "      <td>0</td>\n",
       "    </tr>\n",
       "    <tr>\n",
       "      <th>1402</th>\n",
       "      <td>1.108213</td>\n",
       "      <td>-0.948724</td>\n",
       "      <td>1.088995</td>\n",
       "      <td>0.869462</td>\n",
       "      <td>-0.934554</td>\n",
       "      <td>1</td>\n",
       "      <td>0</td>\n",
       "      <td>-0.403069</td>\n",
       "      <td>0</td>\n",
       "      <td>0</td>\n",
       "      <td>0</td>\n",
       "      <td>1</td>\n",
       "    </tr>\n",
       "    <tr>\n",
       "      <th>8606</th>\n",
       "      <td>1.622597</td>\n",
       "      <td>0.306351</td>\n",
       "      <td>0.008821</td>\n",
       "      <td>-1.207343</td>\n",
       "      <td>0.789186</td>\n",
       "      <td>1</td>\n",
       "      <td>1</td>\n",
       "      <td>-0.447751</td>\n",
       "      <td>0</td>\n",
       "      <td>0</td>\n",
       "      <td>1</td>\n",
       "      <td>1</td>\n",
       "    </tr>\n",
       "    <tr>\n",
       "      <th>8885</th>\n",
       "      <td>0.192609</td>\n",
       "      <td>0.595983</td>\n",
       "      <td>-0.351237</td>\n",
       "      <td>0.426066</td>\n",
       "      <td>0.789186</td>\n",
       "      <td>1</td>\n",
       "      <td>1</td>\n",
       "      <td>1.004463</td>\n",
       "      <td>0</td>\n",
       "      <td>0</td>\n",
       "      <td>1</td>\n",
       "      <td>1</td>\n",
       "    </tr>\n",
       "    <tr>\n",
       "      <th>6494</th>\n",
       "      <td>0.511528</td>\n",
       "      <td>-1.045268</td>\n",
       "      <td>0.728937</td>\n",
       "      <td>-1.207343</td>\n",
       "      <td>0.789186</td>\n",
       "      <td>1</td>\n",
       "      <td>1</td>\n",
       "      <td>-1.356118</td>\n",
       "      <td>0</td>\n",
       "      <td>0</td>\n",
       "      <td>0</td>\n",
       "      <td>1</td>\n",
       "    </tr>\n",
       "  </tbody>\n",
       "</table>\n",
       "</div>"
      ],
      "text/plain": [
       "      CreditScore       Age    Tenure   Balance  NumOfProducts  HasCrCard  \\\n",
       "7867    -0.095446  0.692527 -0.711294 -1.207343      -0.934554          1   \n",
       "1402     1.108213 -0.948724  1.088995  0.869462      -0.934554          1   \n",
       "8606     1.622597  0.306351  0.008821 -1.207343       0.789186          1   \n",
       "8885     0.192609  0.595983 -0.351237  0.426066       0.789186          1   \n",
       "6494     0.511528 -1.045268  0.728937 -1.207343       0.789186          1   \n",
       "\n",
       "      IsActiveMember  EstimatedSalary  Exited  Geography_Germany  \\\n",
       "7867               1         0.967598       0                  0   \n",
       "1402               0        -0.403069       0                  0   \n",
       "8606               1        -0.447751       0                  0   \n",
       "8885               1         1.004463       0                  0   \n",
       "6494               1        -1.356118       0                  0   \n",
       "\n",
       "      Geography_Spain  Gender_Male  \n",
       "7867                1            0  \n",
       "1402                0            1  \n",
       "8606                1            1  \n",
       "8885                1            1  \n",
       "6494                0            1  "
      ]
     },
     "metadata": {},
     "output_type": "display_data"
    },
    {
     "data": {
      "text/html": [
       "<div>\n",
       "<style scoped>\n",
       "    .dataframe tbody tr th:only-of-type {\n",
       "        vertical-align: middle;\n",
       "    }\n",
       "\n",
       "    .dataframe tbody tr th {\n",
       "        vertical-align: top;\n",
       "    }\n",
       "\n",
       "    .dataframe thead th {\n",
       "        text-align: right;\n",
       "    }\n",
       "</style>\n",
       "<table border=\"1\" class=\"dataframe\">\n",
       "  <thead>\n",
       "    <tr style=\"text-align: right;\">\n",
       "      <th></th>\n",
       "      <th>CreditScore</th>\n",
       "      <th>Age</th>\n",
       "      <th>Tenure</th>\n",
       "      <th>Balance</th>\n",
       "      <th>NumOfProducts</th>\n",
       "      <th>HasCrCard</th>\n",
       "      <th>IsActiveMember</th>\n",
       "      <th>EstimatedSalary</th>\n",
       "      <th>Exited</th>\n",
       "      <th>Geography_Germany</th>\n",
       "      <th>Geography_Spain</th>\n",
       "      <th>Gender_Male</th>\n",
       "    </tr>\n",
       "  </thead>\n",
       "  <tbody>\n",
       "    <tr>\n",
       "      <th>5201</th>\n",
       "      <td>-0.825871</td>\n",
       "      <td>-0.272914</td>\n",
       "      <td>-1.431410</td>\n",
       "      <td>-0.138110</td>\n",
       "      <td>-0.934554</td>\n",
       "      <td>1</td>\n",
       "      <td>0</td>\n",
       "      <td>0.941775</td>\n",
       "      <td>0</td>\n",
       "      <td>0</td>\n",
       "      <td>0</td>\n",
       "      <td>1</td>\n",
       "    </tr>\n",
       "    <tr>\n",
       "      <th>5502</th>\n",
       "      <td>-0.362925</td>\n",
       "      <td>0.113262</td>\n",
       "      <td>0.008821</td>\n",
       "      <td>0.599188</td>\n",
       "      <td>-0.934554</td>\n",
       "      <td>1</td>\n",
       "      <td>1</td>\n",
       "      <td>-0.397508</td>\n",
       "      <td>0</td>\n",
       "      <td>0</td>\n",
       "      <td>1</td>\n",
       "      <td>0</td>\n",
       "    </tr>\n",
       "    <tr>\n",
       "      <th>1715</th>\n",
       "      <td>0.367500</td>\n",
       "      <td>0.402895</td>\n",
       "      <td>1.449053</td>\n",
       "      <td>0.523339</td>\n",
       "      <td>0.789186</td>\n",
       "      <td>0</td>\n",
       "      <td>1</td>\n",
       "      <td>1.638198</td>\n",
       "      <td>0</td>\n",
       "      <td>1</td>\n",
       "      <td>0</td>\n",
       "      <td>1</td>\n",
       "    </tr>\n",
       "    <tr>\n",
       "      <th>1951</th>\n",
       "      <td>-0.465802</td>\n",
       "      <td>1.368337</td>\n",
       "      <td>1.088995</td>\n",
       "      <td>1.094938</td>\n",
       "      <td>-0.934554</td>\n",
       "      <td>1</td>\n",
       "      <td>0</td>\n",
       "      <td>1.571926</td>\n",
       "      <td>1</td>\n",
       "      <td>0</td>\n",
       "      <td>0</td>\n",
       "      <td>1</td>\n",
       "    </tr>\n",
       "    <tr>\n",
       "      <th>6415</th>\n",
       "      <td>0.254336</td>\n",
       "      <td>0.306351</td>\n",
       "      <td>1.449053</td>\n",
       "      <td>-1.207343</td>\n",
       "      <td>0.789186</td>\n",
       "      <td>1</td>\n",
       "      <td>0</td>\n",
       "      <td>-1.676071</td>\n",
       "      <td>0</td>\n",
       "      <td>0</td>\n",
       "      <td>0</td>\n",
       "      <td>0</td>\n",
       "    </tr>\n",
       "  </tbody>\n",
       "</table>\n",
       "</div>"
      ],
      "text/plain": [
       "      CreditScore       Age    Tenure   Balance  NumOfProducts  HasCrCard  \\\n",
       "5201    -0.825871 -0.272914 -1.431410 -0.138110      -0.934554          1   \n",
       "5502    -0.362925  0.113262  0.008821  0.599188      -0.934554          1   \n",
       "1715     0.367500  0.402895  1.449053  0.523339       0.789186          0   \n",
       "1951    -0.465802  1.368337  1.088995  1.094938      -0.934554          1   \n",
       "6415     0.254336  0.306351  1.449053 -1.207343       0.789186          1   \n",
       "\n",
       "      IsActiveMember  EstimatedSalary  Exited  Geography_Germany  \\\n",
       "5201               0         0.941775       0                  0   \n",
       "5502               1        -0.397508       0                  0   \n",
       "1715               1         1.638198       0                  1   \n",
       "1951               0         1.571926       1                  0   \n",
       "6415               0        -1.676071       0                  0   \n",
       "\n",
       "      Geography_Spain  Gender_Male  \n",
       "5201                0            1  \n",
       "5502                1            0  \n",
       "1715                0            1  \n",
       "1951                0            1  \n",
       "6415                0            0  "
      ]
     },
     "metadata": {},
     "output_type": "display_data"
    },
    {
     "data": {
      "text/html": [
       "<div>\n",
       "<style scoped>\n",
       "    .dataframe tbody tr th:only-of-type {\n",
       "        vertical-align: middle;\n",
       "    }\n",
       "\n",
       "    .dataframe tbody tr th {\n",
       "        vertical-align: top;\n",
       "    }\n",
       "\n",
       "    .dataframe thead th {\n",
       "        text-align: right;\n",
       "    }\n",
       "</style>\n",
       "<table border=\"1\" class=\"dataframe\">\n",
       "  <thead>\n",
       "    <tr style=\"text-align: right;\">\n",
       "      <th></th>\n",
       "      <th>CreditScore</th>\n",
       "      <th>Age</th>\n",
       "      <th>Tenure</th>\n",
       "      <th>Balance</th>\n",
       "      <th>NumOfProducts</th>\n",
       "      <th>HasCrCard</th>\n",
       "      <th>IsActiveMember</th>\n",
       "      <th>EstimatedSalary</th>\n",
       "      <th>Exited</th>\n",
       "      <th>Geography_Germany</th>\n",
       "      <th>Geography_Spain</th>\n",
       "      <th>Gender_Male</th>\n",
       "    </tr>\n",
       "  </thead>\n",
       "  <tbody>\n",
       "    <tr>\n",
       "      <th>3417</th>\n",
       "      <td>-0.383501</td>\n",
       "      <td>0.306351</td>\n",
       "      <td>1.809111</td>\n",
       "      <td>-0.004076</td>\n",
       "      <td>-0.934554</td>\n",
       "      <td>0</td>\n",
       "      <td>0</td>\n",
       "      <td>0.853177</td>\n",
       "      <td>0</td>\n",
       "      <td>0</td>\n",
       "      <td>0</td>\n",
       "      <td>0</td>\n",
       "    </tr>\n",
       "    <tr>\n",
       "      <th>2581</th>\n",
       "      <td>0.562966</td>\n",
       "      <td>-0.755635</td>\n",
       "      <td>0.008821</td>\n",
       "      <td>-1.207343</td>\n",
       "      <td>0.789186</td>\n",
       "      <td>1</td>\n",
       "      <td>0</td>\n",
       "      <td>1.433440</td>\n",
       "      <td>0</td>\n",
       "      <td>0</td>\n",
       "      <td>0</td>\n",
       "      <td>1</td>\n",
       "    </tr>\n",
       "    <tr>\n",
       "      <th>7574</th>\n",
       "      <td>1.025912</td>\n",
       "      <td>-0.562547</td>\n",
       "      <td>-1.431410</td>\n",
       "      <td>-0.021791</td>\n",
       "      <td>-0.934554</td>\n",
       "      <td>1</td>\n",
       "      <td>0</td>\n",
       "      <td>-1.399962</td>\n",
       "      <td>0</td>\n",
       "      <td>0</td>\n",
       "      <td>0</td>\n",
       "      <td>0</td>\n",
       "    </tr>\n",
       "    <tr>\n",
       "      <th>5143</th>\n",
       "      <td>-0.033720</td>\n",
       "      <td>-0.755635</td>\n",
       "      <td>-1.071352</td>\n",
       "      <td>-1.207343</td>\n",
       "      <td>-0.934554</td>\n",
       "      <td>1</td>\n",
       "      <td>1</td>\n",
       "      <td>1.220911</td>\n",
       "      <td>1</td>\n",
       "      <td>0</td>\n",
       "      <td>1</td>\n",
       "      <td>1</td>\n",
       "    </tr>\n",
       "    <tr>\n",
       "      <th>3432</th>\n",
       "      <td>1.447707</td>\n",
       "      <td>-1.238356</td>\n",
       "      <td>0.008821</td>\n",
       "      <td>-1.207343</td>\n",
       "      <td>-0.934554</td>\n",
       "      <td>1</td>\n",
       "      <td>0</td>\n",
       "      <td>-1.393937</td>\n",
       "      <td>0</td>\n",
       "      <td>0</td>\n",
       "      <td>0</td>\n",
       "      <td>1</td>\n",
       "    </tr>\n",
       "  </tbody>\n",
       "</table>\n",
       "</div>"
      ],
      "text/plain": [
       "      CreditScore       Age    Tenure   Balance  NumOfProducts  HasCrCard  \\\n",
       "3417    -0.383501  0.306351  1.809111 -0.004076      -0.934554          0   \n",
       "2581     0.562966 -0.755635  0.008821 -1.207343       0.789186          1   \n",
       "7574     1.025912 -0.562547 -1.431410 -0.021791      -0.934554          1   \n",
       "5143    -0.033720 -0.755635 -1.071352 -1.207343      -0.934554          1   \n",
       "3432     1.447707 -1.238356  0.008821 -1.207343      -0.934554          1   \n",
       "\n",
       "      IsActiveMember  EstimatedSalary  Exited  Geography_Germany  \\\n",
       "3417               0         0.853177       0                  0   \n",
       "2581               0         1.433440       0                  0   \n",
       "7574               0        -1.399962       0                  0   \n",
       "5143               1         1.220911       1                  0   \n",
       "3432               0        -1.393937       0                  0   \n",
       "\n",
       "      Geography_Spain  Gender_Male  \n",
       "3417                0            0  \n",
       "2581                0            1  \n",
       "7574                0            0  \n",
       "5143                1            1  \n",
       "3432                0            1  "
      ]
     },
     "metadata": {},
     "output_type": "display_data"
    },
    {
     "data": {
      "text/plain": [
       "(2000, 12)"
      ]
     },
     "execution_count": 11,
     "metadata": {},
     "output_type": "execute_result"
    }
   ],
   "source": [
    "# для удобства создадим список\n",
    "# признаки HasCrCard & IsActiveMember хоть и являются числовыми, однако они бинарные, их стандартизировать не нужно\n",
    "num_col = ['CreditScore', 'Age', 'Tenure', 'Balance', 'NumOfProducts', 'EstimatedSalary']\n",
    "scaler = StandardScaler()\n",
    "\n",
    "# обучаем на обучающей выборке\n",
    "scaler.fit(train[num_col])\n",
    "\n",
    "# трансформируем все выборки\n",
    "train[num_col] = scaler.transform(train[num_col])\n",
    "validate[num_col] = scaler.transform(validate[num_col])\n",
    "test[num_col] = scaler.transform(test[num_col])\n",
    "\n",
    "# оцениваем результат\n",
    "display(train.head())\n",
    "train.shape\n",
    "display(validate.head())\n",
    "validate.shape\n",
    "display(test.head())\n",
    "test.shape"
   ]
  },
  {
   "cell_type": "markdown",
   "metadata": {},
   "source": [
    "#### Выделение признакового пространства и целевого признака"
   ]
  },
  {
   "cell_type": "code",
   "execution_count": 12,
   "metadata": {},
   "outputs": [
    {
     "name": "stdout",
     "output_type": "stream",
     "text": [
      "(6000, 11) | (6000,)\n",
      "(2000, 11) | (2000,)\n",
      "(2000, 11) | (2000,)\n"
     ]
    }
   ],
   "source": [
    "features_train = train.drop(['Exited'], axis=1)\n",
    "target_train = train['Exited']\n",
    "features_validate = validate.drop(['Exited'], axis=1)\n",
    "target_validate = validate['Exited']\n",
    "features_test = test.drop(['Exited'], axis=1)\n",
    "target_test = test['Exited']\n",
    "\n",
    "# проверим, что получилось\n",
    "print(features_train.shape, target_train.shape, sep=' | ')\n",
    "print(features_validate.shape, target_validate.shape, sep=' | ')\n",
    "print(features_test.shape, target_test.shape, sep=' | ')"
   ]
  },
  {
   "cell_type": "markdown",
   "metadata": {},
   "source": [
    "### Выводы"
   ]
  },
  {
   "cell_type": "markdown",
   "metadata": {},
   "source": [
    "На этапе подготовки данных мы:\n",
    "  * импортировали в наш проект необходимые инструменты;  \n",
    "  * оценили качество имеющихся данных, в целом данные нуждались лишь в небольшой обработке;  \n",
    "  * избавились от пропусков в данных;  \n",
    "  * поиск дубликатов ничего не дал - это хорошо;  \n",
    "  * при оценке значимости признаков, были удалены несколько колонок;  \n",
    "  * категориальные данные перекодировали в цифровые. Из-за этого увеличилось число колонок;  \n",
    "  * стандартизировали численные признаки для удобства обучения модели;  \n",
    "  * выделили выборки и отделили пространство признаков от целевого признака.\n",
    "  \n",
    "На этом подготовку данных можно завершать и переходить непосредственно к исследованию задачи."
   ]
  },
  {
   "cell_type": "markdown",
   "metadata": {},
   "source": [
    "## Исследование задачи"
   ]
  },
  {
   "cell_type": "markdown",
   "metadata": {},
   "source": [
    "### Обучение моделей, сравнение показателей"
   ]
  },
  {
   "cell_type": "markdown",
   "metadata": {},
   "source": [
    "Для проекта будем использовать уж знакомые нам модели решающего дерева, случайного леса и логистической регрессии.  \n",
    "На данном этапе мы не учитываем дисбаланс классов.  \n",
    "Вычислим долю правильных ответов для моделей, а также подберём гиперпараметры для решающего дерева и случайного леса"
   ]
  },
  {
   "cell_type": "code",
   "execution_count": 13,
   "metadata": {
    "scrolled": true
   },
   "outputs": [
    {
     "name": "stdout",
     "output_type": "stream",
     "text": [
      "Дерево решений\n",
      "Лучший показатель глубины дерева: 7\n",
      "Лучший показатель accurancy: 0.848\n",
      "Лучший показатель f1: 0.5379939209726443\n",
      "CPU times: user 329 ms, sys: 0 ns, total: 329 ms\n",
      "Wall time: 350 ms\n"
     ]
    }
   ],
   "source": [
    "%%time\n",
    "\n",
    "best_result = 0\n",
    "best_depth = 0\n",
    "best_f1 = 0\n",
    "best_model_dtc = None\n",
    "\n",
    "for depth in range(1, 16):\n",
    "    model_dtc = DecisionTreeClassifier(random_state=12345, max_depth=depth)\n",
    "    # обучаем модель\n",
    "    model_dtc.fit(features_train, target_train)\n",
    "    # предсказываем целевой признак для валидационной выборки\n",
    "    predictions_validate = model_dtc.predict(features_validate)\n",
    "    # проверяем accurancy для валидационной выборки\n",
    "    result = accuracy_score(target_validate, predictions_validate)\n",
    "    # f1-мера\n",
    "    f1 = f1_score(target_validate, predictions_validate)\n",
    "    \n",
    "    # сохраняем лучшие значения\n",
    "    if f1 > best_f1:\n",
    "        best_depth = depth\n",
    "        best_result = result\n",
    "        best_model_dtc = model_dtc\n",
    "        best_f1 = f1\n",
    "\n",
    "dtc_score = best_result\n",
    "model_dtc = best_model_dtc\n",
    "dtc_f1 = best_f1\n",
    "\n",
    "print('Дерево решений')\n",
    "print('Лучший показатель глубины дерева:', best_depth)\n",
    "print('Лучший показатель accurancy:', dtc_score)\n",
    "print('Лучший показатель f1:', dtc_f1)"
   ]
  },
  {
   "cell_type": "code",
   "execution_count": 14,
   "metadata": {},
   "outputs": [
    {
     "name": "stdout",
     "output_type": "stream",
     "text": [
      "Случайный лес\n",
      "Лучший показатель accurancy при кол-ве деревьев: 30\n",
      "Лучший показатель accurancy при глубине: 13\n",
      "Лучший показатель accurancy при кол-ве элементов в листе: 2\n",
      "Лучший показатель accurancy: 0.862\n",
      "Лучший показатель f1: 0.5591054313099042\n",
      "CPU times: user 3min 8s, sys: 650 ms, total: 3min 9s\n",
      "Wall time: 3min 9s\n"
     ]
    }
   ],
   "source": [
    "%%time\n",
    "\n",
    "best_model_rfc = None\n",
    "best_est = 0\n",
    "best_depth = 0\n",
    "best_sample = 0\n",
    "best_result = 0\n",
    "best_f1 = 0\n",
    "\n",
    "\n",
    "for est in range(10, 121, 10):\n",
    "    for depth in range(1, 16):\n",
    "        for sample in range(1, 4):\n",
    "            model_rfc = RandomForestClassifier(random_state=12345, n_estimators=est, max_depth=depth, min_samples_leaf=sample)\n",
    "            # обучаем модель\n",
    "            model_rfc.fit(features_train, target_train)\n",
    "            # проверяем результат\n",
    "            result = model_rfc.score(features_validate, target_validate)\n",
    "            # формируем предсказание\n",
    "            predictions_validate = model_rfc.predict(features_validate)            \n",
    "            # f1-мера\n",
    "            f1 = f1_score(target_validate, predictions_validate)\n",
    "            \n",
    "            if f1 > best_f1:\n",
    "                best_model_rfc = model_rfc\n",
    "                best_est = est\n",
    "                best_depth = depth\n",
    "                best_sample = sample\n",
    "                best_result = result\n",
    "                best_f1 = f1\n",
    "\n",
    "rfc_score = best_result\n",
    "model_rfc = best_model_rfc\n",
    "rfc_f1 = best_f1\n",
    "                \n",
    "print('Случайный лес')\n",
    "print('Лучший показатель accurancy при кол-ве деревьев:', best_est)\n",
    "print('Лучший показатель accurancy при глубине:', best_depth)\n",
    "print('Лучший показатель accurancy при кол-ве элементов в листе:', best_sample)\n",
    "print('Лучший показатель accurancy:', best_result)\n",
    "print('Лучший показатель f1:', rfc_f1)"
   ]
  },
  {
   "cell_type": "code",
   "execution_count": 15,
   "metadata": {},
   "outputs": [],
   "source": [
    "model_lgr = LogisticRegression(solver = 'liblinear')\n",
    "lgr_score = model_lgr.fit(features_train, target_train).score(features_validate, target_validate)\n",
    "model_lgr.fit(features_train, target_train)\n",
    "predictions_validate = model_lgr.predict(features_validate)\n",
    "# f1-мера\n",
    "lgr_f1 = f1_score(target_validate, predictions_validate)"
   ]
  },
  {
   "cell_type": "code",
   "execution_count": 16,
   "metadata": {},
   "outputs": [
    {
     "name": "stdout",
     "output_type": "stream",
     "text": [
      "Доля правильных ответов:\n",
      "дерево решений 0.848\n",
      "случайный лес  0.862\n",
      "логистическая регрессия 0.812\n",
      "\n",
      "f1-мера для моделей:\n",
      "дерево решений 0.5379939209726443\n",
      "случайный лес  0.5591054313099042\n",
      "логистическая регрессия 0.2985074626865672\n"
     ]
    }
   ],
   "source": [
    "print(\"Доля правильных ответов:\")\n",
    "print(\"дерево решений\", dtc_score)\n",
    "print(\"случайный лес \", rfc_score) \n",
    "print(\"логистическая регрессия\", lgr_score)\n",
    "print()\n",
    "print(\"f1-мера для моделей:\")\n",
    "print(\"дерево решений\", dtc_f1)\n",
    "print(\"случайный лес \", rfc_f1) \n",
    "print(\"логистическая регрессия\", lgr_f1)"
   ]
  },
  {
   "cell_type": "markdown",
   "metadata": {},
   "source": [
    "Результаты неплохие, но нужно оценить баланс между классами и его влияние на другие показатели качества моделей."
   ]
  },
  {
   "cell_type": "code",
   "execution_count": 17,
   "metadata": {},
   "outputs": [
    {
     "data": {
      "image/png": "[encoded data removed]",
      "text/plain": [
       "<Figure size 144x144 with 1 Axes>"
      ]
     },
     "metadata": {
      "needs_background": "light"
     },
     "output_type": "display_data"
    }
   ],
   "source": [
    "# проверим исходный датафрейм\n",
    "df['Exited'].value_counts(normalize=True)\n",
    "\n",
    "# визуализируем\n",
    "df['Exited'].plot(kind ='hist', bins=2, figsize=(2,2));"
   ]
  },
  {
   "cell_type": "markdown",
   "metadata": {},
   "source": [
    "80% отрицательных, 20% положительных. Несложно предположить, что подобная диспропорция имеется и в сформированных из исходного датафрейма выборках.  \n",
    "Хорошо бы увидеть матрицу неточностей для каждой модели и значения других показателей качества: полноты, точности, f1-меры"
   ]
  },
  {
   "cell_type": "code",
   "execution_count": 18,
   "metadata": {},
   "outputs": [],
   "source": [
    "# функция расчёта парамтеров качества\n",
    "def rec_prec_f1(target_valid, prediction):\n",
    "    print(\"Полнота\" , recall_score(target_valid, prediction))\n",
    "    print(\"Точность\", precision_score(target_valid, prediction))\n",
    "    print(\"F1-мера\", f1_score(target_valid, prediction))"
   ]
  },
  {
   "cell_type": "code",
   "execution_count": 19,
   "metadata": {},
   "outputs": [],
   "source": [
    "# функция построние кривой ROC\n",
    "def auc_roc_curve(model, target_validate, features_validate):\n",
    "    if model == 'dtc':\n",
    "        probabilities = model_dtc.predict_proba(features_validate)[:, 1]\n",
    "    elif model == 'rfc':\n",
    "        probabilities = model_rfc.predict_proba(features_validate)[:, 1]\n",
    "    else:\n",
    "        probabilities = model_lgr.predict_proba(features_validate)[:, 1]\n",
    "    \n",
    "    fpr, tpr, thresholds = roc_curve(target_validate, probabilities)\n",
    "    plt.plot(fpr, tpr, color='red', label='ROC')\n",
    "    plt.plot([0, 1], [0, 1], color='blue', linestyle='--')\n",
    "    plt.xlim([0.0, 1.0])\n",
    "    plt.ylim([0.0, 1.0])\n",
    "    plt.xlabel('False Positive Rate')\n",
    "    plt.ylabel('True Positive Rate')\n",
    "    plt.title(model + ' ' + 'ROC-кривая')\n",
    "    plt.legend()\n",
    "    plt.show()"
   ]
  },
  {
   "cell_type": "code",
   "execution_count": 20,
   "metadata": {},
   "outputs": [],
   "source": [
    "# функция расчёта auc_roc\n",
    "def auc_roc_score(model, target_validate, features_validate):\n",
    "    if model == 'dtc':\n",
    "        model_one_prob_valid = model_dtc.predict_proba(features_validate)[:, 1]\n",
    "    elif model == 'rfc':\n",
    "        model_one_prob_valid = model_rfc.predict_proba(features_validate)[:, 1]\n",
    "    else:\n",
    "        model_one_prob_valid = model_lgr.predict_proba(features_validate)[:, 1]\n",
    "        \n",
    "    auc_roc = roc_auc_score(target_validate, model_one_prob_valid)\n",
    "    print('AUC ROC', auc_roc)"
   ]
  },
  {
   "cell_type": "code",
   "execution_count": 21,
   "metadata": {},
   "outputs": [],
   "source": [
    "# общая функция с расчётом матрицы неточностей\n",
    "def score_param(model, features_validate, target_validate):\n",
    "    if model == 'rfc':\n",
    "        predict = model_rfc.predict(features_validate)\n",
    "    elif model == 'dtc':\n",
    "        predict = model_dtc.predict(features_validate)\n",
    "    else:\n",
    "        predict = model_lgr.predict(features_validate)\n",
    "        \n",
    "    cm = confusion_matrix(target_validate, predict)\n",
    "    print(model + ' confusion matrix is ', cm, sep='\\n')\n",
    "    rec_prec_f1(target_validate, predict)\n",
    "    auc_roc_score(model, target_validate, features_validate)"
   ]
  },
  {
   "cell_type": "code",
   "execution_count": 22,
   "metadata": {},
   "outputs": [
    {
     "name": "stdout",
     "output_type": "stream",
     "text": [
      "dtc confusion matrix is \n",
      "[[1519   74]\n",
      " [ 230  177]]\n",
      "Полнота 0.4348894348894349\n",
      "Точность 0.7051792828685259\n",
      "F1-мера 0.5379939209726443\n",
      "AUC ROC 0.8047477369511267\n",
      "\n",
      "\n",
      "rfc confusion matrix is \n",
      "[[1549   44]\n",
      " [ 232  175]]\n",
      "Полнота 0.42997542997543\n",
      "Точность 0.7990867579908676\n",
      "F1-мера 0.5591054313099042\n",
      "AUC ROC 0.8366147349198197\n",
      "\n",
      "\n",
      "lgr confusion matrix is \n",
      "[[1544   49]\n",
      " [ 327   80]]\n",
      "Полнота 0.19656019656019655\n",
      "Точность 0.6201550387596899\n",
      "F1-мера 0.2985074626865672\n",
      "AUC ROC 0.7652367313384262\n",
      "\n",
      "\n"
     ]
    }
   ],
   "source": [
    "models = ['dtc', 'rfc', 'lgr']\n",
    "for model in models:\n",
    "    score_param(model, features_validate, target_validate)\n",
    "    print()\n",
    "    print()"
   ]
  },
  {
   "cell_type": "code",
   "execution_count": 23,
   "metadata": {
    "scrolled": false
   },
   "outputs": [
    {
     "data": {
      "image/png": "[encoded data removed]",
      "text/plain": [
       "<Figure size 432x288 with 1 Axes>"
      ]
     },
     "metadata": {
      "needs_background": "light"
     },
     "output_type": "display_data"
    },
    {
     "data": {
      "image/png": "[encoded data removed]",
      "text/plain": [
       "<Figure size 432x288 with 1 Axes>"
      ]
     },
     "metadata": {
      "needs_background": "light"
     },
     "output_type": "display_data"
    },
    {
     "data": {
      "image/png": "[encoded data removed]",
      "text/plain": [
       "<Figure size 432x288 with 1 Axes>"
      ]
     },
     "metadata": {
      "needs_background": "light"
     },
     "output_type": "display_data"
    }
   ],
   "source": [
    "# построим графики ROC кривых\n",
    "models = ['dtc', 'rfc', 'lgr']\n",
    "for model in models:\n",
    "    auc_roc_curve(model, target_validate, features_validate)"
   ]
  },
  {
   "cell_type": "markdown",
   "metadata": {},
   "source": [
    "### Выводы"
   ]
  },
  {
   "cell_type": "markdown",
   "metadata": {},
   "source": [
    "В самом начале мы решили сравнивать показатель **\"доля правильных ответов\"** трёх моделей, лучшей оказался \"случайный лес\", однако при проверке дисбаланса между положительными и отрицательными классами был обнаружен сильный перикос в стороны последнего.  \n",
    "Для установления степени влияния дисбаланса выполнили расчёт дополнительных показателей качества: **матрицы неточностей, recall (полнота), precision (точность), f1-score (f1-мера)**.  \n",
    "Согласно матрицам неточностей у модели **\"решающее дерево\"** склонно указывать ложные отрицательные значения, что связано с дисбалансом классов. Однако модель совершенно не блещет показателями \"полноты\" (0.33) и \"f1-мера\" (0.47).  \n",
    "**\"Случайный лес\"** выделяется на фоне остальных моделей по \"точности\" и парамтеру \"AUC ROC\" (0.82), но \"полнота\" (0.31) и \"f1-мера\" (0.46) оставляют желать лучшего, согласно матрице неточностей, причина в склонности модели укаывать ложно-негативные (FN) ответы.  \n",
    "Аналогичным недугом страдает **\"логистическая регрессия\"**, остальные показатели которой выглядят весьма посредственно на фоне двух других моделей. Полнота 0.2, Точность 0.62, F1-мера 0.3, AUC ROC 0.77.  \n",
    "В текущем виде применение моделей невозможно, необходимо устранить дисбаланс классов."
   ]
  },
  {
   "cell_type": "markdown",
   "metadata": {},
   "source": [
    "## Борьба с дисбалансом"
   ]
  },
  {
   "cell_type": "markdown",
   "metadata": {},
   "source": [
    "### Попробуем сбалансировать классы \"взвешиванием\" параметром `class_weight`"
   ]
  },
  {
   "cell_type": "code",
   "execution_count": 24,
   "metadata": {},
   "outputs": [
    {
     "name": "stdout",
     "output_type": "stream",
     "text": [
      "Дерево решений\n",
      "Лучший показатель глубины дерева: 8\n",
      "Лучший показатель accurancy: 0.7565\n",
      "Лучший показатель f1: 0.5409990574929312\n",
      "Accurancy 0.7565\n",
      "AUC-ROC 0.7888150091539922\n"
     ]
    },
    {
     "data": {
      "image/png": "[encoded data removed]",
      "text/plain": [
       "<Figure size 432x288 with 1 Axes>"
      ]
     },
     "metadata": {
      "needs_background": "light"
     },
     "output_type": "display_data"
    },
    {
     "name": "stdout",
     "output_type": "stream",
     "text": [
      "CPU times: user 487 ms, sys: 3.99 ms, total: 491 ms\n",
      "Wall time: 499 ms\n"
     ]
    }
   ],
   "source": [
    "%%time\n",
    "\n",
    "best_result = 0\n",
    "best_depth = 0\n",
    "best_model_dtc = None\n",
    "best_f1 = 0\n",
    "\n",
    "for depth in range(1, 16):\n",
    "    model_dtc = DecisionTreeClassifier(random_state=12345, max_depth=depth, class_weight='balanced')\n",
    "    # обучаем модель\n",
    "    model_dtc.fit(features_train, target_train)\n",
    "    # предсказываем целевой признак для валидационной выборки\n",
    "    predictions_validate = model_dtc.predict(features_validate)\n",
    "    # проверяем accurancy для валидационной выборки\n",
    "    result = accuracy_score(target_validate, predictions_validate)\n",
    "    # f1-мера\n",
    "    f1 = f1_score(target_validate, predictions_validate)\n",
    "    \n",
    "    # сохраняем лучшие значения\n",
    "    if f1 > best_f1:\n",
    "        best_depth = depth\n",
    "        best_result = result\n",
    "        best_model_dtc = model_dtc\n",
    "        best_f1 = f1\n",
    "\n",
    "dtc_score = best_result\n",
    "model_dtc_bal = best_model_dtc\n",
    "dtc_f1 = best_f1\n",
    "\n",
    "print('Дерево решений')\n",
    "print('Лучший показатель глубины дерева:', best_depth)\n",
    "print('Лучший показатель accurancy:', dtc_score)\n",
    "print('Лучший показатель f1:', dtc_f1)\n",
    "\n",
    "model_dtc_bal.fit(features_train, target_train)\n",
    "model_one_prob_valid_weight = model_dtc_bal.predict_proba(features_validate)[:, 1]\n",
    "print(\"Accurancy\", model_dtc_bal.score(features_validate, target_validate))\n",
    "print(\"AUC-ROC\", roc_auc_score(target_validate, model_one_prob_valid_weight))\n",
    "\n",
    "auc_roc_curve('rfc', target_validate, features_validate)"
   ]
  },
  {
   "cell_type": "code",
   "execution_count": 25,
   "metadata": {},
   "outputs": [
    {
     "name": "stdout",
     "output_type": "stream",
     "text": [
      "Случайный лес\n",
      "Лучший показатель accurancy при кол-ве деревьев: 90\n",
      "Лучший показатель accurancy при глубине: 9\n",
      "Лучший показатель accurancy при кол-ве элементов в листе: 3\n",
      "Лучший показатель accurancy: 0.823\n",
      "Лучший показатель f1: 0.5409990574929312\n",
      "Accurancy 0.823\n",
      "AUC-ROC 0.8418665198326216\n"
     ]
    },
    {
     "data": {
      "image/png": "[encoded data removed]",
      "text/plain": [
       "<Figure size 432x288 with 1 Axes>"
      ]
     },
     "metadata": {
      "needs_background": "light"
     },
     "output_type": "display_data"
    },
    {
     "name": "stdout",
     "output_type": "stream",
     "text": [
      "CPU times: user 3min 10s, sys: 760 ms, total: 3min 11s\n",
      "Wall time: 3min 11s\n"
     ]
    }
   ],
   "source": [
    "%%time\n",
    "\n",
    "best_model_rfc = None\n",
    "best_est = 0\n",
    "best_depth = 0\n",
    "best_sample = 0\n",
    "best_result = 0\n",
    "best_f1 = 0\n",
    "\n",
    "\n",
    "for est in range(10, 121, 10):\n",
    "    for depth in range(1, 16):\n",
    "        for sample in range(1, 4):\n",
    "            model_rfc = RandomForestClassifier(random_state=12345, \n",
    "                                               n_estimators=est, \n",
    "                                               max_depth=depth, \n",
    "                                               min_samples_leaf=sample, \n",
    "                                               class_weight='balanced')\n",
    "            # обучаем модель\n",
    "            model_rfc.fit(features_train, target_train)\n",
    "            # проверяем результат\n",
    "            result = model_rfc.score(features_validate, target_validate)\n",
    "            # Формируем предсказание:\n",
    "            predictions_validate = model_rfc.predict(features_validate)\n",
    "            # f1-мера\n",
    "            f1 = f1_score(target_validate, predictions_validate)\n",
    "            \n",
    "            if f1 > best_f1:\n",
    "                best_model_rfc = model_rfc\n",
    "                best_est = est\n",
    "                best_depth = depth\n",
    "                best_sample = sample\n",
    "                best_result = result\n",
    "                best_f1 = f1\n",
    "\n",
    "rfc_bal_score = best_result\n",
    "model_rfc_bal = best_model_rfc\n",
    "rfc_f1 = best_f1\n",
    "                \n",
    "print('Случайный лес')\n",
    "print('Лучший показатель accurancy при кол-ве деревьев:', best_est)\n",
    "print('Лучший показатель accurancy при глубине:', best_depth)\n",
    "print('Лучший показатель accurancy при кол-ве элементов в листе:', best_sample)\n",
    "print('Лучший показатель accurancy:', best_result)\n",
    "print('Лучший показатель f1:', dtc_f1)\n",
    "\n",
    "\n",
    "model_rfc_bal.fit(features_train, target_train)\n",
    "model_one_prob_valid_weight = model_rfc_bal.predict_proba(features_validate)[:, 1]\n",
    "print(\"Accurancy\", model_rfc_bal.score(features_validate, target_validate))\n",
    "print(\"AUC-ROC\", roc_auc_score(target_validate, model_one_prob_valid_weight))\n",
    "\n",
    "auc_roc_curve('rfc', target_validate, features_validate)"
   ]
  },
  {
   "cell_type": "code",
   "execution_count": 26,
   "metadata": {
    "scrolled": false
   },
   "outputs": [
    {
     "name": "stdout",
     "output_type": "stream",
     "text": [
      "Accurancy 0.812\n",
      "AUC-ROC 0.7652367313384262\n",
      "f1мера 0.2985074626865672\n"
     ]
    },
    {
     "data": {
      "image/png": "[encoded data removed]",
      "text/plain": [
       "<Figure size 432x288 with 1 Axes>"
      ]
     },
     "metadata": {
      "needs_background": "light"
     },
     "output_type": "display_data"
    }
   ],
   "source": [
    "model_lgr_bal = LogisticRegression(solver = 'liblinear', class_weight='balanced')\n",
    "model_lgr_bal.fit(features_train, target_train)\n",
    "# Формируем предсказание:\n",
    "predictions_validate = model_lgr.predict(features_validate)\n",
    "# f1-мера\n",
    "f1 = f1_score(target_validate, predictions_validate)\n",
    "\n",
    "model_one_prob_valid_weight = model_lgr.predict_proba(features_validate)[:, 1]\n",
    "print(\"Accurancy\", model_lgr.score(features_validate, target_validate))\n",
    "print(\"AUC-ROC\", roc_auc_score(target_validate, model_one_prob_valid_weight))\n",
    "print(\"f1мера\", f1)\n",
    "\n",
    "auc_roc_curve('lgr_bal', target_validate, features_validate)"
   ]
  },
  {
   "cell_type": "markdown",
   "metadata": {},
   "source": [
    "Как видно из результатов, попытка сбалансировать классы целевого признака за счёт параметра обернулась провалом, необходимо количественно изменить пропорции."
   ]
  },
  {
   "cell_type": "markdown",
   "metadata": {},
   "source": [
    " ### Подготовка обучающей выборки"
   ]
  },
  {
   "cell_type": "markdown",
   "metadata": {},
   "source": [
    "Ранее мы установили, что пропорция между классами у нас составляет: 80% отрицательных ответов, 20% - положительных.  \n",
    "Для устранения дисбаланса обычно применяют 2 метода: \"upsample\" - увеличение младшего из классов до размера старшего, и \"downsample\" - сокращение старшего класса до размеров младшего.  \n",
    "Алгоритм действий:\n",
    "  1) Разделим обучающую выборку на отрицательные и положительные признаки, согласно разметке;  \n",
    "  2) Скопируем несколько раз положительные признаки / сократим рандомно в несколько раз отрицательные признаки;  \n",
    "  3) С учётом полученных данных создадим новую обучающую выборку;  \n",
    "  4) Перемешаем данные;  \n",
    "  5) Обучим модели заново и сравним показатели."
   ]
  },
  {
   "cell_type": "code",
   "execution_count": 27,
   "metadata": {},
   "outputs": [],
   "source": [
    "# можно составить универсальную функцию\n",
    "def sampling(features, target, big_class, operation_type, ratio):\n",
    "    # делим на классы признаки и целевой признак\n",
    "    features_zeros = features[target == 0]\n",
    "    features_ones = features[target == 1]\n",
    "    target_zeros = target[target == 0]\n",
    "    target_ones = target[target == 1]\n",
    "    \n",
    "    # если требуется upsamle\n",
    "    if operation_type == 'up':\n",
    "        if big_class == 1:\n",
    "            features_us = pd.concat([features_zeros] * ratio + [features_ones])\n",
    "            target_us = pd.concat([target_zeros] * repeat + [target_ones])\n",
    "            features_us, target_us = shuffle(features_us, target_us, random_state=12345)\n",
    "\n",
    "        else:\n",
    "            features_us = pd.concat([features_zeros] + [features_ones] * ratio)\n",
    "            target_us = pd.concat([target_zeros] + [target_ones] * ratio)\n",
    "            features_us, target_us = shuffle(features_us, target_us, random_state=12345)\n",
    "        \n",
    "        return features_us, target_us\n",
    "    \n",
    "    # если требуется downsample\n",
    "    else:\n",
    "        if big_class == 1:\n",
    "            features_ds = pd.concat([features_ones.sample(frac=ratio, random_state=12345)] + [features_zeros])\n",
    "            target_ds = pd.concat([target_ones.sample(frac=ratio, random_state=12345)] + [target_zeros])\n",
    "            features_ds, target_ds = shuffle(features_ds, target_ds, random_state=12345)\n",
    "\n",
    "        else:\n",
    "            features_ds = pd.concat([features_zeros.sample(frac=ratio, random_state=12345)] + [features_ones])\n",
    "            target_ds = pd.concat([target_zeros.sample(frac=ratio, random_state=12345)] + [target_ones])\n",
    "            features_ds, target_ds = shuffle(features_ds, target_ds, random_state=12345)\n",
    "            \n",
    "        return features_ds, target_ds"
   ]
  },
  {
   "cell_type": "code",
   "execution_count": 28,
   "metadata": {},
   "outputs": [
    {
     "name": "stdout",
     "output_type": "stream",
     "text": [
      "(9579, 11) | (9579,)\n",
      "0    0.501827\n",
      "1    0.498173\n",
      "Name: Exited, dtype: float64\n"
     ]
    }
   ],
   "source": [
    "# вызываем фукцию, запрашиваем выборку с увеличением положительного класса\n",
    "features_us, target_us = sampling(features_train, target_train, 0, 'up', 4)\n",
    "print(features_us.shape, target_us.shape, sep=' | ')\n",
    "print(target_us.value_counts(normalize = 1))"
   ]
  },
  {
   "cell_type": "code",
   "execution_count": 29,
   "metadata": {},
   "outputs": [
    {
     "name": "stdout",
     "output_type": "stream",
     "text": [
      "(2395, 11) | (2395,)\n",
      "0    0.501879\n",
      "1    0.498121\n",
      "Name: Exited, dtype: float64\n"
     ]
    }
   ],
   "source": [
    "# вызываем фукцию, запрашиваем выборку с уменьшением отрицательного класса\n",
    "features_ds, target_ds = sampling(features_train, target_train, 0, 'down', 0.25)\n",
    "print(features_ds.shape, target_ds.shape, sep=' | ')\n",
    "print(target_ds.value_counts(normalize = 1))"
   ]
  },
  {
   "cell_type": "markdown",
   "metadata": {},
   "source": [
    "Удалось добиться почти одинакового баланса для классов обоими методами.  \n",
    "Обычно, предпочитают большее количество данных меньшему, поэтому далее будем использовать результаты upsample балансирования."
   ]
  },
  {
   "cell_type": "markdown",
   "metadata": {},
   "source": [
    "### Измерение показателей качества моделей на сбалансированной обучающей выборке"
   ]
  },
  {
   "cell_type": "markdown",
   "metadata": {},
   "source": [
    "Обучаем модели заново на сэмплированной выборке, теперь подбор гиперпараметров будем производить на основании f1-меры, как цевого показателя."
   ]
  },
  {
   "cell_type": "code",
   "execution_count": 30,
   "metadata": {},
   "outputs": [
    {
     "name": "stdout",
     "output_type": "stream",
     "text": [
      "Дерево решений\n",
      "Лучший показатель глубины дерева: 8\n",
      "Лучший показатель accurancy: 0.7575\n",
      "Лучший результат f1-меры: 0.543744120413923\n",
      "CPU times: user 435 ms, sys: 0 ns, total: 435 ms\n",
      "Wall time: 438 ms\n"
     ]
    }
   ],
   "source": [
    "%%time\n",
    "\n",
    "best_result = 0\n",
    "best_depth = 0\n",
    "best_f1 = 0\n",
    "best_model_dtc = None\n",
    "\n",
    "for depth in range(1, 16):\n",
    "    model_dtc = DecisionTreeClassifier(random_state=12345, max_depth=depth)\n",
    "    # обучаем модель\n",
    "    model_dtc.fit(features_us, target_us)\n",
    "    # предсказываем целевой признак для валидационной выборки\n",
    "    predictions_validate = model_dtc.predict(features_validate)\n",
    "    # проверяем accurancy для валидационной выборки\n",
    "    result = accuracy_score(target_validate, predictions_validate)\n",
    "    # f1-мера\n",
    "    f1 = f1_score(target_validate, predictions_validate)\n",
    "    \n",
    "    # сохраняем лучшие значения\n",
    "    if f1 > best_f1:\n",
    "        best_depth = depth\n",
    "        best_result = result\n",
    "        best_f1 = f1\n",
    "        best_model_dtc = model_dtc\n",
    "\n",
    "dtc_score = best_result\n",
    "model_dtc = best_model_dtc\n",
    "dtc_f1 = best_f1\n",
    "\n",
    "print('Дерево решений')\n",
    "print('Лучший показатель глубины дерева:', best_depth)\n",
    "print('Лучший показатель accurancy:', dtc_score)\n",
    "print('Лучший результат f1-меры:', dtc_f1)"
   ]
  },
  {
   "cell_type": "code",
   "execution_count": 31,
   "metadata": {},
   "outputs": [
    {
     "name": "stdout",
     "output_type": "stream",
     "text": [
      "Случайный лес\n",
      "Лучший показатель accurancy при кол-ве деревьев: 50\n",
      "Лучший показатель accurancy при глубине: 15\n",
      "Лучший показатель accurancy при кол-ве элементов в листе: 3\n",
      "Лучший показатель accurancy: 0.8385\n",
      "Лучший показатель результат f1-меры: 0.6084848484848485\n",
      "CPU times: user 4min 24s, sys: 1.41 s, total: 4min 26s\n",
      "Wall time: 4min 27s\n"
     ]
    }
   ],
   "source": [
    "%%time\n",
    "\n",
    "best_model_rfc = None\n",
    "best_est = 0\n",
    "best_depth = 0\n",
    "best_sample = 0\n",
    "best_result = 0\n",
    "best_f1 = 0\n",
    "\n",
    "\n",
    "for est in range(10, 121, 10):\n",
    "    for depth in range(1, 16):\n",
    "        for sample in range(1, 4):\n",
    "            model_rfc = RandomForestClassifier(random_state=12345, n_estimators=est, max_depth=depth, min_samples_leaf=sample)\n",
    "            # обучаем модель\n",
    "            model_rfc.fit(features_us, target_us)\n",
    "            # делаем предсказание\n",
    "            predictions_validate = model_rfc.predict(features_validate)\n",
    "            # проверяем результат\n",
    "            result = model_rfc.score(features_validate, target_validate)\n",
    "            # f1-measure\n",
    "            f1 = f1_score(target_validate, predictions_validate)\n",
    "            \n",
    "            if f1 > best_f1:\n",
    "                best_model_rfc = model_rfc\n",
    "                best_est = est\n",
    "                best_depth = depth\n",
    "                best_sample = sample\n",
    "                best_result = result\n",
    "                best_f1 = f1\n",
    "\n",
    "rfc_score = best_result\n",
    "model_rfc = best_model_rfc\n",
    "rfc_f1 = best_f1\n",
    "                \n",
    "print('Случайный лес')\n",
    "print('Лучший показатель accurancy при кол-ве деревьев:', best_est)\n",
    "print('Лучший показатель accurancy при глубине:', best_depth)\n",
    "print('Лучший показатель accurancy при кол-ве элементов в листе:', best_sample)\n",
    "print('Лучший показатель accurancy:', best_result)\n",
    "print('Лучший показатель результат f1-меры:', rfc_f1)"
   ]
  },
  {
   "cell_type": "code",
   "execution_count": 32,
   "metadata": {},
   "outputs": [],
   "source": [
    "model_lgr = LogisticRegression(solver = 'liblinear')\n",
    "lgr_score = model_lgr.fit(features_us, target_us).score(features_validate, target_validate)\n",
    "# Формируем предсказание:\n",
    "predictions_validate = model_lgr.predict(features_validate)\n",
    "# f1-мера\n",
    "f1 = f1_score(target_validate, predictions_validate)"
   ]
  },
  {
   "cell_type": "code",
   "execution_count": 33,
   "metadata": {},
   "outputs": [
    {
     "name": "stdout",
     "output_type": "stream",
     "text": [
      "f1 моделей:\n",
      "дерево решений 0.543744120413923\n",
      "случайный лес  0.6084848484848485\n",
      "логистическая регрессия 0.2985074626865672\n"
     ]
    }
   ],
   "source": [
    "print(\"f1 моделей:\")\n",
    "print(\"дерево решений\", dtc_f1)\n",
    "print(\"случайный лес \", rfc_f1) \n",
    "print(\"логистическая регрессия\", lgr_f1)"
   ]
  },
  {
   "cell_type": "code",
   "execution_count": 34,
   "metadata": {},
   "outputs": [
    {
     "name": "stdout",
     "output_type": "stream",
     "text": [
      "dtc confusion matrix is \n",
      "[[1226  367]\n",
      " [ 118  289]]\n",
      "Полнота 0.7100737100737101\n",
      "Точность 0.4405487804878049\n",
      "F1-мера 0.543744120413923\n",
      "AUC ROC 0.7910838419312997\n",
      "\n",
      "\n",
      "rfc confusion matrix is \n",
      "[[1426  167]\n",
      " [ 156  251]]\n",
      "Полнота 0.6167076167076168\n",
      "Точность 0.6004784688995215\n",
      "F1-мера 0.6084848484848485\n",
      "AUC ROC 0.8319598489090015\n",
      "\n",
      "\n",
      "lgr confusion matrix is \n",
      "[[1155  438]\n",
      " [ 126  281]]\n",
      "Полнота 0.6904176904176904\n",
      "Точность 0.3908205841446453\n",
      "F1-мера 0.49911190053285975\n",
      "AUC ROC 0.7653986806529179\n",
      "\n",
      "\n"
     ]
    }
   ],
   "source": [
    "# проверяем другие показатели моделей\n",
    "models = ['dtc', 'rfc', 'lgr']\n",
    "for model in models:\n",
    "    score_param(model, features_validate, target_validate)\n",
    "    print()\n",
    "    print()"
   ]
  },
  {
   "cell_type": "code",
   "execution_count": 35,
   "metadata": {},
   "outputs": [
    {
     "data": {
      "image/png": "[encoded data removed]",
      "text/plain": [
       "<Figure size 432x288 with 1 Axes>"
      ]
     },
     "metadata": {
      "needs_background": "light"
     },
     "output_type": "display_data"
    },
    {
     "data": {
      "image/png": "[encoded data removed]",
      "text/plain": [
       "<Figure size 432x288 with 1 Axes>"
      ]
     },
     "metadata": {
      "needs_background": "light"
     },
     "output_type": "display_data"
    },
    {
     "data": {
      "image/png": "[encoded data removed]",
      "text/plain": [
       "<Figure size 432x288 with 1 Axes>"
      ]
     },
     "metadata": {
      "needs_background": "light"
     },
     "output_type": "display_data"
    }
   ],
   "source": [
    "# ну и новые графики ROC кривых\n",
    "models = ['dtc', 'rfc', 'lgr']\n",
    "for model in models:\n",
    "    auc_roc_curve(model, target_validate, features_validate)"
   ]
  },
  {
   "cell_type": "markdown",
   "metadata": {},
   "source": [
    "### Выводы"
   ]
  },
  {
   "cell_type": "markdown",
   "metadata": {},
   "source": [
    "При выборе метода сэмплирования, удалось достичь практически одинакового распределения классов, что при уменьшении большего класса, что при увеличении младшего. Было принято решение использовать результат увеличения младшего класса.  \n",
    "На основании обучающей выборки, подвергнутой процедуре балансирования классов методом upsample, модели были заново обучены. Далее был произведён расчёт основных параметров оценки качества их работы, сравнение с предыдущими результатами.  \n",
    "Показатели работы всех моделей улучшились. Лучшей моделью по-прежнему является \"Случайный лес\" c F1-мера 0.6068 на валидационной выборке, что выше целевого показателя."
   ]
  },
  {
   "cell_type": "markdown",
   "metadata": {},
   "source": [
    "## Тестирование модели"
   ]
  },
  {
   "cell_type": "code",
   "execution_count": 36,
   "metadata": {},
   "outputs": [],
   "source": [
    "# объединим обучающую и валидационную выборки\n",
    "features_full_train = pd.concat([features_train, features_validate])\n",
    "target_full_train = pd.concat([target_train, target_validate])\n",
    "\n",
    "# Если лучшим методом борьбы с дисбалансом оказался Upsampling, то выборки нужно увеличить\n",
    "features_ups, target_ups = sampling(features_full_train, target_full_train, 0, 'up', 4)"
   ]
  },
  {
   "cell_type": "code",
   "execution_count": 37,
   "metadata": {},
   "outputs": [
    {
     "name": "stdout",
     "output_type": "stream",
     "text": [
      "Доля правильных ответов финальной модели \"Случайный лес\": 0.847\n"
     ]
    }
   ],
   "source": [
    "# проводим финальное обучение и измерение ключевых показателей\n",
    "model_rfc_final = RandomForestClassifier(max_depth=15, n_estimators=50, min_samples_leaf=3, random_state=12345)\n",
    "score = model_rfc_final.fit(features_ups, target_ups).score(features_test, target_test)\n",
    "print('Доля правильных ответов финальной модели \"Случайный лес\":', score)"
   ]
  },
  {
   "cell_type": "code",
   "execution_count": 38,
   "metadata": {},
   "outputs": [
    {
     "name": "stdout",
     "output_type": "stream",
     "text": [
      "rfc confusion matrix is \n",
      "[[1414  149]\n",
      " [ 150  287]]\n",
      "Полнота 0.6567505720823799\n",
      "Точность 0.658256880733945\n",
      "F1-мера 0.6575028636884307\n",
      "AUC ROC 0.8615245867317881\n"
     ]
    }
   ],
   "source": [
    "# полнота, точность, f1-мера\n",
    "score_param('rfc', features_test, target_test)"
   ]
  },
  {
   "cell_type": "code",
   "execution_count": 39,
   "metadata": {},
   "outputs": [
    {
     "data": {
      "image/png": "[encoded data removed]",
      "text/plain": [
       "<Figure size 432x288 with 1 Axes>"
      ]
     },
     "metadata": {
      "needs_background": "light"
     },
     "output_type": "display_data"
    }
   ],
   "source": [
    "# график ROC\n",
    "auc_roc_curve('rfc', target_test, features_test)"
   ]
  },
  {
   "cell_type": "raw",
   "metadata": {},
   "source": [
    "# Код ревьюера\n",
    "# Объединяем выборки\n",
    "features_full_train = pd.concat([features_train, features_valid])\n",
    "target_full_train = pd.concat([target_train, target_valid])\n",
    "\n",
    "# Если лучшим методом борьбы с дисбалансом оказался Upsampling, то выборки нужно увеличить\n",
    "features_upsampled, target_upsampled = upsample(features_full_train, target_full_train, 4)\n",
    "\n",
    "# ... если Downsampling - уменьшить\n",
    "features_downsampled, target_downsampled = downsample(features_full_train, target_full_train, 0.25)"
   ]
  },
  {
   "cell_type": "markdown",
   "metadata": {},
   "source": [
    "Нужно сравнить показатели финальной модели с константной моделью, то есть проверить полученную модель на адекватность."
   ]
  },
  {
   "cell_type": "code",
   "execution_count": 40,
   "metadata": {},
   "outputs": [
    {
     "data": {
      "text/plain": [
       "0    2000\n",
       "dtype: int64"
      ]
     },
     "execution_count": 40,
     "metadata": {},
     "output_type": "execute_result"
    }
   ],
   "source": [
    "# создаем константную модель\n",
    "target_predict_constant = pd.Series([0]*len(target_test))\n",
    "target_predict_constant.value_counts()"
   ]
  },
  {
   "cell_type": "code",
   "execution_count": 41,
   "metadata": {},
   "outputs": [
    {
     "name": "stdout",
     "output_type": "stream",
     "text": [
      "accuracy константой модели: 0.7815\n",
      "accuracy финальной модели: 0.847\n",
      "AUC-ROC константой модели: 0.5\n",
      "AUC-ROC финальной модели: 0.7759984539501136\n"
     ]
    }
   ],
   "source": [
    "# сравним показатель accuracy константной модели и финальной\n",
    "model_rfc_final_pred = model_rfc_final.predict(features_test)\n",
    "print('accuracy константой модели:', accuracy_score(target_test, target_predict_constant))\n",
    "print('accuracy финальной модели:', accuracy_score(target_test, model_rfc_final_pred))\n",
    "# дополнительно сравним AUC-ROC — единственный параметр подающийся сравнению, потому что константная подель содержит только негативные ответы\n",
    "print('AUC-ROC константой модели:', roc_auc_score(target_test, target_predict_constant))\n",
    "print('AUC-ROC финальной модели:', roc_auc_score(target_test, model_rfc_final_pred))"
   ]
  },
  {
   "cell_type": "markdown",
   "metadata": {},
   "source": [
    "### Вывод:  \n",
    "Показатели финальной модели выше, чем у константной.\n",
    "Финальная модель \"Случайный лес\" адекватна, по показателю f1-мера было достигнуто целевое значение."
   ]
  },
  {
   "cell_type": "markdown",
   "metadata": {},
   "source": [
    "## Общие выводы:  \n",
    "Первое, что мы сделали в данной работе - оценили качество предоставленных данных. Они нуждались в небольшой подготовке:  \n",
    "  * избавились от пропусков в данных;\n",
    "  * поиск дубликатов ничего не дал - это хорошо;\n",
    "  * при оценке значимости признаков, были удалены несколько колонок;\n",
    "  * категориальные данные перекодировали в цифровые. Из-за этого увеличилось число колонок;\n",
    "  * стандартизировали численные признаки для удобства обучения модели.  \n",
    "\n",
    "На следующем этапе мы сформировали из подготовленных данных выборки для обучения, валидации и тестирования трёх выбранных нами моделей: \"решающее дерево\", \"случайный лес\" и \"логистическая регресия\". Доля правильных ответов у \"случайного леса\" была достаточно высока, однако при подсчёте других качественных показателей работы моделей было обнаружено, что присутствует ярковыраженный дисбаланс между положительным и отрицательным классами в соотношении 80/20%. По этой причине  все модели на первоначальных данных характеризовались высокой степенью ошибок и низким качеством взвешенной величины (F1) — модели показывали низкие результаты точности и полноты.  \n",
    "\n",
    "Разобрали несколько вариантов борьбы с дисбалансом: \"взвешиванием\", upsampling и downsampling, был выбран метод upsampling, то есть с увеличением объектов маньшего класса.  \n",
    "\n",
    "На сэмплированной выборке показатели каждой модели улучшились, лучшей вновь стала \"случайный лес\", её показатели:  \n",
    "Доля правильных ответов: 0.8385  \n",
    "Полнота 0.6167076167076168  \n",
    "Точность 0.6004784688995215  \n",
    "F1-мера 0.6084848484848485  \n",
    "AUC ROC 0.8319598489090015    \n",
    "\n",
    "Финальная модель прошла проверку на адекватность в сравнении с контантной моделью:  \n",
    "accuracy константой модели: 0.7815  \n",
    "**accuracy финальной модели**: 0.847  \n",
    "AUC-ROC константой модели: 0.5  \n",
    "**AUC-ROC финальной модели**: 0.7759984539501136  \n",
    "\n",
    "Показатель f1-меры у финальной модели на тестовой выборке составил 0.658, что **выше** целевого значения 0.59."
   ]
  }
 ],
 "metadata": {
  "ExecuteTimeLog": [
   {
    "duration": 1630,
    "start_time": "2023-03-23T17:52:33.591Z"
   },
   {
    "duration": 107,
    "start_time": "2023-03-23T17:53:25.687Z"
   },
   {
    "duration": 59,
    "start_time": "2023-03-23T17:53:54.192Z"
   },
   {
    "duration": 103,
    "start_time": "2023-03-23T17:56:10.706Z"
   },
   {
    "duration": 41,
    "start_time": "2023-03-23T17:57:57.954Z"
   },
   {
    "duration": 64,
    "start_time": "2023-03-23T17:58:29.454Z"
   },
   {
    "duration": 68,
    "start_time": "2023-03-23T17:58:43.592Z"
   },
   {
    "duration": 12,
    "start_time": "2023-03-23T19:33:57.927Z"
   },
   {
    "duration": 11,
    "start_time": "2023-03-23T19:34:08.235Z"
   },
   {
    "duration": 13,
    "start_time": "2023-03-23T19:34:18.524Z"
   },
   {
    "duration": 124,
    "start_time": "2023-03-23T19:35:14.517Z"
   },
   {
    "duration": 25,
    "start_time": "2023-03-23T19:35:29.814Z"
   },
   {
    "duration": 14,
    "start_time": "2023-03-23T19:35:38.075Z"
   },
   {
    "duration": 20,
    "start_time": "2023-03-23T19:48:47.485Z"
   },
   {
    "duration": 20,
    "start_time": "2023-03-23T19:49:00.253Z"
   },
   {
    "duration": 18,
    "start_time": "2023-03-23T19:49:14.501Z"
   },
   {
    "duration": 7,
    "start_time": "2023-03-23T19:53:31.856Z"
   },
   {
    "duration": 9,
    "start_time": "2023-03-23T20:09:14.631Z"
   },
   {
    "duration": 11,
    "start_time": "2023-03-23T20:09:25.142Z"
   },
   {
    "duration": 9,
    "start_time": "2023-03-23T20:17:23.160Z"
   },
   {
    "duration": 8,
    "start_time": "2023-03-23T20:18:09.040Z"
   },
   {
    "duration": 8,
    "start_time": "2023-03-23T20:18:13.448Z"
   },
   {
    "duration": 8,
    "start_time": "2023-03-23T20:19:51.244Z"
   },
   {
    "duration": 9,
    "start_time": "2023-03-23T20:20:09.538Z"
   },
   {
    "duration": 10,
    "start_time": "2023-03-23T20:21:35.290Z"
   },
   {
    "duration": 11,
    "start_time": "2023-03-23T20:21:45.217Z"
   },
   {
    "duration": 76,
    "start_time": "2023-03-23T20:36:03.707Z"
   },
   {
    "duration": 15,
    "start_time": "2023-03-23T20:36:22.602Z"
   },
   {
    "duration": 8,
    "start_time": "2023-03-23T20:36:39.933Z"
   },
   {
    "duration": 9,
    "start_time": "2023-03-23T20:37:16.599Z"
   },
   {
    "duration": 51,
    "start_time": "2023-03-24T08:41:08.670Z"
   },
   {
    "duration": 1663,
    "start_time": "2023-03-24T08:41:15.782Z"
   },
   {
    "duration": 165,
    "start_time": "2023-03-24T08:41:17.447Z"
   },
   {
    "duration": 86,
    "start_time": "2023-03-24T08:41:17.614Z"
   },
   {
    "duration": 8,
    "start_time": "2023-03-24T08:41:17.703Z"
   },
   {
    "duration": 12,
    "start_time": "2023-03-24T08:41:17.713Z"
   },
   {
    "duration": 16,
    "start_time": "2023-03-24T08:41:17.727Z"
   },
   {
    "duration": 5,
    "start_time": "2023-03-24T08:42:57.550Z"
   },
   {
    "duration": 119,
    "start_time": "2023-03-24T08:43:02.334Z"
   },
   {
    "duration": 5,
    "start_time": "2023-03-24T08:43:19.894Z"
   },
   {
    "duration": 20,
    "start_time": "2023-03-24T08:44:21.429Z"
   },
   {
    "duration": 28,
    "start_time": "2023-03-24T08:45:02.244Z"
   },
   {
    "duration": 18,
    "start_time": "2023-03-24T10:50:19.436Z"
   },
   {
    "duration": 15,
    "start_time": "2023-03-24T10:55:21.566Z"
   },
   {
    "duration": 11,
    "start_time": "2023-03-24T10:55:24.991Z"
   },
   {
    "duration": 20,
    "start_time": "2023-03-24T10:55:34.438Z"
   },
   {
    "duration": 32,
    "start_time": "2023-03-24T10:56:26.878Z"
   },
   {
    "duration": 12,
    "start_time": "2023-03-24T14:18:14.526Z"
   },
   {
    "duration": 37,
    "start_time": "2023-03-24T14:18:26.626Z"
   },
   {
    "duration": 17,
    "start_time": "2023-03-24T18:03:49.616Z"
   },
   {
    "duration": 4,
    "start_time": "2023-03-24T18:04:32.201Z"
   },
   {
    "duration": 12,
    "start_time": "2023-03-24T18:09:35.890Z"
   },
   {
    "duration": 10,
    "start_time": "2023-03-24T18:10:04.029Z"
   },
   {
    "duration": 4,
    "start_time": "2023-03-24T18:14:45.103Z"
   },
   {
    "duration": 6,
    "start_time": "2023-03-24T18:15:00.371Z"
   },
   {
    "duration": 6,
    "start_time": "2023-03-24T18:16:12.447Z"
   },
   {
    "duration": 7,
    "start_time": "2023-03-24T18:16:59.266Z"
   },
   {
    "duration": 14,
    "start_time": "2023-03-24T18:17:33.379Z"
   },
   {
    "duration": 4,
    "start_time": "2023-03-24T19:37:22.812Z"
   },
   {
    "duration": 57,
    "start_time": "2023-03-24T19:50:15.819Z"
   },
   {
    "duration": 371,
    "start_time": "2023-03-24T19:51:06.218Z"
   },
   {
    "duration": 5,
    "start_time": "2023-03-24T20:26:58.483Z"
   },
   {
    "duration": 5,
    "start_time": "2023-03-24T20:27:31.537Z"
   },
   {
    "duration": 355,
    "start_time": "2023-03-24T20:27:33.330Z"
   },
   {
    "duration": 70,
    "start_time": "2023-03-25T14:21:17.832Z"
   },
   {
    "duration": 1693,
    "start_time": "2023-03-25T14:21:26.807Z"
   },
   {
    "duration": 222,
    "start_time": "2023-03-25T14:21:28.503Z"
   },
   {
    "duration": 86,
    "start_time": "2023-03-25T14:21:28.727Z"
   },
   {
    "duration": 6,
    "start_time": "2023-03-25T14:21:28.815Z"
   },
   {
    "duration": 46,
    "start_time": "2023-03-25T14:21:28.823Z"
   },
   {
    "duration": 11,
    "start_time": "2023-03-25T14:21:28.877Z"
   },
   {
    "duration": 4,
    "start_time": "2023-03-25T14:21:28.889Z"
   },
   {
    "duration": 13,
    "start_time": "2023-03-25T14:21:28.895Z"
   },
   {
    "duration": 19,
    "start_time": "2023-03-25T14:21:28.910Z"
   },
   {
    "duration": 60,
    "start_time": "2023-03-25T14:21:28.931Z"
   },
   {
    "duration": 9,
    "start_time": "2023-03-25T14:21:28.992Z"
   },
   {
    "duration": 7,
    "start_time": "2023-03-25T14:21:29.003Z"
   },
   {
    "duration": 4,
    "start_time": "2023-03-25T14:21:29.011Z"
   },
   {
    "duration": 463,
    "start_time": "2023-03-25T14:21:29.017Z"
   },
   {
    "duration": 7,
    "start_time": "2023-03-25T14:50:40.363Z"
   },
   {
    "duration": 13,
    "start_time": "2023-03-25T14:51:10.040Z"
   },
   {
    "duration": 4,
    "start_time": "2023-03-26T16:41:46.927Z"
   },
   {
    "duration": 50,
    "start_time": "2023-03-26T16:42:57.551Z"
   },
   {
    "duration": 1589,
    "start_time": "2023-03-26T16:43:06.247Z"
   },
   {
    "duration": 173,
    "start_time": "2023-03-26T16:43:07.839Z"
   },
   {
    "duration": 61,
    "start_time": "2023-03-26T16:43:08.013Z"
   },
   {
    "duration": 5,
    "start_time": "2023-03-26T16:43:08.076Z"
   },
   {
    "duration": 25,
    "start_time": "2023-03-26T16:43:08.084Z"
   },
   {
    "duration": 30,
    "start_time": "2023-03-26T16:43:08.111Z"
   },
   {
    "duration": 5,
    "start_time": "2023-03-26T16:43:08.143Z"
   },
   {
    "duration": 17,
    "start_time": "2023-03-26T16:43:08.149Z"
   },
   {
    "duration": 20,
    "start_time": "2023-03-26T16:43:08.167Z"
   },
   {
    "duration": 58,
    "start_time": "2023-03-26T16:43:08.189Z"
   },
   {
    "duration": 11,
    "start_time": "2023-03-26T16:43:08.248Z"
   },
   {
    "duration": 9,
    "start_time": "2023-03-26T16:43:08.260Z"
   },
   {
    "duration": 5,
    "start_time": "2023-03-26T16:43:08.270Z"
   },
   {
    "duration": 468,
    "start_time": "2023-03-26T16:43:08.277Z"
   },
   {
    "duration": 92,
    "start_time": "2023-03-26T16:43:08.747Z"
   },
   {
    "duration": 200,
    "start_time": "2023-03-26T16:43:08.841Z"
   },
   {
    "duration": 9,
    "start_time": "2023-03-26T16:44:13.405Z"
   },
   {
    "duration": 48,
    "start_time": "2023-03-26T16:50:14.597Z"
   },
   {
    "duration": 38,
    "start_time": "2023-03-26T16:50:53.634Z"
   },
   {
    "duration": 392,
    "start_time": "2023-03-26T16:52:07.120Z"
   },
   {
    "duration": 5,
    "start_time": "2023-03-26T16:52:12.567Z"
   },
   {
    "duration": 8,
    "start_time": "2023-03-26T16:52:15.166Z"
   },
   {
    "duration": 25,
    "start_time": "2023-03-26T16:52:25.826Z"
   },
   {
    "duration": 3,
    "start_time": "2023-03-26T16:54:55.705Z"
   },
   {
    "duration": 10,
    "start_time": "2023-03-26T16:55:33.837Z"
   },
   {
    "duration": 4,
    "start_time": "2023-03-26T17:07:29.768Z"
   },
   {
    "duration": 11,
    "start_time": "2023-03-26T17:08:16.594Z"
   },
   {
    "duration": 4,
    "start_time": "2023-03-26T17:11:11.422Z"
   },
   {
    "duration": 25,
    "start_time": "2023-03-26T17:11:12.434Z"
   },
   {
    "duration": 8,
    "start_time": "2023-03-26T17:11:13.441Z"
   },
   {
    "duration": 27,
    "start_time": "2023-03-26T17:11:25.612Z"
   },
   {
    "duration": 4,
    "start_time": "2023-03-26T17:12:11.727Z"
   },
   {
    "duration": 26,
    "start_time": "2023-03-26T17:12:12.416Z"
   },
   {
    "duration": 29,
    "start_time": "2023-03-26T17:12:15.457Z"
   },
   {
    "duration": 4,
    "start_time": "2023-03-26T17:12:34.705Z"
   },
   {
    "duration": 29,
    "start_time": "2023-03-26T17:12:35.107Z"
   },
   {
    "duration": 29,
    "start_time": "2023-03-26T17:12:35.485Z"
   },
   {
    "duration": 4,
    "start_time": "2023-03-26T17:13:17.919Z"
   },
   {
    "duration": 26,
    "start_time": "2023-03-26T17:13:20.241Z"
   },
   {
    "duration": 30,
    "start_time": "2023-03-26T17:13:21.043Z"
   },
   {
    "duration": 3,
    "start_time": "2023-03-26T17:13:30.575Z"
   },
   {
    "duration": 25,
    "start_time": "2023-03-26T17:13:32.585Z"
   },
   {
    "duration": 29,
    "start_time": "2023-03-26T17:13:33.666Z"
   },
   {
    "duration": 4,
    "start_time": "2023-03-26T17:14:02.096Z"
   },
   {
    "duration": 25,
    "start_time": "2023-03-26T17:14:02.626Z"
   },
   {
    "duration": 28,
    "start_time": "2023-03-26T17:14:02.969Z"
   },
   {
    "duration": 4,
    "start_time": "2023-03-26T17:20:33.817Z"
   },
   {
    "duration": 27,
    "start_time": "2023-03-26T17:20:34.547Z"
   },
   {
    "duration": 4,
    "start_time": "2023-03-26T17:25:37.287Z"
   },
   {
    "duration": 35,
    "start_time": "2023-03-26T17:25:38.003Z"
   },
   {
    "duration": 4,
    "start_time": "2023-03-26T17:26:30.710Z"
   },
   {
    "duration": 29,
    "start_time": "2023-03-26T17:26:32.122Z"
   },
   {
    "duration": 4,
    "start_time": "2023-03-26T17:26:48.388Z"
   },
   {
    "duration": 29,
    "start_time": "2023-03-26T17:26:48.753Z"
   },
   {
    "duration": 4,
    "start_time": "2023-03-26T17:27:14.533Z"
   },
   {
    "duration": 31,
    "start_time": "2023-03-26T17:27:14.871Z"
   },
   {
    "duration": 91,
    "start_time": "2023-03-26T17:28:46.223Z"
   },
   {
    "duration": 78,
    "start_time": "2023-03-26T17:29:07.142Z"
   },
   {
    "duration": 100,
    "start_time": "2023-03-26T17:29:22.240Z"
   },
   {
    "duration": 11,
    "start_time": "2023-03-26T17:50:12.954Z"
   },
   {
    "duration": 23,
    "start_time": "2023-03-26T17:50:23.425Z"
   },
   {
    "duration": 25,
    "start_time": "2023-03-26T17:50:39.537Z"
   },
   {
    "duration": 22,
    "start_time": "2023-03-26T17:50:54.124Z"
   },
   {
    "duration": 23,
    "start_time": "2023-03-26T17:53:38.171Z"
   },
   {
    "duration": 4,
    "start_time": "2023-03-26T18:02:22.366Z"
   },
   {
    "duration": 5,
    "start_time": "2023-03-26T18:02:58.822Z"
   },
   {
    "duration": 42,
    "start_time": "2023-03-26T18:02:59.702Z"
   },
   {
    "duration": 4,
    "start_time": "2023-03-26T18:03:25.741Z"
   },
   {
    "duration": 8,
    "start_time": "2023-03-26T18:03:26.039Z"
   },
   {
    "duration": 24,
    "start_time": "2023-03-26T18:03:26.356Z"
   },
   {
    "duration": 23,
    "start_time": "2023-03-26T18:03:26.974Z"
   },
   {
    "duration": 5,
    "start_time": "2023-03-26T18:04:05.990Z"
   },
   {
    "duration": 19,
    "start_time": "2023-03-26T18:04:08.545Z"
   },
   {
    "duration": 4,
    "start_time": "2023-03-26T18:04:37.583Z"
   },
   {
    "duration": 14,
    "start_time": "2023-03-26T18:04:38.383Z"
   },
   {
    "duration": 23,
    "start_time": "2023-03-26T18:04:39.492Z"
   },
   {
    "duration": 5,
    "start_time": "2023-03-26T18:05:04.115Z"
   },
   {
    "duration": 18,
    "start_time": "2023-03-26T18:05:04.538Z"
   },
   {
    "duration": 4,
    "start_time": "2023-03-26T18:05:35.433Z"
   },
   {
    "duration": 13,
    "start_time": "2023-03-26T18:05:35.897Z"
   },
   {
    "duration": 4,
    "start_time": "2023-03-26T18:06:10.912Z"
   },
   {
    "duration": 37,
    "start_time": "2023-03-26T18:06:11.417Z"
   },
   {
    "duration": 4,
    "start_time": "2023-03-26T18:07:09.613Z"
   },
   {
    "duration": 6,
    "start_time": "2023-03-26T18:07:09.751Z"
   },
   {
    "duration": 22,
    "start_time": "2023-03-26T18:07:10.456Z"
   },
   {
    "duration": 5,
    "start_time": "2023-03-26T18:07:15.284Z"
   },
   {
    "duration": 5,
    "start_time": "2023-03-26T18:07:15.651Z"
   },
   {
    "duration": 24,
    "start_time": "2023-03-26T18:07:16.250Z"
   },
   {
    "duration": 8,
    "start_time": "2023-03-26T18:08:54.626Z"
   },
   {
    "duration": 4,
    "start_time": "2023-03-26T18:08:58.282Z"
   },
   {
    "duration": 9,
    "start_time": "2023-03-26T18:08:58.583Z"
   },
   {
    "duration": 5,
    "start_time": "2023-03-26T18:09:01.376Z"
   },
   {
    "duration": 5,
    "start_time": "2023-03-26T18:09:01.734Z"
   },
   {
    "duration": 10,
    "start_time": "2023-03-26T18:09:02.130Z"
   },
   {
    "duration": 4,
    "start_time": "2023-03-26T18:09:46.588Z"
   },
   {
    "duration": 5,
    "start_time": "2023-03-26T18:09:47.026Z"
   },
   {
    "duration": 4,
    "start_time": "2023-03-26T18:09:47.623Z"
   },
   {
    "duration": 21,
    "start_time": "2023-03-26T18:09:48.217Z"
   },
   {
    "duration": 24,
    "start_time": "2023-03-26T18:09:49.226Z"
   },
   {
    "duration": 6,
    "start_time": "2023-03-26T18:11:06.905Z"
   },
   {
    "duration": 5,
    "start_time": "2023-03-26T18:11:09.430Z"
   },
   {
    "duration": 5,
    "start_time": "2023-03-26T18:11:09.556Z"
   },
   {
    "duration": 27,
    "start_time": "2023-03-26T18:11:10.010Z"
   },
   {
    "duration": 4,
    "start_time": "2023-03-26T18:11:55.728Z"
   },
   {
    "duration": 5,
    "start_time": "2023-03-26T18:11:56.081Z"
   },
   {
    "duration": 112,
    "start_time": "2023-03-26T18:11:56.933Z"
   },
   {
    "duration": 4,
    "start_time": "2023-03-26T18:12:46.473Z"
   },
   {
    "duration": 7,
    "start_time": "2023-03-26T18:12:46.930Z"
   },
   {
    "duration": 185,
    "start_time": "2023-03-26T18:12:47.660Z"
   },
   {
    "duration": 5,
    "start_time": "2023-03-26T18:13:21.068Z"
   },
   {
    "duration": 6,
    "start_time": "2023-03-26T18:13:21.516Z"
   },
   {
    "duration": 120,
    "start_time": "2023-03-26T18:13:21.925Z"
   },
   {
    "duration": 6,
    "start_time": "2023-03-26T18:21:06.636Z"
   },
   {
    "duration": 5,
    "start_time": "2023-03-26T18:21:10.773Z"
   },
   {
    "duration": 154,
    "start_time": "2023-03-26T18:21:11.187Z"
   },
   {
    "duration": 5,
    "start_time": "2023-03-26T18:21:54.411Z"
   },
   {
    "duration": 113,
    "start_time": "2023-03-26T18:21:56.654Z"
   },
   {
    "duration": 4,
    "start_time": "2023-03-26T18:25:29.347Z"
   },
   {
    "duration": 4,
    "start_time": "2023-03-26T18:25:29.808Z"
   },
   {
    "duration": 289,
    "start_time": "2023-03-26T18:25:30.354Z"
   },
   {
    "duration": 3,
    "start_time": "2023-03-26T18:31:58.707Z"
   },
   {
    "duration": 4,
    "start_time": "2023-03-26T18:31:59.548Z"
   },
   {
    "duration": 3,
    "start_time": "2023-03-26T18:32:02.836Z"
   },
   {
    "duration": 4,
    "start_time": "2023-03-26T18:32:03.304Z"
   },
   {
    "duration": 317,
    "start_time": "2023-03-26T18:32:03.931Z"
   },
   {
    "duration": 5,
    "start_time": "2023-03-26T18:32:57.057Z"
   },
   {
    "duration": 4,
    "start_time": "2023-03-26T18:32:57.601Z"
   },
   {
    "duration": 35,
    "start_time": "2023-03-26T18:32:58.204Z"
   },
   {
    "duration": 5,
    "start_time": "2023-03-26T18:33:56.843Z"
   },
   {
    "duration": 4,
    "start_time": "2023-03-26T18:33:57.227Z"
   },
   {
    "duration": 4,
    "start_time": "2023-03-26T18:33:57.762Z"
   },
   {
    "duration": 177,
    "start_time": "2023-03-26T18:33:58.669Z"
   },
   {
    "duration": 4,
    "start_time": "2023-03-26T18:34:31.083Z"
   },
   {
    "duration": 4,
    "start_time": "2023-03-26T18:34:31.442Z"
   },
   {
    "duration": 87,
    "start_time": "2023-03-26T18:34:32.162Z"
   },
   {
    "duration": 4,
    "start_time": "2023-03-26T18:34:40.523Z"
   },
   {
    "duration": 30,
    "start_time": "2023-03-26T18:35:20.339Z"
   },
   {
    "duration": 33,
    "start_time": "2023-03-26T18:35:24.115Z"
   },
   {
    "duration": 49,
    "start_time": "2023-03-26T18:36:10.433Z"
   },
   {
    "duration": 5,
    "start_time": "2023-03-26T18:36:23.035Z"
   },
   {
    "duration": 3,
    "start_time": "2023-03-26T18:36:23.937Z"
   },
   {
    "duration": 4,
    "start_time": "2023-03-26T18:36:24.388Z"
   },
   {
    "duration": 154,
    "start_time": "2023-03-26T18:36:24.987Z"
   },
   {
    "duration": 15,
    "start_time": "2023-03-26T18:36:26.013Z"
   },
   {
    "duration": 107,
    "start_time": "2023-03-26T18:36:38.439Z"
   },
   {
    "duration": 14,
    "start_time": "2023-03-26T18:36:39.164Z"
   },
   {
    "duration": 5,
    "start_time": "2023-03-26T18:37:01.132Z"
   },
   {
    "duration": 4,
    "start_time": "2023-03-26T18:37:01.653Z"
   },
   {
    "duration": 3,
    "start_time": "2023-03-26T18:37:02.089Z"
   },
   {
    "duration": 94,
    "start_time": "2023-03-26T18:37:02.557Z"
   },
   {
    "duration": 515,
    "start_time": "2023-03-26T18:37:03.435Z"
   },
   {
    "duration": 5,
    "start_time": "2023-03-26T18:37:38.691Z"
   },
   {
    "duration": 4,
    "start_time": "2023-03-26T18:37:39.133Z"
   },
   {
    "duration": 4,
    "start_time": "2023-03-26T18:37:39.504Z"
   },
   {
    "duration": 189,
    "start_time": "2023-03-26T18:37:40.061Z"
   },
   {
    "duration": 592,
    "start_time": "2023-03-26T18:37:40.548Z"
   },
   {
    "duration": 5,
    "start_time": "2023-03-26T18:38:04.220Z"
   },
   {
    "duration": 4,
    "start_time": "2023-03-26T18:38:04.739Z"
   },
   {
    "duration": 4,
    "start_time": "2023-03-26T18:38:05.131Z"
   },
   {
    "duration": 188,
    "start_time": "2023-03-26T18:38:05.563Z"
   },
   {
    "duration": 634,
    "start_time": "2023-03-26T18:38:06.332Z"
   },
   {
    "duration": 598,
    "start_time": "2023-03-26T18:38:48.356Z"
   },
   {
    "duration": 5,
    "start_time": "2023-03-26T18:40:35.695Z"
   },
   {
    "duration": 4,
    "start_time": "2023-03-26T18:40:36.040Z"
   },
   {
    "duration": 5,
    "start_time": "2023-03-26T18:40:36.338Z"
   },
   {
    "duration": 245,
    "start_time": "2023-03-26T18:40:36.805Z"
   },
   {
    "duration": 518,
    "start_time": "2023-03-26T18:40:37.734Z"
   },
   {
    "duration": 4,
    "start_time": "2023-03-26T18:42:34.156Z"
   },
   {
    "duration": 198,
    "start_time": "2023-03-26T18:42:34.542Z"
   },
   {
    "duration": 563,
    "start_time": "2023-03-26T18:42:37.966Z"
   },
   {
    "duration": 21,
    "start_time": "2023-03-26T19:34:15.454Z"
   },
   {
    "duration": 19,
    "start_time": "2023-03-26T19:34:28.411Z"
   },
   {
    "duration": 25,
    "start_time": "2023-03-26T19:34:43.655Z"
   },
   {
    "duration": 406,
    "start_time": "2023-03-26T19:35:14.021Z"
   },
   {
    "duration": 346,
    "start_time": "2023-03-26T19:36:18.519Z"
   },
   {
    "duration": 290,
    "start_time": "2023-03-26T19:46:02.187Z"
   },
   {
    "duration": 57,
    "start_time": "2023-03-26T19:46:53.195Z"
   },
   {
    "duration": 321,
    "start_time": "2023-03-26T19:47:42.610Z"
   },
   {
    "duration": 10,
    "start_time": "2023-03-27T15:36:22.155Z"
   },
   {
    "duration": 4,
    "start_time": "2023-03-27T15:36:59.148Z"
   },
   {
    "duration": 7,
    "start_time": "2023-03-27T15:43:17.309Z"
   },
   {
    "duration": 8,
    "start_time": "2023-03-27T15:45:09.077Z"
   },
   {
    "duration": 44,
    "start_time": "2023-03-27T15:47:57.325Z"
   },
   {
    "duration": 5,
    "start_time": "2023-03-27T15:48:23.091Z"
   },
   {
    "duration": 1522,
    "start_time": "2023-03-27T15:48:29.142Z"
   },
   {
    "duration": 170,
    "start_time": "2023-03-27T15:48:30.667Z"
   },
   {
    "duration": 68,
    "start_time": "2023-03-27T15:48:30.838Z"
   },
   {
    "duration": 13,
    "start_time": "2023-03-27T15:48:30.908Z"
   },
   {
    "duration": 50,
    "start_time": "2023-03-27T15:48:30.923Z"
   },
   {
    "duration": 16,
    "start_time": "2023-03-27T15:48:30.975Z"
   },
   {
    "duration": 25,
    "start_time": "2023-03-27T15:48:30.993Z"
   },
   {
    "duration": 49,
    "start_time": "2023-03-27T15:48:31.020Z"
   },
   {
    "duration": 46,
    "start_time": "2023-03-27T15:48:31.071Z"
   },
   {
    "duration": 48,
    "start_time": "2023-03-27T15:48:31.120Z"
   },
   {
    "duration": 23,
    "start_time": "2023-03-27T15:48:31.169Z"
   },
   {
    "duration": 28,
    "start_time": "2023-03-27T15:48:31.193Z"
   },
   {
    "duration": 408,
    "start_time": "2023-03-27T15:48:31.223Z"
   },
   {
    "duration": 87,
    "start_time": "2023-03-27T15:48:31.633Z"
   },
   {
    "duration": 98,
    "start_time": "2023-03-27T15:48:31.723Z"
   },
   {
    "duration": 13,
    "start_time": "2023-03-27T15:48:31.823Z"
   },
   {
    "duration": 5,
    "start_time": "2023-03-27T15:48:31.839Z"
   },
   {
    "duration": 5,
    "start_time": "2023-03-27T15:48:31.846Z"
   },
   {
    "duration": 266,
    "start_time": "2023-03-27T15:48:31.853Z"
   },
   {
    "duration": 751,
    "start_time": "2023-03-27T15:48:32.121Z"
   },
   {
    "duration": 381,
    "start_time": "2023-03-27T15:48:32.874Z"
   },
   {
    "duration": 80,
    "start_time": "2023-03-27T15:48:33.257Z"
   },
   {
    "duration": 19,
    "start_time": "2023-03-27T15:48:33.339Z"
   },
   {
    "duration": 11,
    "start_time": "2023-03-27T15:49:52.718Z"
   },
   {
    "duration": 124,
    "start_time": "2023-03-27T15:51:26.013Z"
   },
   {
    "duration": 21,
    "start_time": "2023-03-27T15:52:56.806Z"
   },
   {
    "duration": 8,
    "start_time": "2023-03-27T15:53:49.327Z"
   },
   {
    "duration": 11,
    "start_time": "2023-03-27T15:53:50.000Z"
   },
   {
    "duration": 10,
    "start_time": "2023-03-27T15:53:51.495Z"
   },
   {
    "duration": 11,
    "start_time": "2023-03-27T15:54:59.287Z"
   },
   {
    "duration": 10,
    "start_time": "2023-03-27T15:55:51.799Z"
   },
   {
    "duration": 9,
    "start_time": "2023-03-27T15:58:30.348Z"
   },
   {
    "duration": 10,
    "start_time": "2023-03-27T15:58:30.682Z"
   },
   {
    "duration": 11,
    "start_time": "2023-03-27T16:01:22.733Z"
   },
   {
    "duration": 10,
    "start_time": "2023-03-27T16:01:44.690Z"
   },
   {
    "duration": 11,
    "start_time": "2023-03-27T16:02:00.042Z"
   },
   {
    "duration": 7,
    "start_time": "2023-03-27T16:04:01.608Z"
   },
   {
    "duration": 14,
    "start_time": "2023-03-27T16:04:02.433Z"
   },
   {
    "duration": 11,
    "start_time": "2023-03-27T16:04:05.276Z"
   },
   {
    "duration": 10,
    "start_time": "2023-03-27T16:06:07.096Z"
   },
   {
    "duration": 11,
    "start_time": "2023-03-27T16:06:18.143Z"
   },
   {
    "duration": 488,
    "start_time": "2023-03-27T16:20:16.990Z"
   },
   {
    "duration": 209,
    "start_time": "2023-03-27T16:21:26.314Z"
   },
   {
    "duration": 534,
    "start_time": "2023-03-27T16:24:13.897Z"
   },
   {
    "duration": 681,
    "start_time": "2023-03-27T16:34:12.545Z"
   },
   {
    "duration": 203,
    "start_time": "2023-03-27T16:34:13.319Z"
   },
   {
    "duration": 609,
    "start_time": "2023-03-27T16:34:14.329Z"
   },
   {
    "duration": 687,
    "start_time": "2023-03-27T16:34:33.832Z"
   },
   {
    "duration": 301,
    "start_time": "2023-03-27T16:34:34.522Z"
   },
   {
    "duration": 582,
    "start_time": "2023-03-27T16:34:35.690Z"
   },
   {
    "duration": 529,
    "start_time": "2023-03-27T16:35:09.090Z"
   },
   {
    "duration": 2604,
    "start_time": "2023-03-27T16:35:16.454Z"
   },
   {
    "duration": 51,
    "start_time": "2023-03-27T16:35:19.061Z"
   },
   {
    "duration": 71,
    "start_time": "2023-03-27T16:35:19.114Z"
   },
   {
    "duration": 7,
    "start_time": "2023-03-27T16:35:19.186Z"
   },
   {
    "duration": 60,
    "start_time": "2023-03-27T16:35:19.196Z"
   },
   {
    "duration": 11,
    "start_time": "2023-03-27T16:35:19.258Z"
   },
   {
    "duration": 29,
    "start_time": "2023-03-27T16:35:19.271Z"
   },
   {
    "duration": 30,
    "start_time": "2023-03-27T16:35:19.302Z"
   },
   {
    "duration": 36,
    "start_time": "2023-03-27T16:35:19.334Z"
   },
   {
    "duration": 49,
    "start_time": "2023-03-27T16:35:19.372Z"
   },
   {
    "duration": 13,
    "start_time": "2023-03-27T16:35:19.422Z"
   },
   {
    "duration": 15,
    "start_time": "2023-03-27T16:35:19.438Z"
   },
   {
    "duration": 564,
    "start_time": "2023-03-27T16:35:19.456Z"
   },
   {
    "duration": 91,
    "start_time": "2023-03-27T16:35:20.030Z"
   },
   {
    "duration": 109,
    "start_time": "2023-03-27T16:35:20.123Z"
   },
   {
    "duration": 22,
    "start_time": "2023-03-27T16:35:20.234Z"
   },
   {
    "duration": 34,
    "start_time": "2023-03-27T16:35:20.257Z"
   },
   {
    "duration": 22,
    "start_time": "2023-03-27T16:35:20.293Z"
   },
   {
    "duration": 302,
    "start_time": "2023-03-27T16:35:20.316Z"
   },
   {
    "duration": 720,
    "start_time": "2023-03-27T16:35:20.621Z"
   },
   {
    "duration": 398,
    "start_time": "2023-03-27T16:35:21.343Z"
   },
   {
    "duration": 7,
    "start_time": "2023-03-27T16:35:21.743Z"
   },
   {
    "duration": 23,
    "start_time": "2023-03-27T16:35:21.751Z"
   },
   {
    "duration": 18,
    "start_time": "2023-03-27T16:35:21.775Z"
   },
   {
    "duration": 724,
    "start_time": "2023-03-27T16:35:21.795Z"
   },
   {
    "duration": 396,
    "start_time": "2023-03-27T16:35:22.523Z"
   },
   {
    "duration": 732,
    "start_time": "2023-03-27T16:35:22.921Z"
   },
   {
    "duration": 660,
    "start_time": "2023-03-27T17:21:04.941Z"
   },
   {
    "duration": 634,
    "start_time": "2023-03-27T17:21:59.289Z"
   },
   {
    "duration": 81,
    "start_time": "2023-03-27T17:23:28.842Z"
   },
   {
    "duration": 130,
    "start_time": "2023-03-27T17:24:25.882Z"
   },
   {
    "duration": 165,
    "start_time": "2023-03-27T17:25:32.038Z"
   },
   {
    "duration": 6,
    "start_time": "2023-03-27T17:28:29.394Z"
   },
   {
    "duration": 7,
    "start_time": "2023-03-27T17:29:05.880Z"
   },
   {
    "duration": 14,
    "start_time": "2023-03-27T18:06:49.844Z"
   },
   {
    "duration": 17,
    "start_time": "2023-03-27T18:07:43.984Z"
   },
   {
    "duration": 54,
    "start_time": "2023-03-27T18:10:43.120Z"
   },
   {
    "duration": 1423,
    "start_time": "2023-03-27T18:13:57.455Z"
   },
   {
    "duration": 41,
    "start_time": "2023-03-27T18:13:58.880Z"
   },
   {
    "duration": 66,
    "start_time": "2023-03-27T18:13:58.923Z"
   },
   {
    "duration": 6,
    "start_time": "2023-03-27T18:13:58.991Z"
   },
   {
    "duration": 38,
    "start_time": "2023-03-27T18:13:59.017Z"
   },
   {
    "duration": 10,
    "start_time": "2023-03-27T18:13:59.057Z"
   },
   {
    "duration": 24,
    "start_time": "2023-03-27T18:13:59.069Z"
   },
   {
    "duration": 46,
    "start_time": "2023-03-27T18:13:59.095Z"
   },
   {
    "duration": 40,
    "start_time": "2023-03-27T18:13:59.143Z"
   },
   {
    "duration": 43,
    "start_time": "2023-03-27T18:13:59.185Z"
   },
   {
    "duration": 11,
    "start_time": "2023-03-27T18:13:59.230Z"
   },
   {
    "duration": 16,
    "start_time": "2023-03-27T18:13:59.242Z"
   },
   {
    "duration": 559,
    "start_time": "2023-03-27T18:13:59.260Z"
   },
   {
    "duration": 98,
    "start_time": "2023-03-27T18:13:59.823Z"
   },
   {
    "duration": 7,
    "start_time": "2023-03-27T18:13:59.923Z"
   },
   {
    "duration": 11,
    "start_time": "2023-03-27T18:13:59.931Z"
   },
   {
    "duration": 16,
    "start_time": "2023-03-27T18:13:59.944Z"
   },
   {
    "duration": 19,
    "start_time": "2023-03-27T18:13:59.962Z"
   },
   {
    "duration": 238,
    "start_time": "2023-03-27T18:13:59.983Z"
   },
   {
    "duration": 713,
    "start_time": "2023-03-27T18:14:00.224Z"
   },
   {
    "duration": 403,
    "start_time": "2023-03-27T18:14:00.939Z"
   },
   {
    "duration": 7,
    "start_time": "2023-03-27T18:14:01.344Z"
   },
   {
    "duration": 34,
    "start_time": "2023-03-27T18:14:01.353Z"
   },
   {
    "duration": 55,
    "start_time": "2023-03-27T18:14:01.388Z"
   },
   {
    "duration": 708,
    "start_time": "2023-03-27T18:14:01.445Z"
   },
   {
    "duration": 464,
    "start_time": "2023-03-27T18:14:02.155Z"
   },
   {
    "duration": 808,
    "start_time": "2023-03-27T18:14:02.622Z"
   },
   {
    "duration": 592,
    "start_time": "2023-03-27T18:14:03.432Z"
   },
   {
    "duration": 75,
    "start_time": "2023-03-27T18:14:04.025Z"
   },
   {
    "duration": 174,
    "start_time": "2023-03-27T18:14:04.102Z"
   },
   {
    "duration": 6,
    "start_time": "2023-03-27T18:14:04.278Z"
   },
   {
    "duration": 55,
    "start_time": "2023-03-27T18:14:04.286Z"
   },
   {
    "duration": 4,
    "start_time": "2023-03-27T18:14:22.086Z"
   },
   {
    "duration": 1642,
    "start_time": "2023-03-27T18:14:28.332Z"
   },
   {
    "duration": 42,
    "start_time": "2023-03-27T18:14:29.976Z"
   },
   {
    "duration": 63,
    "start_time": "2023-03-27T18:14:30.020Z"
   },
   {
    "duration": 5,
    "start_time": "2023-03-27T18:14:30.085Z"
   },
   {
    "duration": 56,
    "start_time": "2023-03-27T18:14:30.092Z"
   },
   {
    "duration": 43,
    "start_time": "2023-03-27T18:14:30.150Z"
   },
   {
    "duration": 56,
    "start_time": "2023-03-27T18:14:30.196Z"
   },
   {
    "duration": 48,
    "start_time": "2023-03-27T18:14:30.254Z"
   },
   {
    "duration": 97,
    "start_time": "2023-03-27T18:14:30.304Z"
   },
   {
    "duration": 119,
    "start_time": "2023-03-27T18:14:30.403Z"
   },
   {
    "duration": 76,
    "start_time": "2023-03-27T18:14:30.524Z"
   },
   {
    "duration": 32,
    "start_time": "2023-03-27T18:14:30.602Z"
   },
   {
    "duration": 583,
    "start_time": "2023-03-27T18:14:30.636Z"
   },
   {
    "duration": 8,
    "start_time": "2023-03-27T18:14:31.223Z"
   },
   {
    "duration": 96,
    "start_time": "2023-03-27T18:14:31.318Z"
   },
   {
    "duration": 20,
    "start_time": "2023-03-27T18:14:31.416Z"
   },
   {
    "duration": 31,
    "start_time": "2023-03-27T18:14:31.437Z"
   },
   {
    "duration": 21,
    "start_time": "2023-03-27T18:14:31.470Z"
   },
   {
    "duration": 229,
    "start_time": "2023-03-27T18:14:31.493Z"
   },
   {
    "duration": 716,
    "start_time": "2023-03-27T18:14:31.725Z"
   },
   {
    "duration": 407,
    "start_time": "2023-03-27T18:14:32.442Z"
   },
   {
    "duration": 7,
    "start_time": "2023-03-27T18:14:32.851Z"
   },
   {
    "duration": 36,
    "start_time": "2023-03-27T18:14:32.859Z"
   },
   {
    "duration": 37,
    "start_time": "2023-03-27T18:14:32.896Z"
   },
   {
    "duration": 782,
    "start_time": "2023-03-27T18:14:32.935Z"
   },
   {
    "duration": 299,
    "start_time": "2023-03-27T18:14:33.720Z"
   },
   {
    "duration": 805,
    "start_time": "2023-03-27T18:14:34.021Z"
   },
   {
    "duration": 636,
    "start_time": "2023-03-27T18:14:34.828Z"
   },
   {
    "duration": 83,
    "start_time": "2023-03-27T18:14:35.466Z"
   },
   {
    "duration": 167,
    "start_time": "2023-03-27T18:14:35.551Z"
   },
   {
    "duration": 5,
    "start_time": "2023-03-27T18:14:35.720Z"
   },
   {
    "duration": 46,
    "start_time": "2023-03-27T18:14:35.727Z"
   },
   {
    "duration": 3144,
    "start_time": "2023-03-29T03:28:27.329Z"
   },
   {
    "duration": 101,
    "start_time": "2023-03-29T03:28:30.540Z"
   },
   {
    "duration": 204,
    "start_time": "2023-03-29T03:28:30.643Z"
   },
   {
    "duration": 6,
    "start_time": "2023-03-29T03:28:30.849Z"
   },
   {
    "duration": 110,
    "start_time": "2023-03-29T03:28:30.856Z"
   },
   {
    "duration": 82,
    "start_time": "2023-03-29T03:28:30.967Z"
   },
   {
    "duration": 93,
    "start_time": "2023-03-29T03:28:31.051Z"
   },
   {
    "duration": 111,
    "start_time": "2023-03-29T03:28:31.145Z"
   },
   {
    "duration": 100,
    "start_time": "2023-03-29T03:28:31.258Z"
   },
   {
    "duration": 99,
    "start_time": "2023-03-29T03:28:31.360Z"
   },
   {
    "duration": 20,
    "start_time": "2023-03-29T03:28:31.460Z"
   },
   {
    "duration": 98,
    "start_time": "2023-03-29T03:28:31.482Z"
   },
   {
    "duration": 973,
    "start_time": "2023-03-29T03:28:31.582Z"
   },
   {
    "duration": 92,
    "start_time": "2023-03-29T03:28:32.557Z"
   },
   {
    "duration": 104,
    "start_time": "2023-03-29T03:28:32.652Z"
   },
   {
    "duration": 118,
    "start_time": "2023-03-29T03:28:32.757Z"
   },
   {
    "duration": 40,
    "start_time": "2023-03-29T03:28:32.876Z"
   },
   {
    "duration": 27,
    "start_time": "2023-03-29T03:28:32.918Z"
   },
   {
    "duration": 396,
    "start_time": "2023-03-29T03:28:32.946Z"
   },
   {
    "duration": 1110,
    "start_time": "2023-03-29T03:28:33.343Z"
   },
   {
    "duration": 536,
    "start_time": "2023-03-29T03:28:34.455Z"
   },
   {
    "duration": 8,
    "start_time": "2023-03-29T03:28:35.042Z"
   },
   {
    "duration": 28,
    "start_time": "2023-03-29T03:28:35.052Z"
   },
   {
    "duration": 67,
    "start_time": "2023-03-29T03:28:35.083Z"
   },
   {
    "duration": 1300,
    "start_time": "2023-03-29T03:28:35.152Z"
   },
   {
    "duration": 495,
    "start_time": "2023-03-29T03:28:36.454Z"
   },
   {
    "duration": 1304,
    "start_time": "2023-03-29T03:28:36.951Z"
   },
   {
    "duration": 1290,
    "start_time": "2023-03-29T03:28:38.259Z"
   },
   {
    "duration": 129,
    "start_time": "2023-03-29T03:28:39.551Z"
   },
   {
    "duration": 365,
    "start_time": "2023-03-29T03:28:39.682Z"
   },
   {
    "duration": 7,
    "start_time": "2023-03-29T03:28:40.049Z"
   },
   {
    "duration": 108,
    "start_time": "2023-03-29T03:28:40.058Z"
   },
   {
    "duration": 56,
    "start_time": "2023-03-29T17:34:36.514Z"
   },
   {
    "duration": 1659,
    "start_time": "2023-03-29T17:34:45.791Z"
   },
   {
    "duration": 304,
    "start_time": "2023-03-29T17:34:47.456Z"
   },
   {
    "duration": 97,
    "start_time": "2023-03-29T17:34:47.761Z"
   },
   {
    "duration": 7,
    "start_time": "2023-03-29T17:34:47.861Z"
   },
   {
    "duration": 36,
    "start_time": "2023-03-29T17:34:47.869Z"
   },
   {
    "duration": 21,
    "start_time": "2023-03-29T17:34:47.907Z"
   },
   {
    "duration": 26,
    "start_time": "2023-03-29T17:34:47.930Z"
   },
   {
    "duration": 25,
    "start_time": "2023-03-29T17:34:47.958Z"
   },
   {
    "duration": 36,
    "start_time": "2023-03-29T17:34:47.985Z"
   },
   {
    "duration": 63,
    "start_time": "2023-03-29T17:34:48.025Z"
   },
   {
    "duration": 11,
    "start_time": "2023-03-29T17:34:48.090Z"
   },
   {
    "duration": 28,
    "start_time": "2023-03-29T17:34:48.103Z"
   },
   {
    "duration": 155,
    "start_time": "2023-03-29T17:34:48.133Z"
   },
   {
    "duration": 0,
    "start_time": "2023-03-29T17:34:48.291Z"
   },
   {
    "duration": 0,
    "start_time": "2023-03-29T17:34:48.292Z"
   },
   {
    "duration": 0,
    "start_time": "2023-03-29T17:34:48.294Z"
   },
   {
    "duration": 0,
    "start_time": "2023-03-29T17:34:48.295Z"
   },
   {
    "duration": 0,
    "start_time": "2023-03-29T17:34:48.296Z"
   },
   {
    "duration": 0,
    "start_time": "2023-03-29T17:34:48.298Z"
   },
   {
    "duration": 0,
    "start_time": "2023-03-29T17:34:48.299Z"
   },
   {
    "duration": 0,
    "start_time": "2023-03-29T17:34:48.300Z"
   },
   {
    "duration": 0,
    "start_time": "2023-03-29T17:34:48.301Z"
   },
   {
    "duration": 0,
    "start_time": "2023-03-29T17:34:48.302Z"
   },
   {
    "duration": 0,
    "start_time": "2023-03-29T17:34:48.303Z"
   },
   {
    "duration": 0,
    "start_time": "2023-03-29T17:34:48.304Z"
   },
   {
    "duration": 0,
    "start_time": "2023-03-29T17:34:48.305Z"
   },
   {
    "duration": 0,
    "start_time": "2023-03-29T17:34:48.307Z"
   },
   {
    "duration": 0,
    "start_time": "2023-03-29T17:34:48.308Z"
   },
   {
    "duration": 0,
    "start_time": "2023-03-29T17:34:48.337Z"
   },
   {
    "duration": 0,
    "start_time": "2023-03-29T17:34:48.341Z"
   },
   {
    "duration": 0,
    "start_time": "2023-03-29T17:34:48.342Z"
   },
   {
    "duration": 0,
    "start_time": "2023-03-29T17:34:48.343Z"
   },
   {
    "duration": 17,
    "start_time": "2023-03-29T17:35:17.613Z"
   },
   {
    "duration": 127,
    "start_time": "2023-03-29T17:45:30.560Z"
   },
   {
    "duration": 17,
    "start_time": "2023-03-29T17:45:57.761Z"
   },
   {
    "duration": 12,
    "start_time": "2023-03-29T17:46:20.320Z"
   },
   {
    "duration": 49,
    "start_time": "2023-03-29T17:52:29.948Z"
   },
   {
    "duration": 77,
    "start_time": "2023-03-29T18:12:38.564Z"
   },
   {
    "duration": 13,
    "start_time": "2023-03-29T18:15:12.831Z"
   },
   {
    "duration": 86,
    "start_time": "2023-03-29T18:17:13.984Z"
   },
   {
    "duration": 1594,
    "start_time": "2023-03-29T18:18:34.333Z"
   },
   {
    "duration": 59,
    "start_time": "2023-03-29T18:18:35.930Z"
   },
   {
    "duration": 105,
    "start_time": "2023-03-29T18:18:35.991Z"
   },
   {
    "duration": 8,
    "start_time": "2023-03-29T18:18:36.099Z"
   },
   {
    "duration": 35,
    "start_time": "2023-03-29T18:18:36.109Z"
   },
   {
    "duration": 27,
    "start_time": "2023-03-29T18:18:36.146Z"
   },
   {
    "duration": 11,
    "start_time": "2023-03-29T18:18:36.175Z"
   },
   {
    "duration": 37,
    "start_time": "2023-03-29T18:18:36.188Z"
   },
   {
    "duration": 51,
    "start_time": "2023-03-29T18:18:36.228Z"
   },
   {
    "duration": 16,
    "start_time": "2023-03-29T18:18:36.283Z"
   },
   {
    "duration": 70,
    "start_time": "2023-03-29T18:18:36.301Z"
   },
   {
    "duration": 10,
    "start_time": "2023-03-29T18:18:36.374Z"
   },
   {
    "duration": 754,
    "start_time": "2023-03-29T18:18:36.386Z"
   },
   {
    "duration": 10,
    "start_time": "2023-03-29T18:18:37.142Z"
   },
   {
    "duration": 12,
    "start_time": "2023-03-29T18:18:37.155Z"
   },
   {
    "duration": 47,
    "start_time": "2023-03-29T18:18:37.238Z"
   },
   {
    "duration": 24,
    "start_time": "2023-03-29T18:18:37.287Z"
   },
   {
    "duration": 16,
    "start_time": "2023-03-29T18:18:37.314Z"
   },
   {
    "duration": 307,
    "start_time": "2023-03-29T18:18:37.333Z"
   },
   {
    "duration": 812,
    "start_time": "2023-03-29T18:18:37.642Z"
   },
   {
    "duration": 548,
    "start_time": "2023-03-29T18:18:38.457Z"
   },
   {
    "duration": 12,
    "start_time": "2023-03-29T18:18:39.008Z"
   },
   {
    "duration": 24,
    "start_time": "2023-03-29T18:18:39.034Z"
   },
   {
    "duration": 19,
    "start_time": "2023-03-29T18:18:39.060Z"
   },
   {
    "duration": 855,
    "start_time": "2023-03-29T18:18:39.082Z"
   },
   {
    "duration": 401,
    "start_time": "2023-03-29T18:18:39.939Z"
   },
   {
    "duration": 932,
    "start_time": "2023-03-29T18:18:40.344Z"
   },
   {
    "duration": 701,
    "start_time": "2023-03-29T18:18:41.280Z"
   },
   {
    "duration": 123,
    "start_time": "2023-03-29T18:18:41.984Z"
   },
   {
    "duration": 195,
    "start_time": "2023-03-29T18:18:42.110Z"
   },
   {
    "duration": 9,
    "start_time": "2023-03-29T18:18:42.307Z"
   },
   {
    "duration": 78,
    "start_time": "2023-03-29T18:18:42.318Z"
   },
   {
    "duration": 135,
    "start_time": "2023-03-29T18:31:32.145Z"
   },
   {
    "duration": 152,
    "start_time": "2023-03-29T18:31:40.872Z"
   },
   {
    "duration": 168,
    "start_time": "2023-03-29T18:55:43.851Z"
   },
   {
    "duration": 30,
    "start_time": "2023-03-29T18:56:02.126Z"
   },
   {
    "duration": 27,
    "start_time": "2023-03-29T18:56:11.215Z"
   },
   {
    "duration": 90,
    "start_time": "2023-03-29T18:56:28.614Z"
   },
   {
    "duration": 6,
    "start_time": "2023-03-29T18:56:45.226Z"
   },
   {
    "duration": 94,
    "start_time": "2023-03-29T18:56:50.155Z"
   },
   {
    "duration": 64,
    "start_time": "2023-03-29T18:57:57.338Z"
   },
   {
    "duration": 156,
    "start_time": "2023-03-29T19:02:24.350Z"
   },
   {
    "duration": 38763,
    "start_time": "2023-03-29T19:02:42.291Z"
   },
   {
    "duration": 38697,
    "start_time": "2023-03-29T19:04:05.878Z"
   },
   {
    "duration": 64,
    "start_time": "2023-03-29T19:06:03.994Z"
   },
   {
    "duration": 44,
    "start_time": "2023-03-29T19:06:20.731Z"
   },
   {
    "duration": 50,
    "start_time": "2023-03-29T19:06:31.121Z"
   },
   {
    "duration": 59,
    "start_time": "2023-03-29T19:06:40.683Z"
   },
   {
    "duration": 44,
    "start_time": "2023-03-29T19:06:57.258Z"
   },
   {
    "duration": 43,
    "start_time": "2023-03-29T19:07:09.827Z"
   },
   {
    "duration": 38204,
    "start_time": "2023-03-29T19:07:29.427Z"
   },
   {
    "duration": 38791,
    "start_time": "2023-03-29T19:09:18.303Z"
   },
   {
    "duration": 66,
    "start_time": "2023-03-29T19:10:38.716Z"
   },
   {
    "duration": 23,
    "start_time": "2023-03-29T19:10:55.487Z"
   },
   {
    "duration": 5,
    "start_time": "2023-03-29T19:10:58.145Z"
   },
   {
    "duration": 68,
    "start_time": "2023-03-29T19:35:45.716Z"
   },
   {
    "duration": 39078,
    "start_time": "2023-03-29T19:36:12.429Z"
   },
   {
    "duration": 79,
    "start_time": "2023-03-29T19:36:51.509Z"
   },
   {
    "duration": 38505,
    "start_time": "2023-03-29T19:36:56.470Z"
   },
   {
    "duration": 62,
    "start_time": "2023-03-29T19:37:34.977Z"
   },
   {
    "duration": 6,
    "start_time": "2023-03-29T19:37:35.042Z"
   },
   {
    "duration": 4,
    "start_time": "2023-03-29T19:37:52.246Z"
   },
   {
    "duration": 5,
    "start_time": "2023-03-29T19:37:53.449Z"
   },
   {
    "duration": 5,
    "start_time": "2023-03-29T19:37:54.494Z"
   },
   {
    "duration": 3,
    "start_time": "2023-03-29T19:37:55.615Z"
   },
   {
    "duration": 24,
    "start_time": "2023-03-29T19:37:56.717Z"
   },
   {
    "duration": 1682,
    "start_time": "2023-03-29T19:38:55.760Z"
   },
   {
    "duration": 43,
    "start_time": "2023-03-29T19:38:57.444Z"
   },
   {
    "duration": 70,
    "start_time": "2023-03-29T19:38:57.488Z"
   },
   {
    "duration": 6,
    "start_time": "2023-03-29T19:38:57.560Z"
   },
   {
    "duration": 24,
    "start_time": "2023-03-29T19:38:57.569Z"
   },
   {
    "duration": 19,
    "start_time": "2023-03-29T19:38:57.595Z"
   },
   {
    "duration": 18,
    "start_time": "2023-03-29T19:38:57.616Z"
   },
   {
    "duration": 15,
    "start_time": "2023-03-29T19:38:57.636Z"
   },
   {
    "duration": 48,
    "start_time": "2023-03-29T19:38:57.652Z"
   },
   {
    "duration": 10,
    "start_time": "2023-03-29T19:38:57.703Z"
   },
   {
    "duration": 74,
    "start_time": "2023-03-29T19:38:57.734Z"
   },
   {
    "duration": 30,
    "start_time": "2023-03-29T19:38:57.810Z"
   },
   {
    "duration": 278,
    "start_time": "2023-03-29T19:38:57.842Z"
   },
   {
    "duration": 38937,
    "start_time": "2023-03-29T19:38:58.122Z"
   },
   {
    "duration": 26,
    "start_time": "2023-03-29T19:39:37.061Z"
   },
   {
    "duration": 145,
    "start_time": "2023-03-29T19:39:37.089Z"
   },
   {
    "duration": 0,
    "start_time": "2023-03-29T19:39:37.236Z"
   },
   {
    "duration": 0,
    "start_time": "2023-03-29T19:39:37.237Z"
   },
   {
    "duration": 0,
    "start_time": "2023-03-29T19:39:37.239Z"
   },
   {
    "duration": 0,
    "start_time": "2023-03-29T19:39:37.240Z"
   },
   {
    "duration": 0,
    "start_time": "2023-03-29T19:39:37.242Z"
   },
   {
    "duration": 0,
    "start_time": "2023-03-29T19:39:37.243Z"
   },
   {
    "duration": 0,
    "start_time": "2023-03-29T19:39:37.244Z"
   },
   {
    "duration": 0,
    "start_time": "2023-03-29T19:39:37.246Z"
   },
   {
    "duration": 0,
    "start_time": "2023-03-29T19:39:37.247Z"
   },
   {
    "duration": 0,
    "start_time": "2023-03-29T19:39:37.248Z"
   },
   {
    "duration": 0,
    "start_time": "2023-03-29T19:39:37.249Z"
   },
   {
    "duration": 0,
    "start_time": "2023-03-29T19:39:37.250Z"
   },
   {
    "duration": 0,
    "start_time": "2023-03-29T19:39:37.252Z"
   },
   {
    "duration": 0,
    "start_time": "2023-03-29T19:39:37.253Z"
   },
   {
    "duration": 0,
    "start_time": "2023-03-29T19:39:37.254Z"
   },
   {
    "duration": 0,
    "start_time": "2023-03-29T19:39:37.255Z"
   },
   {
    "duration": 0,
    "start_time": "2023-03-29T19:39:37.256Z"
   },
   {
    "duration": 0,
    "start_time": "2023-03-29T19:39:37.257Z"
   },
   {
    "duration": 0,
    "start_time": "2023-03-29T19:39:37.259Z"
   },
   {
    "duration": 65,
    "start_time": "2023-03-29T19:39:53.801Z"
   },
   {
    "duration": 5,
    "start_time": "2023-03-29T19:40:09.899Z"
   },
   {
    "duration": 3,
    "start_time": "2023-03-29T19:40:15.078Z"
   },
   {
    "duration": 7,
    "start_time": "2023-03-29T19:40:15.615Z"
   },
   {
    "duration": 5,
    "start_time": "2023-03-29T19:40:16.151Z"
   },
   {
    "duration": 5,
    "start_time": "2023-03-29T19:40:16.647Z"
   },
   {
    "duration": 200,
    "start_time": "2023-03-29T19:40:17.343Z"
   },
   {
    "duration": 679,
    "start_time": "2023-03-29T19:40:25.946Z"
   },
   {
    "duration": 87,
    "start_time": "2023-03-29T20:36:26.635Z"
   },
   {
    "duration": 1442,
    "start_time": "2023-03-29T20:40:23.183Z"
   },
   {
    "duration": 44,
    "start_time": "2023-03-29T20:40:24.627Z"
   },
   {
    "duration": 68,
    "start_time": "2023-03-29T20:40:24.673Z"
   },
   {
    "duration": 7,
    "start_time": "2023-03-29T20:40:24.742Z"
   },
   {
    "duration": 41,
    "start_time": "2023-03-29T20:40:24.751Z"
   },
   {
    "duration": 14,
    "start_time": "2023-03-29T20:40:24.794Z"
   },
   {
    "duration": 24,
    "start_time": "2023-03-29T20:40:24.810Z"
   },
   {
    "duration": 19,
    "start_time": "2023-03-29T20:40:24.836Z"
   },
   {
    "duration": 30,
    "start_time": "2023-03-29T20:40:24.856Z"
   },
   {
    "duration": 13,
    "start_time": "2023-03-29T20:40:24.888Z"
   },
   {
    "duration": 79,
    "start_time": "2023-03-29T20:40:24.902Z"
   },
   {
    "duration": 12,
    "start_time": "2023-03-29T20:40:24.983Z"
   },
   {
    "duration": 109,
    "start_time": "2023-03-29T20:40:24.997Z"
   },
   {
    "duration": 39903,
    "start_time": "2023-03-29T20:40:25.109Z"
   },
   {
    "duration": 121,
    "start_time": "2023-03-29T20:41:05.014Z"
   },
   {
    "duration": 109,
    "start_time": "2023-03-29T20:41:05.138Z"
   },
   {
    "duration": 190,
    "start_time": "2023-03-29T20:41:05.249Z"
   },
   {
    "duration": 3,
    "start_time": "2023-03-29T20:41:05.441Z"
   },
   {
    "duration": 20,
    "start_time": "2023-03-29T20:41:05.446Z"
   },
   {
    "duration": 10,
    "start_time": "2023-03-29T20:41:05.468Z"
   },
   {
    "duration": 20,
    "start_time": "2023-03-29T20:41:05.479Z"
   },
   {
    "duration": 233,
    "start_time": "2023-03-29T20:41:05.501Z"
   },
   {
    "duration": 834,
    "start_time": "2023-03-29T20:41:05.737Z"
   },
   {
    "duration": 386,
    "start_time": "2023-03-29T20:41:06.574Z"
   },
   {
    "duration": 8,
    "start_time": "2023-03-29T20:41:06.962Z"
   },
   {
    "duration": 26,
    "start_time": "2023-03-29T20:41:06.972Z"
   },
   {
    "duration": 27,
    "start_time": "2023-03-29T20:41:07.000Z"
   },
   {
    "duration": 85,
    "start_time": "2023-03-29T20:41:07.029Z"
   },
   {
    "duration": 51086,
    "start_time": "2023-03-29T20:41:07.116Z"
   },
   {
    "duration": 31,
    "start_time": "2023-03-29T20:41:58.204Z"
   },
   {
    "duration": 96,
    "start_time": "2023-03-29T20:41:58.238Z"
   },
   {
    "duration": 299,
    "start_time": "2023-03-29T20:41:58.337Z"
   },
   {
    "duration": 718,
    "start_time": "2023-03-29T20:41:58.640Z"
   },
   {
    "duration": 670,
    "start_time": "2023-03-29T20:41:59.360Z"
   },
   {
    "duration": 86,
    "start_time": "2023-03-29T20:42:00.032Z"
   },
   {
    "duration": 207,
    "start_time": "2023-03-29T20:42:00.120Z"
   },
   {
    "duration": 8,
    "start_time": "2023-03-29T20:42:00.335Z"
   },
   {
    "duration": 97,
    "start_time": "2023-03-29T20:42:00.345Z"
   },
   {
    "duration": 90,
    "start_time": "2023-03-29T20:42:14.831Z"
   },
   {
    "duration": 52348,
    "start_time": "2023-03-29T20:42:36.894Z"
   },
   {
    "duration": 2271,
    "start_time": "2023-03-30T07:33:09.428Z"
   },
   {
    "duration": 234,
    "start_time": "2023-03-30T07:33:11.701Z"
   },
   {
    "duration": 109,
    "start_time": "2023-03-30T07:33:11.937Z"
   },
   {
    "duration": 8,
    "start_time": "2023-03-30T07:33:12.049Z"
   },
   {
    "duration": 35,
    "start_time": "2023-03-30T07:33:12.059Z"
   },
   {
    "duration": 27,
    "start_time": "2023-03-30T07:33:12.103Z"
   },
   {
    "duration": 20,
    "start_time": "2023-03-30T07:33:12.131Z"
   },
   {
    "duration": 41,
    "start_time": "2023-03-30T07:33:12.153Z"
   },
   {
    "duration": 69,
    "start_time": "2023-03-30T07:33:12.196Z"
   },
   {
    "duration": 11,
    "start_time": "2023-03-30T07:33:12.268Z"
   },
   {
    "duration": 102,
    "start_time": "2023-03-30T07:33:12.281Z"
   },
   {
    "duration": 20,
    "start_time": "2023-03-30T07:33:12.385Z"
   },
   {
    "duration": 106,
    "start_time": "2023-03-30T07:33:12.407Z"
   },
   {
    "duration": 44867,
    "start_time": "2023-03-30T07:33:12.517Z"
   },
   {
    "duration": 54,
    "start_time": "2023-03-30T07:33:57.386Z"
   },
   {
    "duration": 156,
    "start_time": "2023-03-30T07:33:57.443Z"
   },
   {
    "duration": 165,
    "start_time": "2023-03-30T07:33:57.601Z"
   },
   {
    "duration": 4,
    "start_time": "2023-03-30T07:33:57.769Z"
   },
   {
    "duration": 62,
    "start_time": "2023-03-30T07:33:57.774Z"
   },
   {
    "duration": 14,
    "start_time": "2023-03-30T07:33:57.838Z"
   },
   {
    "duration": 22,
    "start_time": "2023-03-30T07:33:57.854Z"
   },
   {
    "duration": 231,
    "start_time": "2023-03-30T07:33:57.878Z"
   },
   {
    "duration": 948,
    "start_time": "2023-03-30T07:33:58.113Z"
   },
   {
    "duration": 469,
    "start_time": "2023-03-30T07:33:59.063Z"
   },
   {
    "duration": 9,
    "start_time": "2023-03-30T07:33:59.534Z"
   },
   {
    "duration": 20,
    "start_time": "2023-03-30T07:33:59.545Z"
   },
   {
    "duration": 50,
    "start_time": "2023-03-30T07:33:59.568Z"
   },
   {
    "duration": 109,
    "start_time": "2023-03-30T07:33:59.625Z"
   },
   {
    "duration": 61093,
    "start_time": "2023-03-30T07:33:59.736Z"
   },
   {
    "duration": 37,
    "start_time": "2023-03-30T07:35:00.832Z"
   },
   {
    "duration": 160,
    "start_time": "2023-03-30T07:35:00.872Z"
   },
   {
    "duration": 401,
    "start_time": "2023-03-30T07:35:01.043Z"
   },
   {
    "duration": 888,
    "start_time": "2023-03-30T07:35:01.454Z"
   },
   {
    "duration": 814,
    "start_time": "2023-03-30T07:35:02.343Z"
   },
   {
    "duration": 100,
    "start_time": "2023-03-30T07:35:03.159Z"
   },
   {
    "duration": 306,
    "start_time": "2023-03-30T07:35:03.261Z"
   },
   {
    "duration": 7,
    "start_time": "2023-03-30T07:35:03.568Z"
   },
   {
    "duration": 55,
    "start_time": "2023-03-30T07:35:03.577Z"
   },
   {
    "duration": 145,
    "start_time": "2023-03-30T07:35:03.635Z"
   },
   {
    "duration": 60303,
    "start_time": "2023-03-30T07:48:28.526Z"
   },
   {
    "duration": 61303,
    "start_time": "2023-03-30T07:50:46.981Z"
   },
   {
    "duration": 92,
    "start_time": "2023-03-30T08:03:27.612Z"
   },
   {
    "duration": 1484,
    "start_time": "2023-03-30T08:04:16.950Z"
   },
   {
    "duration": 42,
    "start_time": "2023-03-30T08:04:18.437Z"
   },
   {
    "duration": 78,
    "start_time": "2023-03-30T08:04:18.481Z"
   },
   {
    "duration": 6,
    "start_time": "2023-03-30T08:04:18.562Z"
   },
   {
    "duration": 21,
    "start_time": "2023-03-30T08:04:18.587Z"
   },
   {
    "duration": 28,
    "start_time": "2023-03-30T08:04:18.612Z"
   },
   {
    "duration": 4,
    "start_time": "2023-03-30T08:04:18.642Z"
   },
   {
    "duration": 15,
    "start_time": "2023-03-30T08:04:18.648Z"
   },
   {
    "duration": 44,
    "start_time": "2023-03-30T08:04:18.664Z"
   },
   {
    "duration": 16,
    "start_time": "2023-03-30T08:04:18.711Z"
   },
   {
    "duration": 104,
    "start_time": "2023-03-30T08:04:18.729Z"
   },
   {
    "duration": 11,
    "start_time": "2023-03-30T08:04:18.835Z"
   },
   {
    "duration": 81,
    "start_time": "2023-03-30T08:04:18.847Z"
   },
   {
    "duration": 39892,
    "start_time": "2023-03-30T08:04:18.930Z"
   },
   {
    "duration": 19,
    "start_time": "2023-03-30T08:04:58.823Z"
   },
   {
    "duration": 20,
    "start_time": "2023-03-30T08:04:58.886Z"
   },
   {
    "duration": 199,
    "start_time": "2023-03-30T08:04:58.910Z"
   },
   {
    "duration": 6,
    "start_time": "2023-03-30T08:04:59.110Z"
   },
   {
    "duration": 9,
    "start_time": "2023-03-30T08:04:59.118Z"
   },
   {
    "duration": 12,
    "start_time": "2023-03-30T08:04:59.128Z"
   },
   {
    "duration": 5,
    "start_time": "2023-03-30T08:04:59.142Z"
   },
   {
    "duration": 149,
    "start_time": "2023-03-30T08:04:59.148Z"
   },
   {
    "duration": 817,
    "start_time": "2023-03-30T08:04:59.299Z"
   },
   {
    "duration": 415,
    "start_time": "2023-03-30T08:05:00.118Z"
   },
   {
    "duration": 8,
    "start_time": "2023-03-30T08:05:00.535Z"
   },
   {
    "duration": 91,
    "start_time": "2023-03-30T08:05:00.545Z"
   },
   {
    "duration": 97,
    "start_time": "2023-03-30T08:05:00.638Z"
   },
   {
    "duration": 119,
    "start_time": "2023-03-30T08:05:00.740Z"
   },
   {
    "duration": 57759,
    "start_time": "2023-03-30T08:05:00.861Z"
   },
   {
    "duration": 90,
    "start_time": "2023-03-30T08:05:58.622Z"
   },
   {
    "duration": 73,
    "start_time": "2023-03-30T08:05:58.719Z"
   },
   {
    "duration": 119,
    "start_time": "2023-03-30T08:05:58.794Z"
   },
   {
    "duration": 728,
    "start_time": "2023-03-30T08:05:58.996Z"
   },
   {
    "duration": 780,
    "start_time": "2023-03-30T08:05:59.727Z"
   },
   {
    "duration": 38,
    "start_time": "2023-03-30T08:06:00.512Z"
   },
   {
    "duration": 189,
    "start_time": "2023-03-30T08:06:00.553Z"
   },
   {
    "duration": 9,
    "start_time": "2023-03-30T08:06:00.745Z"
   },
   {
    "duration": 74,
    "start_time": "2023-03-30T08:06:00.756Z"
   },
   {
    "duration": 40726,
    "start_time": "2023-03-30T11:34:11.625Z"
   },
   {
    "duration": 35065,
    "start_time": "2023-03-30T12:10:28.314Z"
   },
   {
    "duration": 61,
    "start_time": "2023-03-30T18:26:48.500Z"
   },
   {
    "duration": 259,
    "start_time": "2023-03-30T18:28:14.680Z"
   },
   {
    "duration": 38022,
    "start_time": "2023-03-30T18:28:31.066Z"
   },
   {
    "duration": 195,
    "start_time": "2023-03-30T18:34:08.366Z"
   },
   {
    "duration": 219,
    "start_time": "2023-03-30T18:34:18.175Z"
   },
   {
    "duration": 92,
    "start_time": "2023-03-30T18:34:33.735Z"
   },
   {
    "duration": 253,
    "start_time": "2023-03-30T18:34:47.344Z"
   },
   {
    "duration": 41068,
    "start_time": "2023-03-30T18:38:41.894Z"
   },
   {
    "duration": 84,
    "start_time": "2023-03-30T18:44:48.577Z"
   },
   {
    "duration": 52494,
    "start_time": "2023-03-30T18:44:50.941Z"
   },
   {
    "duration": 29,
    "start_time": "2023-03-30T18:46:01.811Z"
   },
   {
    "duration": 4,
    "start_time": "2023-03-30T18:46:12.229Z"
   },
   {
    "duration": 95,
    "start_time": "2023-03-30T18:46:18.404Z"
   },
   {
    "duration": 646,
    "start_time": "2023-03-30T18:46:19.099Z"
   },
   {
    "duration": 639,
    "start_time": "2023-03-30T18:47:21.941Z"
   },
   {
    "duration": 32,
    "start_time": "2023-03-30T18:47:23.836Z"
   },
   {
    "duration": 148,
    "start_time": "2023-03-30T18:47:32.670Z"
   },
   {
    "duration": 135,
    "start_time": "2023-03-30T19:09:33.470Z"
   },
   {
    "duration": 41,
    "start_time": "2023-03-30T19:09:40.351Z"
   },
   {
    "duration": 33,
    "start_time": "2023-03-30T19:09:53.490Z"
   },
   {
    "duration": 169,
    "start_time": "2023-03-30T19:09:54.639Z"
   },
   {
    "duration": 14,
    "start_time": "2023-03-30T19:23:06.024Z"
   },
   {
    "duration": 13,
    "start_time": "2023-03-30T19:28:04.955Z"
   },
   {
    "duration": 159,
    "start_time": "2023-03-30T19:28:06.298Z"
   },
   {
    "duration": 27,
    "start_time": "2023-03-30T19:28:08.182Z"
   },
   {
    "duration": 137,
    "start_time": "2023-03-30T19:28:12.297Z"
   },
   {
    "duration": 7,
    "start_time": "2023-03-30T19:28:21.417Z"
   },
   {
    "duration": 20,
    "start_time": "2023-03-30T19:28:24.793Z"
   },
   {
    "duration": 1456,
    "start_time": "2023-03-30T19:28:48.111Z"
   },
   {
    "duration": 82,
    "start_time": "2023-03-30T19:28:49.569Z"
   },
   {
    "duration": 71,
    "start_time": "2023-03-30T19:28:49.653Z"
   },
   {
    "duration": 6,
    "start_time": "2023-03-30T19:28:49.727Z"
   },
   {
    "duration": 20,
    "start_time": "2023-03-30T19:28:49.735Z"
   },
   {
    "duration": 31,
    "start_time": "2023-03-30T19:28:49.757Z"
   },
   {
    "duration": 5,
    "start_time": "2023-03-30T19:28:49.789Z"
   },
   {
    "duration": 29,
    "start_time": "2023-03-30T19:28:49.795Z"
   },
   {
    "duration": 26,
    "start_time": "2023-03-30T19:28:49.826Z"
   },
   {
    "duration": 15,
    "start_time": "2023-03-30T19:28:49.856Z"
   },
   {
    "duration": 74,
    "start_time": "2023-03-30T19:28:49.888Z"
   },
   {
    "duration": 30,
    "start_time": "2023-03-30T19:28:49.964Z"
   },
   {
    "duration": 65,
    "start_time": "2023-03-30T19:28:49.995Z"
   },
   {
    "duration": 37762,
    "start_time": "2023-03-30T19:28:50.061Z"
   },
   {
    "duration": 66,
    "start_time": "2023-03-30T19:29:27.825Z"
   },
   {
    "duration": 93,
    "start_time": "2023-03-30T19:29:27.895Z"
   },
   {
    "duration": 155,
    "start_time": "2023-03-30T19:29:27.990Z"
   },
   {
    "duration": 3,
    "start_time": "2023-03-30T19:29:28.147Z"
   },
   {
    "duration": 107,
    "start_time": "2023-03-30T19:29:28.151Z"
   },
   {
    "duration": 8,
    "start_time": "2023-03-30T19:29:28.261Z"
   },
   {
    "duration": 6,
    "start_time": "2023-03-30T19:29:28.271Z"
   },
   {
    "duration": 215,
    "start_time": "2023-03-30T19:29:28.278Z"
   },
   {
    "duration": 892,
    "start_time": "2023-03-30T19:29:28.495Z"
   },
   {
    "duration": 254,
    "start_time": "2023-03-30T19:29:29.389Z"
   },
   {
    "duration": 41133,
    "start_time": "2023-03-30T19:29:29.645Z"
   },
   {
    "duration": 342,
    "start_time": "2023-03-30T19:30:10.780Z"
   },
   {
    "duration": 8,
    "start_time": "2023-03-30T19:30:11.124Z"
   },
   {
    "duration": 22,
    "start_time": "2023-03-30T19:30:11.136Z"
   },
   {
    "duration": 27,
    "start_time": "2023-03-30T19:30:11.160Z"
   },
   {
    "duration": 87,
    "start_time": "2023-03-30T19:30:11.189Z"
   },
   {
    "duration": 54194,
    "start_time": "2023-03-30T19:30:11.288Z"
   },
   {
    "duration": 35,
    "start_time": "2023-03-30T19:31:05.484Z"
   },
   {
    "duration": 71,
    "start_time": "2023-03-30T19:31:05.522Z"
   },
   {
    "duration": 205,
    "start_time": "2023-03-30T19:31:05.595Z"
   },
   {
    "duration": 720,
    "start_time": "2023-03-30T19:31:05.888Z"
   },
   {
    "duration": 17,
    "start_time": "2023-03-30T19:31:06.610Z"
   },
   {
    "duration": 178,
    "start_time": "2023-03-30T19:31:06.629Z"
   },
   {
    "duration": 35,
    "start_time": "2023-03-30T19:31:06.809Z"
   },
   {
    "duration": 171,
    "start_time": "2023-03-30T19:31:06.846Z"
   },
   {
    "duration": 6,
    "start_time": "2023-03-30T19:31:07.019Z"
   },
   {
    "duration": 21,
    "start_time": "2023-03-30T19:31:07.027Z"
   },
   {
    "duration": 1761,
    "start_time": "2023-03-31T03:02:09.962Z"
   },
   {
    "duration": 171,
    "start_time": "2023-03-31T03:02:11.726Z"
   },
   {
    "duration": 56,
    "start_time": "2023-03-31T03:02:11.898Z"
   },
   {
    "duration": 5,
    "start_time": "2023-03-31T03:02:11.956Z"
   },
   {
    "duration": 14,
    "start_time": "2023-03-31T03:02:11.963Z"
   },
   {
    "duration": 9,
    "start_time": "2023-03-31T03:02:11.979Z"
   },
   {
    "duration": 4,
    "start_time": "2023-03-31T03:02:11.989Z"
   },
   {
    "duration": 43,
    "start_time": "2023-03-31T03:02:11.994Z"
   },
   {
    "duration": 19,
    "start_time": "2023-03-31T03:02:12.038Z"
   },
   {
    "duration": 9,
    "start_time": "2023-03-31T03:02:12.059Z"
   },
   {
    "duration": 71,
    "start_time": "2023-03-31T03:02:12.069Z"
   },
   {
    "duration": 8,
    "start_time": "2023-03-31T03:02:12.141Z"
   },
   {
    "duration": 55,
    "start_time": "2023-03-31T03:02:12.150Z"
   },
   {
    "duration": 32882,
    "start_time": "2023-03-31T03:02:12.206Z"
   },
   {
    "duration": 51,
    "start_time": "2023-03-31T03:02:45.090Z"
   },
   {
    "duration": 91,
    "start_time": "2023-03-31T03:02:45.146Z"
   },
   {
    "duration": 153,
    "start_time": "2023-03-31T03:02:45.238Z"
   },
   {
    "duration": 3,
    "start_time": "2023-03-31T03:02:45.393Z"
   },
   {
    "duration": 21,
    "start_time": "2023-03-31T03:02:45.398Z"
   },
   {
    "duration": 12,
    "start_time": "2023-03-31T03:02:45.421Z"
   },
   {
    "duration": 6,
    "start_time": "2023-03-31T03:02:45.435Z"
   },
   {
    "duration": 193,
    "start_time": "2023-03-31T03:02:45.443Z"
   },
   {
    "duration": 697,
    "start_time": "2023-03-31T03:02:45.637Z"
   },
   {
    "duration": 208,
    "start_time": "2023-03-31T03:02:46.336Z"
   },
   {
    "duration": 36277,
    "start_time": "2023-03-31T03:02:46.545Z"
   },
   {
    "duration": 332,
    "start_time": "2023-03-31T03:03:22.823Z"
   },
   {
    "duration": 10,
    "start_time": "2023-03-31T03:03:23.157Z"
   },
   {
    "duration": 17,
    "start_time": "2023-03-31T03:03:23.171Z"
   },
   {
    "duration": 11,
    "start_time": "2023-03-31T03:03:23.190Z"
   },
   {
    "duration": 112,
    "start_time": "2023-03-31T03:03:23.202Z"
   },
   {
    "duration": 46421,
    "start_time": "2023-03-31T03:03:23.316Z"
   },
   {
    "duration": 23,
    "start_time": "2023-03-31T03:04:09.738Z"
   },
   {
    "duration": 180,
    "start_time": "2023-03-31T03:04:09.763Z"
   },
   {
    "duration": 191,
    "start_time": "2023-03-31T03:04:09.944Z"
   },
   {
    "duration": 619,
    "start_time": "2023-03-31T03:04:10.138Z"
   },
   {
    "duration": 14,
    "start_time": "2023-03-31T03:04:10.758Z"
   },
   {
    "duration": 156,
    "start_time": "2023-03-31T03:04:10.774Z"
   },
   {
    "duration": 29,
    "start_time": "2023-03-31T03:04:10.932Z"
   },
   {
    "duration": 168,
    "start_time": "2023-03-31T03:04:10.962Z"
   },
   {
    "duration": 7,
    "start_time": "2023-03-31T03:04:11.131Z"
   },
   {
    "duration": 37,
    "start_time": "2023-03-31T03:04:11.139Z"
   },
   {
    "duration": 1631,
    "start_time": "2023-03-31T10:33:07.354Z"
   },
   {
    "duration": 377,
    "start_time": "2023-03-31T10:33:08.987Z"
   },
   {
    "duration": 67,
    "start_time": "2023-03-31T10:33:09.366Z"
   },
   {
    "duration": 5,
    "start_time": "2023-03-31T10:33:09.435Z"
   },
   {
    "duration": 29,
    "start_time": "2023-03-31T10:33:09.442Z"
   },
   {
    "duration": 22,
    "start_time": "2023-03-31T10:33:09.473Z"
   },
   {
    "duration": 8,
    "start_time": "2023-03-31T10:33:09.497Z"
   },
   {
    "duration": 25,
    "start_time": "2023-03-31T10:33:09.506Z"
   },
   {
    "duration": 29,
    "start_time": "2023-03-31T10:33:09.533Z"
   },
   {
    "duration": 24,
    "start_time": "2023-03-31T10:33:09.564Z"
   },
   {
    "duration": 64,
    "start_time": "2023-03-31T10:33:09.590Z"
   },
   {
    "duration": 9,
    "start_time": "2023-03-31T10:33:09.656Z"
   },
   {
    "duration": 356,
    "start_time": "2023-03-31T10:33:09.667Z"
   },
   {
    "duration": 184484,
    "start_time": "2023-03-31T10:33:10.027Z"
   },
   {
    "duration": 25,
    "start_time": "2023-03-31T10:36:14.512Z"
   },
   {
    "duration": 94,
    "start_time": "2023-03-31T10:36:14.540Z"
   },
   {
    "duration": 227,
    "start_time": "2023-03-31T10:36:14.637Z"
   },
   {
    "duration": 4,
    "start_time": "2023-03-31T10:36:14.865Z"
   },
   {
    "duration": 15,
    "start_time": "2023-03-31T10:36:14.871Z"
   },
   {
    "duration": 8,
    "start_time": "2023-03-31T10:36:14.888Z"
   },
   {
    "duration": 12,
    "start_time": "2023-03-31T10:36:14.898Z"
   },
   {
    "duration": 229,
    "start_time": "2023-03-31T10:36:14.912Z"
   },
   {
    "duration": 817,
    "start_time": "2023-03-31T10:36:15.145Z"
   },
   {
    "duration": 250,
    "start_time": "2023-03-31T10:36:15.965Z"
   },
   {
    "duration": 1466,
    "start_time": "2023-03-31T10:37:24.411Z"
   },
   {
    "duration": 43,
    "start_time": "2023-03-31T10:37:25.879Z"
   },
   {
    "duration": 66,
    "start_time": "2023-03-31T10:37:25.926Z"
   },
   {
    "duration": 7,
    "start_time": "2023-03-31T10:37:25.994Z"
   },
   {
    "duration": 33,
    "start_time": "2023-03-31T10:37:26.003Z"
   },
   {
    "duration": 12,
    "start_time": "2023-03-31T10:37:26.038Z"
   },
   {
    "duration": 5,
    "start_time": "2023-03-31T10:37:26.052Z"
   },
   {
    "duration": 20,
    "start_time": "2023-03-31T10:37:26.058Z"
   },
   {
    "duration": 54,
    "start_time": "2023-03-31T10:37:26.080Z"
   },
   {
    "duration": 11,
    "start_time": "2023-03-31T10:37:26.136Z"
   },
   {
    "duration": 84,
    "start_time": "2023-03-31T10:37:26.149Z"
   },
   {
    "duration": 9,
    "start_time": "2023-03-31T10:37:26.235Z"
   },
   {
    "duration": 328,
    "start_time": "2023-03-31T10:37:26.248Z"
   },
   {
    "duration": 187549,
    "start_time": "2023-03-31T10:37:26.578Z"
   },
   {
    "duration": 20,
    "start_time": "2023-03-31T10:40:34.130Z"
   },
   {
    "duration": 82,
    "start_time": "2023-03-31T10:40:34.153Z"
   },
   {
    "duration": 219,
    "start_time": "2023-03-31T10:40:34.238Z"
   },
   {
    "duration": 3,
    "start_time": "2023-03-31T10:40:34.459Z"
   },
   {
    "duration": 30,
    "start_time": "2023-03-31T10:40:34.464Z"
   },
   {
    "duration": 5,
    "start_time": "2023-03-31T10:40:34.496Z"
   },
   {
    "duration": 12,
    "start_time": "2023-03-31T10:40:34.503Z"
   },
   {
    "duration": 225,
    "start_time": "2023-03-31T10:40:34.517Z"
   },
   {
    "duration": 820,
    "start_time": "2023-03-31T10:40:34.744Z"
   },
   {
    "duration": 583,
    "start_time": "2023-03-31T10:40:35.566Z"
   },
   {
    "duration": 201306,
    "start_time": "2023-03-31T10:40:36.151Z"
   },
   {
    "duration": 412,
    "start_time": "2023-03-31T10:43:57.459Z"
   },
   {
    "duration": 8,
    "start_time": "2023-03-31T10:43:57.873Z"
   },
   {
    "duration": 49,
    "start_time": "2023-03-31T10:43:57.882Z"
   },
   {
    "duration": 27,
    "start_time": "2023-03-31T10:43:57.933Z"
   },
   {
    "duration": 422,
    "start_time": "2023-03-31T10:43:57.962Z"
   },
   {
    "duration": 268156,
    "start_time": "2023-03-31T10:43:58.386Z"
   },
   {
    "duration": 96,
    "start_time": "2023-03-31T10:48:26.545Z"
   },
   {
    "duration": 96,
    "start_time": "2023-03-31T10:48:26.644Z"
   },
   {
    "duration": 294,
    "start_time": "2023-03-31T10:48:26.742Z"
   },
   {
    "duration": 791,
    "start_time": "2023-03-31T10:48:27.038Z"
   },
   {
    "duration": 15,
    "start_time": "2023-03-31T10:48:27.831Z"
   },
   {
    "duration": 180,
    "start_time": "2023-03-31T10:48:27.847Z"
   },
   {
    "duration": 69,
    "start_time": "2023-03-31T10:48:28.033Z"
   },
   {
    "duration": 181,
    "start_time": "2023-03-31T10:48:28.103Z"
   },
   {
    "duration": 7,
    "start_time": "2023-03-31T10:48:28.288Z"
   },
   {
    "duration": 55,
    "start_time": "2023-03-31T10:48:28.297Z"
   },
   {
    "duration": 334,
    "start_time": "2023-03-31T11:09:45.797Z"
   },
   {
    "duration": 206262,
    "start_time": "2023-03-31T11:12:10.123Z"
   },
   {
    "duration": 47,
    "start_time": "2023-03-31T11:15:36.387Z"
   },
   {
    "duration": 185,
    "start_time": "2023-03-31T11:26:24.049Z"
   },
   {
    "duration": 7,
    "start_time": "2023-03-31T11:26:25.545Z"
   },
   {
    "duration": 452,
    "start_time": "2023-03-31T18:44:33.448Z"
   },
   {
    "duration": 173326,
    "start_time": "2023-03-31T18:44:38.638Z"
   },
   {
    "duration": 414,
    "start_time": "2023-03-31T18:54:10.623Z"
   },
   {
    "duration": 371,
    "start_time": "2023-03-31T18:54:45.468Z"
   },
   {
    "duration": 4,
    "start_time": "2023-03-31T18:56:30.690Z"
   },
   {
    "duration": 1497,
    "start_time": "2023-03-31T18:58:24.683Z"
   },
   {
    "duration": 41,
    "start_time": "2023-03-31T18:58:26.182Z"
   },
   {
    "duration": 58,
    "start_time": "2023-03-31T18:58:26.225Z"
   },
   {
    "duration": 6,
    "start_time": "2023-03-31T18:58:26.285Z"
   },
   {
    "duration": 20,
    "start_time": "2023-03-31T18:58:26.292Z"
   },
   {
    "duration": 27,
    "start_time": "2023-03-31T18:58:26.313Z"
   },
   {
    "duration": 4,
    "start_time": "2023-03-31T18:58:26.341Z"
   },
   {
    "duration": 15,
    "start_time": "2023-03-31T18:58:26.346Z"
   },
   {
    "duration": 19,
    "start_time": "2023-03-31T18:58:26.362Z"
   },
   {
    "duration": 9,
    "start_time": "2023-03-31T18:58:26.383Z"
   },
   {
    "duration": 83,
    "start_time": "2023-03-31T18:58:26.393Z"
   },
   {
    "duration": 8,
    "start_time": "2023-03-31T18:58:26.478Z"
   },
   {
    "duration": 318,
    "start_time": "2023-03-31T18:58:26.487Z"
   },
   {
    "duration": 169857,
    "start_time": "2023-03-31T18:58:26.806Z"
   },
   {
    "duration": 176,
    "start_time": "2023-03-31T19:01:16.665Z"
   },
   {
    "duration": 92,
    "start_time": "2023-03-31T19:01:16.844Z"
   },
   {
    "duration": 228,
    "start_time": "2023-03-31T19:01:16.939Z"
   },
   {
    "duration": 3,
    "start_time": "2023-03-31T19:01:17.168Z"
   },
   {
    "duration": 11,
    "start_time": "2023-03-31T19:01:17.173Z"
   },
   {
    "duration": 9,
    "start_time": "2023-03-31T19:01:17.186Z"
   },
   {
    "duration": 11,
    "start_time": "2023-03-31T19:01:17.196Z"
   },
   {
    "duration": 135,
    "start_time": "2023-03-31T19:01:17.208Z"
   },
   {
    "duration": 626,
    "start_time": "2023-03-31T19:01:17.433Z"
   },
   {
    "duration": 467,
    "start_time": "2023-03-31T19:01:18.061Z"
   },
   {
    "duration": 173632,
    "start_time": "2023-03-31T19:01:18.533Z"
   },
   {
    "duration": 486,
    "start_time": "2023-03-31T19:04:12.167Z"
   },
   {
    "duration": 6,
    "start_time": "2023-03-31T19:04:12.654Z"
   },
   {
    "duration": 15,
    "start_time": "2023-03-31T19:04:12.663Z"
   },
   {
    "duration": 9,
    "start_time": "2023-03-31T19:04:12.680Z"
   },
   {
    "duration": 382,
    "start_time": "2023-03-31T19:04:12.690Z"
   },
   {
    "duration": 230910,
    "start_time": "2023-03-31T19:04:13.074Z"
   },
   {
    "duration": 56,
    "start_time": "2023-03-31T19:08:03.985Z"
   },
   {
    "duration": 100,
    "start_time": "2023-03-31T19:08:04.043Z"
   },
   {
    "duration": 395,
    "start_time": "2023-03-31T19:08:04.146Z"
   },
   {
    "duration": 803,
    "start_time": "2023-03-31T19:08:04.543Z"
   },
   {
    "duration": 11,
    "start_time": "2023-03-31T19:08:05.348Z"
   },
   {
    "duration": 131,
    "start_time": "2023-03-31T19:08:05.360Z"
   },
   {
    "duration": 73,
    "start_time": "2023-03-31T19:08:05.493Z"
   },
   {
    "duration": 150,
    "start_time": "2023-03-31T19:08:05.568Z"
   },
   {
    "duration": 14,
    "start_time": "2023-03-31T19:08:05.720Z"
   },
   {
    "duration": 18,
    "start_time": "2023-03-31T19:08:05.736Z"
   },
   {
    "duration": 12,
    "start_time": "2023-03-31T19:09:50.523Z"
   },
   {
    "duration": 528,
    "start_time": "2023-03-31T19:09:50.933Z"
   },
   {
    "duration": 67,
    "start_time": "2023-03-31T19:09:53.792Z"
   },
   {
    "duration": 158,
    "start_time": "2023-03-31T19:09:58.550Z"
   },
   {
    "duration": 5,
    "start_time": "2023-03-31T19:10:03.758Z"
   },
   {
    "duration": 34,
    "start_time": "2023-03-31T19:10:05.043Z"
   },
   {
    "duration": 1654,
    "start_time": "2023-04-01T05:14:09.329Z"
   },
   {
    "duration": 198,
    "start_time": "2023-04-01T05:14:10.985Z"
   },
   {
    "duration": 54,
    "start_time": "2023-04-01T05:14:11.185Z"
   },
   {
    "duration": 5,
    "start_time": "2023-04-01T05:14:11.240Z"
   },
   {
    "duration": 13,
    "start_time": "2023-04-01T05:14:11.247Z"
   },
   {
    "duration": 14,
    "start_time": "2023-04-01T05:14:11.273Z"
   },
   {
    "duration": 7,
    "start_time": "2023-04-01T05:14:11.289Z"
   },
   {
    "duration": 19,
    "start_time": "2023-04-01T05:14:11.298Z"
   },
   {
    "duration": 19,
    "start_time": "2023-04-01T05:14:11.319Z"
   },
   {
    "duration": 10,
    "start_time": "2023-04-01T05:14:11.339Z"
   },
   {
    "duration": 50,
    "start_time": "2023-04-01T05:14:11.383Z"
   },
   {
    "duration": 8,
    "start_time": "2023-04-01T05:14:11.435Z"
   },
   {
    "duration": 359,
    "start_time": "2023-04-01T05:14:11.444Z"
   },
   {
    "duration": 189395,
    "start_time": "2023-04-01T05:14:11.806Z"
   },
   {
    "duration": 90,
    "start_time": "2023-04-01T05:17:21.202Z"
   },
   {
    "duration": 187,
    "start_time": "2023-04-01T05:17:21.294Z"
   },
   {
    "duration": 134,
    "start_time": "2023-04-01T05:17:21.483Z"
   },
   {
    "duration": 3,
    "start_time": "2023-04-01T05:17:21.618Z"
   },
   {
    "duration": 20,
    "start_time": "2023-04-01T05:17:21.623Z"
   },
   {
    "duration": 20,
    "start_time": "2023-04-01T05:17:21.645Z"
   },
   {
    "duration": 35,
    "start_time": "2023-04-01T05:17:21.666Z"
   },
   {
    "duration": 88,
    "start_time": "2023-04-01T05:17:21.703Z"
   },
   {
    "duration": 672,
    "start_time": "2023-04-01T05:17:21.792Z"
   },
   {
    "duration": 525,
    "start_time": "2023-04-01T05:17:22.466Z"
   },
   {
    "duration": 191469,
    "start_time": "2023-04-01T05:17:22.998Z"
   },
   {
    "duration": 369,
    "start_time": "2023-04-01T05:20:34.469Z"
   },
   {
    "duration": 6,
    "start_time": "2023-04-01T05:20:34.839Z"
   },
   {
    "duration": 13,
    "start_time": "2023-04-01T05:20:34.847Z"
   },
   {
    "duration": 29,
    "start_time": "2023-04-01T05:20:34.862Z"
   },
   {
    "duration": 446,
    "start_time": "2023-04-01T05:20:34.898Z"
   },
   {
    "duration": 267692,
    "start_time": "2023-04-01T05:20:35.346Z"
   },
   {
    "duration": 50,
    "start_time": "2023-04-01T05:25:03.040Z"
   },
   {
    "duration": 7,
    "start_time": "2023-04-01T05:25:03.096Z"
   },
   {
    "duration": 317,
    "start_time": "2023-04-01T05:25:03.180Z"
   },
   {
    "duration": 802,
    "start_time": "2023-04-01T05:25:03.499Z"
   },
   {
    "duration": 16,
    "start_time": "2023-04-01T05:25:04.303Z"
   },
   {
    "duration": 715,
    "start_time": "2023-04-01T05:25:04.320Z"
   },
   {
    "duration": 93,
    "start_time": "2023-04-01T05:25:05.036Z"
   },
   {
    "duration": 204,
    "start_time": "2023-04-01T05:25:05.132Z"
   },
   {
    "duration": 8,
    "start_time": "2023-04-01T05:25:05.337Z"
   },
   {
    "duration": 46,
    "start_time": "2023-04-01T05:25:05.350Z"
   }
  ],
  "kernelspec": {
   "display_name": "Python 3 (ipykernel)",
   "language": "python",
   "name": "python3"
  },
  "language_info": {
   "codemirror_mode": {
    "name": "ipython",
    "version": 3
   },
   "file_extension": ".py",
   "mimetype": "text/x-python",
   "name": "python",
   "nbconvert_exporter": "python",
   "pygments_lexer": "ipython3",
   "version": "3.9.16"
  },
  "toc": {
   "base_numbering": 1,
   "nav_menu": {},
   "number_sections": true,
   "sideBar": true,
   "skip_h1_title": true,
   "title_cell": "Содержание",
   "title_sidebar": "Contents",
   "toc_cell": true,
   "toc_position": {
    "height": "calc(100% - 180px)",
    "left": "10px",
    "top": "150px",
    "width": "289.433px"
   },
   "toc_section_display": true,
   "toc_window_display": true
  }
 },
 "nbformat": 4,
 "nbformat_minor": 2
}
